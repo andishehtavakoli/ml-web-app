{
 "cells": [
  {
   "cell_type": "markdown",
   "metadata": {},
   "source": [
    "### Import Libraries"
   ]
  },
  {
   "cell_type": "code",
   "execution_count": 42,
   "metadata": {},
   "outputs": [],
   "source": [
    "import requests\n",
    "from dotenv import load_dotenv\n",
    "import os\n",
    "import json\n",
    "from pprint import pprint\n",
    "from loguru import logger"
   ]
  },
  {
   "cell_type": "markdown",
   "metadata": {},
   "source": [
    "### Load API Key"
   ]
  },
  {
   "cell_type": "code",
   "execution_count": 3,
   "metadata": {},
   "outputs": [],
   "source": [
    "load_dotenv()\n",
    "API_KEY= os.getenv('rapidapi-key')"
   ]
  },
  {
   "cell_type": "markdown",
   "metadata": {},
   "source": [
    "### product search and review urls"
   ]
  },
  {
   "cell_type": "code",
   "execution_count": 4,
   "metadata": {},
   "outputs": [],
   "source": [
    "product_search_url = \"https://real-time-amazon-data.p.rapidapi.com/search\"\n",
    "product_review_url = \"https://real-time-amazon-data.p.rapidapi.com/product-reviews\""
   ]
  },
  {
   "cell_type": "markdown",
   "metadata": {},
   "source": [
    "### Product Search Function"
   ]
  },
  {
   "cell_type": "code",
   "execution_count": 7,
   "metadata": {},
   "outputs": [],
   "source": [
    "# create Product Search Function\n",
    "def create_product_search(product_search_url, product):\n",
    "    url = product_search_url\n",
    "    querystring = {\"query\":product,\"page\":\"1\",\"country\":\"US\",\"sort_by\":\"RELEVANCE\",\"product_condition\":\"ALL\"}\n",
    "\n",
    "    headers = {\n",
    "        \"x-rapidapi-key\": API_KEY,\n",
    "        \"x-rapidapi-host\": \"real-time-amazon-data.p.rapidapi.com\"\n",
    "    }\n",
    "\n",
    "    response = requests.get(url, headers=headers, params=querystring)\n",
    "    response_search = response.json() \n",
    "    asin_no = response_search['data']['products'][0]['asin']\n",
    "\n",
    "    return asin_no\n"
   ]
  },
  {
   "cell_type": "code",
   "execution_count": 43,
   "metadata": {},
   "outputs": [],
   "source": [
    "def create_product_search(product_search_url, product):\n",
    "    url = product_search_url\n",
    "    querystring = {\"query\":product,\"page\":\"1\",\"country\":\"US\",\"sort_by\":\"RELEVANCE\",\"product_condition\":\"ALL\"}\n",
    "\n",
    "    headers = {\n",
    "        \"x-rapidapi-key\": API_KEY,\n",
    "        \"x-rapidapi-host\": \"real-time-amazon-data.p.rapidapi.com\"\n",
    "    }\n",
    "\n",
    "    response = requests.get(url, headers=headers, params=querystring)\n",
    "    response_search = response.json() \n",
    "    logger.info(response_search)\n",
    "    asin_no = response_search['data']['products'][0]['asin']\n",
    "    logger.info('asin_no')\n",
    "\n",
    "    return asin_no"
   ]
  },
  {
   "cell_type": "code",
   "execution_count": 44,
   "metadata": {},
   "outputs": [
    {
     "name": "stderr",
     "output_type": "stream",
     "text": [
      "\u001b[32m2024-07-29 16:01:29.253\u001b[0m | \u001b[1mINFO    \u001b[0m | \u001b[36m__main__\u001b[0m:\u001b[36mcreate_product_search\u001b[0m:\u001b[36m12\u001b[0m - \u001b[1m{'status': 'OK', 'request_id': '5ca9c1fa-921b-423e-8b3b-36ffc23e16e0', 'parameters': {'query': 'phone', 'country': 'US', 'sort_by': 'RELEVANCE', 'page': 1}, 'data': {'total_products': 10616, 'country': 'US', 'domain': 'www.amazon.com', 'products': [{'asin': 'B0BQ118F2T', 'product_title': 'Moto G Play 2023 3-Day Battery Unlocked Made for US 3/32GB 16MP Camera Navy Blue', 'product_price': '$99.99', 'product_original_price': '$169.99', 'currency': 'USD', 'product_star_rating': '4', 'product_num_ratings': 2907, 'product_url': 'https://www.amazon.com/dp/B0BQ118F2T', 'product_photo': 'https://m.media-amazon.com/images/I/61K1Fz5LxvL._AC_UY654_FMwebp_QL65_.jpg', 'product_num_offers': 10, 'product_minimum_offer_price': '$68.25', 'is_best_seller': False, 'is_amazon_choice': False, 'is_prime': True, 'climate_pledge_friendly': False, 'sales_volume': '6K+ bought in past month', 'delivery': 'FREE delivery Sat, Aug 3 Or fastest delivery Wed, Jul 31', 'has_variations': True}, {'asin': 'B0CTD47P22', 'product_title': 'SAMSUNG Galaxy A15 5G (SM-156M/DSN), 128GB 6GB RAM, Dual SIM, Factory Unlocked GSM, International Version (Wall Charger Bundle) (Light Blue)', 'product_price': '$149.74', 'product_original_price': '$158.00', 'currency': 'USD', 'product_star_rating': '4.3', 'product_num_ratings': 124, 'product_url': 'https://www.amazon.com/dp/B0CTD47P22', 'product_photo': 'https://m.media-amazon.com/images/I/51QhB2CfqSL._AC_UY654_FMwebp_QL65_.jpg', 'product_num_offers': 8, 'product_minimum_offer_price': '$119.99', 'is_best_seller': False, 'is_amazon_choice': False, 'is_prime': True, 'climate_pledge_friendly': False, 'sales_volume': '2K+ bought in past month', 'delivery': 'FREE delivery Sat, Aug 3 Or fastest delivery Wed, Jul 31', 'has_variations': False}, {'asin': 'B0CHH6X6H2', 'product_title': 'Total by Verizon | Samsung Galaxy A03s | Locked | 32GB | 5000mAh Battery | 48MP Main Camera | 6.5-in. HD+Infinity-V Display | Black', 'product_price': '$49.88', 'product_original_price': None, 'currency': 'USD', 'product_star_rating': '4', 'product_num_ratings': 195, 'product_url': 'https://www.amazon.com/dp/B0CHH6X6H2', 'product_photo': 'https://m.media-amazon.com/images/I/812woqv69CL._AC_UY654_FMwebp_QL65_.jpg', 'product_num_offers': 3, 'product_minimum_offer_price': '$49.34', 'is_best_seller': False, 'is_amazon_choice': False, 'is_prime': True, 'climate_pledge_friendly': False, 'sales_volume': '2K+ bought in past month', 'delivery': 'FREE delivery Sat, Aug 3 Or fastest delivery Thu, Aug 1', 'has_variations': False}, {'asin': 'B0CN1QSH8Q', 'product_title': 'SAMSUNG Galaxy A15 5G A Series Cell Phone, 128GB Unlocked Android Smartphone, AMOLED Display, Expandable Storage, Knox Security, Super Fast Charging, Hi-Res Camera, US Version, 2024, Blue Black', 'product_price': '$199.99', 'product_original_price': None, 'currency': 'USD', 'product_star_rating': '4.1', 'product_num_ratings': 411, 'product_url': 'https://www.amazon.com/dp/B0CN1QSH8Q', 'product_photo': 'https://m.media-amazon.com/images/I/61s0ZzwzSCL._AC_UY654_FMwebp_QL65_.jpg', 'product_num_offers': 2, 'product_minimum_offer_price': '$154.04', 'is_best_seller': False, 'is_amazon_choice': False, 'is_prime': True, 'climate_pledge_friendly': True, 'sales_volume': '3K+ bought in past month', 'delivery': 'FREE delivery Sat, Aug 3 Or fastest delivery Wed, Jul 31', 'has_variations': True}, {'asin': 'B0CV4NQYFP', 'product_title': 'SAMSUNG Galaxy A35 5G A Series Cell Phone, 128GB Unlocked Android Smartphone, AMOLED Display, Advanced Triple Camera System, Expandable Storage, Rugged Design, US Version, 2024, Awesome Navy', 'product_price': '$349.99', 'product_original_price': '$399.99', 'currency': 'USD', 'product_star_rating': '4.4', 'product_num_ratings': 102, 'product_url': 'https://www.amazon.com/dp/B0CV4NQYFP', 'product_photo': 'https://m.media-amazon.com/images/I/71OznGGxhcL._AC_UY654_FMwebp_QL65_.jpg', 'product_num_offers': 2, 'product_minimum_offer_price': '$276.49', 'is_best_seller': False, 'is_amazon_choice': False, 'is_prime': True, 'climate_pledge_friendly': True, 'sales_volume': '3K+ bought in past month', 'delivery': 'FREE delivery Sat, Aug 3 Or fastest delivery Wed, Jul 31', 'has_variations': True}, {'asin': 'B0BLZN9NDG', 'product_title': 'SAMSUNG,Galaxy A04e (SM-A042M/DS) Dual SIM 32GB,6.5&#x27;&#x27; GSM Unlocked,International Version-Black', 'product_price': '$83.00', 'product_original_price': '$105.00', 'currency': 'USD', 'product_star_rating': '3.9', 'product_num_ratings': 609, 'product_url': 'https://www.amazon.com/dp/B0BLZN9NDG', 'product_photo': 'https://m.media-amazon.com/images/I/71O2YkTlq-L._AC_UY654_FMwebp_QL65_.jpg', 'product_num_offers': 9, 'product_minimum_offer_price': '$81.18', 'is_best_seller': False, 'is_amazon_choice': False, 'is_prime': True, 'climate_pledge_friendly': False, 'sales_volume': '1K+ bought in past month', 'delivery': 'FREE delivery Sat, Aug 3 Or fastest delivery Fri, Aug 2', 'has_variations': True}, {'asin': 'B0CMDRFVTL', 'product_title': 'SAMSUNG Galaxy S24 Cell Phone, 256GB AI Smartphone, Unlocked Android, 50MP Camera, Fastest Processor, Long Battery Life, US Version, 2024, Cobalt Violet', 'product_price': None, 'product_original_price': None, 'currency': None, 'product_star_rating': '4.5', 'product_num_ratings': 38, 'product_url': 'https://www.amazon.com/dp/B0CMDRFVTL', 'product_photo': 'https://m.media-amazon.com/images/I/716UvwH-NvL._AC_UY654_FMwebp_QL65_.jpg', 'product_num_offers': 1, 'product_minimum_offer_price': None, 'is_best_seller': False, 'is_amazon_choice': False, 'is_prime': True, 'climate_pledge_friendly': True, 'sales_volume': '1K+ bought in past month', 'delivery': 'FREE delivery Sat, Aug 3 Or fastest delivery Wed, Jul 31', 'has_variations': False}, {'asin': 'B0BZ9XNBRB', 'product_title': 'Google Pixel 7a - Unlocked Android Cell Phone - Smartphone with Wide Angle Lens and 24-Hour Battery - 128 GB – Charcoal', 'product_price': '$339.00', 'product_original_price': '$499.00', 'currency': 'USD', 'product_star_rating': '4.3', 'product_num_ratings': 2232, 'product_url': 'https://www.amazon.com/dp/B0BZ9XNBRB', 'product_photo': 'https://m.media-amazon.com/images/I/61r7cCpQPlL._AC_UY654_FMwebp_QL65_.jpg', 'product_num_offers': 34, 'product_minimum_offer_price': '$308.20', 'is_best_seller': False, 'is_amazon_choice': False, 'is_prime': True, 'climate_pledge_friendly': False, 'sales_volume': '10K+ bought in past month', 'delivery': 'FREE delivery Thu, Aug 1', 'has_variations': True}, {'asin': 'B086QB7WZ1', 'product_title': 'AT&amp;T BL102-2 DECT 6.0 2-Handset Cordless Phone for Home with Answering Machine, Call Blocking, Caller ID Announcer, Audio Assist, Intercom, and Unsurpassed Range, Silver/Black', 'product_price': '$48.75', 'product_original_price': '$56.95', 'currency': 'USD', 'product_star_rating': '4.3', 'product_num_ratings': 26645, 'product_url': 'https://www.amazon.com/dp/B086QB7WZ1', 'product_photo': 'https://m.media-amazon.com/images/I/81vjTHTF9WL._AC_UY654_FMwebp_QL65_.jpg', 'product_num_offers': 4, 'product_minimum_offer_price': '$21.36', 'is_best_seller': True, 'is_amazon_choice': False, 'is_prime': True, 'climate_pledge_friendly': False, 'sales_volume': '5K+ bought in past month', 'delivery': 'FREE delivery Sat, Aug 3 Or fastest delivery Fri, Aug 2', 'has_variations': False}, {'asin': 'B0CHHL5R3H', 'product_title': 'Total by Verizon TCL 30 Z, 32GB, Black - Prepaid Smartphone (Locked)', 'product_price': '$39.99', 'product_original_price': None, 'currency': 'USD', 'product_star_rating': '3.8', 'product_num_ratings': 38, 'product_url': 'https://www.amazon.com/dp/B0CHHL5R3H', 'product_photo': 'https://m.media-amazon.com/images/I/718+xprSIBL._AC_UY654_FMwebp_QL65_.jpg', 'product_num_offers': 1, 'product_minimum_offer_price': '$39.99', 'is_best_seller': False, 'is_amazon_choice': False, 'is_prime': True, 'climate_pledge_friendly': False, 'sales_volume': '300+ bought in past month', 'delivery': 'FREE delivery Sat, Aug 3 Or fastest delivery Wed, Jul 31', 'has_variations': False}, {'asin': 'B0CGTD5KVT', 'product_title': 'Google Pixel 8 - Unlocked Android Smartphone with Advanced Pixel Camera, 24-Hour Battery, and Powerful Security - Obsidian - 128 GB', 'product_price': '$544.00', 'product_original_price': '$699.00', 'currency': 'USD', 'product_star_rating': '4.3', 'product_num_ratings': 2081, 'product_url': 'https://www.amazon.com/dp/B0CGTD5KVT', 'product_photo': 'https://m.media-amazon.com/images/I/81Mya-dPIOL._AC_UY654_FMwebp_QL65_.jpg', 'product_num_offers': 11, 'product_minimum_offer_price': '$487.70', 'is_best_seller': False, 'is_amazon_choice': False, 'is_prime': False, 'product_availability': 'Only 10 left in stock - order soon.', 'climate_pledge_friendly': False, 'sales_volume': '2K+ bought in past month', 'delivery': 'FREE delivery Thu, Aug 1 Or fastest delivery Wed, Jul 31 Only 10 left in stock - order soon.', 'has_variations': True}, {'asin': 'B09SM24S8C', 'product_title': 'Samsung Galaxy A03s Cell Phone, AT&amp;T GSM Unlocked Android Smartphone, 32GB, Long Lasting Battery, Expandable Storage, 3 Camera Lenses, Infinite Display - Black (Renewed)', 'product_price': '$75.00', 'product_original_price': '$87.14', 'currency': 'USD', 'product_star_rating': '3.9', 'product_num_ratings': 457, 'product_url': 'https://www.amazon.com/dp/B09SM24S8C', 'product_photo': 'https://m.media-amazon.com/images/I/51m45B3Yy+L._AC_UY654_FMwebp_QL65_.jpg', 'product_num_offers': 30, 'product_minimum_offer_price': '$61.25', 'is_best_seller': False, 'is_amazon_choice': False, 'is_prime': False, 'product_availability': 'Only 12 left in stock - order soon.', 'climate_pledge_friendly': False, 'sales_volume': 'List Price: ', 'delivery': 'FREE delivery Thu, Aug 1 Only 12 left in stock - order soon.', 'has_variations': True}, {'asin': 'B0CCSZZGT7', 'product_title': 'TracFone Motorola moto g Play, 32GB, Black - Prepaid Smartphone (Locked)', 'product_price': '$47.37', 'product_original_price': '$49.99', 'currency': 'USD', 'product_star_rating': '4', 'product_num_ratings': 210, 'product_url': 'https://www.amazon.com/dp/B0CCSZZGT7', 'product_photo': 'https://m.media-amazon.com/images/I/71pGGUaxezL._AC_UY654_FMwebp_QL65_.jpg', 'product_num_offers': 1, 'product_minimum_offer_price': '$47.37', 'is_best_seller': False, 'is_amazon_choice': False, 'is_prime': True, 'climate_pledge_friendly': False, 'sales_volume': '500+ bought in past month', 'delivery': 'FREE delivery Sat, Aug 3 Or fastest delivery Wed, Jul 31', 'has_variations': False}, {'asin': 'B0CP6DDN1H', 'product_title': 'Moto G Play | 2024 | Unlocked | Made for US 4/64GB | 50MP Camera | Sapphire Blue', 'product_price': '$129.99', 'product_original_price': '$149.99', 'currency': 'USD', 'product_star_rating': '4', 'product_num_ratings': 92, 'product_url': 'https://www.amazon.com/dp/B0CP6DDN1H', 'product_photo': 'https://m.media-amazon.com/images/I/61xk4XNRktL._AC_UY654_FMwebp_QL65_.jpg', 'product_num_offers': 4, 'product_minimum_offer_price': '$110.00', 'is_best_seller': False, 'is_amazon_choice': False, 'is_prime': True, 'climate_pledge_friendly': False, 'sales_volume': '1K+ bought in past month', 'delivery': 'FREE delivery Sat, Aug 3 Or fastest delivery Wed, Jul 31', 'has_variations': False}, {'asin': 'B0D5T7318W', 'product_title': 'Bold K10 | 2024 | 3-Day Battery | Unlocked | 6.6” HD+ Infinity Display | 128/4GB | Triple 50MP Camera | US Version | US Warranty | Black', 'product_price': '$99.99', 'product_original_price': None, 'currency': 'USD', 'product_star_rating': '3.5', 'product_num_ratings': 6, 'product_url': 'https://www.amazon.com/dp/B0D5T7318W', 'product_photo': 'https://m.media-amazon.com/images/I/716qo4kxJzL._AC_UY654_FMwebp_QL65_.jpg', 'product_num_offers': 4, 'product_minimum_offer_price': '$99.95', 'is_best_seller': False, 'is_amazon_choice': False, 'is_prime': True, 'climate_pledge_friendly': False, 'sales_volume': '200+ bought in past month', 'delivery': 'FREE delivery Sat, Aug 3 Or fastest delivery Wed, Jul 31', 'has_variations': False}, {'asin': 'B0CHH1N9VY', 'product_title': 'TracFone | Motorola Moto g Pure | Locked | 32GB | 4000 mAh Battery | 13 MP Dual Camera System | 6.5&quot; Max Vision HD+ Display | Blue', 'product_price': '$49.43', 'product_original_price': None, 'currency': 'USD', 'product_star_rating': '4.2', 'product_num_ratings': 2770, 'product_url': 'https://www.amazon.com/dp/B0CHH1N9VY', 'product_photo': 'https://m.media-amazon.com/images/I/71zGrrAe5NL._AC_UY654_FMwebp_QL65_.jpg', 'product_num_offers': 3, 'product_minimum_offer_price': '$43.99', 'is_best_seller': False, 'is_amazon_choice': False, 'is_prime': True, 'climate_pledge_friendly': False, 'sales_volume': '500+ bought in past month', 'delivery': 'FREE delivery Sat, Aug 3 Or fastest delivery Wed, Jul 31', 'has_variations': False}]}}\u001b[0m\n",
      "\u001b[32m2024-07-29 16:01:29.257\u001b[0m | \u001b[1mINFO    \u001b[0m | \u001b[36m__main__\u001b[0m:\u001b[36mcreate_product_search\u001b[0m:\u001b[36m14\u001b[0m - \u001b[1masin_no\u001b[0m\n"
     ]
    },
    {
     "data": {
      "text/plain": [
       "'B0BQ118F2T'"
      ]
     },
     "execution_count": 44,
     "metadata": {},
     "output_type": "execute_result"
    }
   ],
   "source": [
    "create_product_search(product_search_url, 'phone')"
   ]
  },
  {
   "cell_type": "markdown",
   "metadata": {},
   "source": [
    "### Product Review Function"
   ]
  },
  {
   "cell_type": "code",
   "execution_count": 9,
   "metadata": {},
   "outputs": [],
   "source": [
    "# Create Product Review Function\n",
    "def create_product_review(product_review_url, product_search_url, product):\n",
    "\tasin_no = create_product_search(product_search_url, product)\n",
    "\n",
    "\n",
    "\tquerystring = {\"asin\":asin_no,\"country\":\"US\",\"sort_by\":\"TOP_REVIEWS\",\"star_rating\":\"ALL\",\"verified_purchases_only\":\"false\",\"images_or_videos_only\":\"false\",\"current_format_only\":\"false\",\"page\":\"1\"}\n",
    "\n",
    "\theaders = {\n",
    "\t\t\"x-rapidapi-key\": API_KEY,\n",
    "\t\t\"x-rapidapi-host\": \"real-time-amazon-data.p.rapidapi.com\"\n",
    "\t}\n",
    "\n",
    "\tresponse_ = requests.get(product_review_url, headers=headers, params=querystring)\n",
    "\tresponse_search = response_.json()\n",
    "\treviews_responce = response_search['data']['reviews']\n",
    "\n",
    "\treturn reviews_responce"
   ]
  },
  {
   "cell_type": "markdown",
   "metadata": {},
   "source": [
    "### Review Comments"
   ]
  },
  {
   "cell_type": "code",
   "execution_count": 29,
   "metadata": {},
   "outputs": [],
   "source": [
    "def get_review_comments(product_review_url, product_search_url, product):\n",
    "    reviews_responce = create_product_review(product_review_url, product_search_url, product)\n",
    "  \n",
    "\n",
    "    # review_lst = []\n",
    "    # for item in reviews_responce[0]['review_comment']:\n",
    "    #     review_lst.append(item)\n",
    "        \n",
    "\n",
    "\n",
    "    review_comment_lst = []\n",
    "    for i in range(len(reviews_responce)):\n",
    "        \n",
    "        review_comment_dict = {\n",
    "            'No': i+1,\n",
    "            'review comment': reviews_responce[i]['review_comment']\n",
    "        }\n",
    "        review_comment_lst.append(review_comment_dict)\n",
    "\n",
    "    return review_comment_lst"
   ]
  },
  {
   "cell_type": "code",
   "execution_count": 31,
   "metadata": {},
   "outputs": [],
   "source": [
    "reviews = get_review_comments(product_review_url, product_search_url, 'phone')"
   ]
  },
  {
   "cell_type": "markdown",
   "metadata": {},
   "source": [
    "### Save Reviews"
   ]
  },
  {
   "cell_type": "code",
   "execution_count": 37,
   "metadata": {},
   "outputs": [],
   "source": [
    "def save_review(review_comments):\n",
    "    \n",
    "    with open('reviews.json', 'w') as f:\n",
    "        json.dump(review_comments, f, indent=4)"
   ]
  },
  {
   "cell_type": "code",
   "execution_count": 38,
   "metadata": {},
   "outputs": [],
   "source": [
    "save_review(reviews)"
   ]
  },
  {
   "cell_type": "code",
   "execution_count": null,
   "metadata": {},
   "outputs": [],
   "source": []
  },
  {
   "cell_type": "code",
   "execution_count": null,
   "metadata": {},
   "outputs": [],
   "source": []
  },
  {
   "cell_type": "code",
   "execution_count": null,
   "metadata": {},
   "outputs": [],
   "source": []
  },
  {
   "cell_type": "code",
   "execution_count": 3,
   "metadata": {},
   "outputs": [],
   "source": [
    "response_search = response.json() "
   ]
  },
  {
   "cell_type": "code",
   "execution_count": 4,
   "metadata": {},
   "outputs": [
    {
     "data": {
      "text/plain": [
       "dict_keys(['status', 'request_id', 'parameters', 'data'])"
      ]
     },
     "execution_count": 4,
     "metadata": {},
     "output_type": "execute_result"
    }
   ],
   "source": [
    "response_search.keys()"
   ]
  },
  {
   "cell_type": "code",
   "execution_count": 18,
   "metadata": {},
   "outputs": [
    {
     "data": {
      "text/plain": [
       "{'status': 'OK',\n",
       " 'request_id': 'cb3b57c5-6dbb-40ec-973f-a2301addc190',\n",
       " 'parameters': {'query': 'Phone',\n",
       "  'country': 'US',\n",
       "  'sort_by': 'RELEVANCE',\n",
       "  'page': 1},\n",
       " 'data': {'total_products': 10577,\n",
       "  'country': 'US',\n",
       "  'domain': 'www.amazon.com',\n",
       "  'products': [{'asin': 'B0BQ118F2T',\n",
       "    'product_title': 'Moto G Play 2023 3-Day Battery Unlocked Made for US 3/32GB 16MP Camera Navy Blue',\n",
       "    'product_price': '$99.99',\n",
       "    'product_original_price': '$169.99',\n",
       "    'currency': 'USD',\n",
       "    'product_star_rating': '4',\n",
       "    'product_num_ratings': 2907,\n",
       "    'product_url': 'https://www.amazon.com/dp/B0BQ118F2T',\n",
       "    'product_photo': 'https://m.media-amazon.com/images/I/61K1Fz5LxvL._AC_UY654_FMwebp_QL65_.jpg',\n",
       "    'product_num_offers': 10,\n",
       "    'product_minimum_offer_price': '$68.25',\n",
       "    'is_best_seller': False,\n",
       "    'is_amazon_choice': False,\n",
       "    'is_prime': True,\n",
       "    'climate_pledge_friendly': False,\n",
       "    'sales_volume': '6K+ bought in past month',\n",
       "    'delivery': 'FREE delivery Sat, Aug 3 Or fastest delivery Wed, Jul 31',\n",
       "    'has_variations': True},\n",
       "   {'asin': 'B0CHH6X6H2',\n",
       "    'product_title': 'Total by Verizon | Samsung Galaxy A03s | Locked | 32GB | 5000mAh Battery | 48MP Main Camera | 6.5-in. HD+Infinity-V Display | Black',\n",
       "    'product_price': '$49.88',\n",
       "    'product_original_price': None,\n",
       "    'currency': 'USD',\n",
       "    'product_star_rating': '4',\n",
       "    'product_num_ratings': 195,\n",
       "    'product_url': 'https://www.amazon.com/dp/B0CHH6X6H2',\n",
       "    'product_photo': 'https://m.media-amazon.com/images/I/812woqv69CL._AC_UY654_FMwebp_QL65_.jpg',\n",
       "    'product_num_offers': 3,\n",
       "    'product_minimum_offer_price': '$49.34',\n",
       "    'is_best_seller': False,\n",
       "    'is_amazon_choice': False,\n",
       "    'is_prime': True,\n",
       "    'climate_pledge_friendly': False,\n",
       "    'sales_volume': '2K+ bought in past month',\n",
       "    'delivery': 'FREE delivery Sat, Aug 3 Or fastest delivery Thu, Aug 1',\n",
       "    'has_variations': False},\n",
       "   {'asin': 'B0CTD47P22',\n",
       "    'product_title': 'SAMSUNG Galaxy A15 5G (SM-156M/DSN), 128GB 6GB RAM, Dual SIM, Factory Unlocked GSM, International Version (Wall Charger Bundle) (Light Blue)',\n",
       "    'product_price': '$149.74',\n",
       "    'product_original_price': '$158.00',\n",
       "    'currency': 'USD',\n",
       "    'product_star_rating': '4.3',\n",
       "    'product_num_ratings': 124,\n",
       "    'product_url': 'https://www.amazon.com/dp/B0CTD47P22',\n",
       "    'product_photo': 'https://m.media-amazon.com/images/I/51QhB2CfqSL._AC_UY654_FMwebp_QL65_.jpg',\n",
       "    'product_num_offers': 8,\n",
       "    'product_minimum_offer_price': '$119.99',\n",
       "    'is_best_seller': False,\n",
       "    'is_amazon_choice': False,\n",
       "    'is_prime': True,\n",
       "    'climate_pledge_friendly': False,\n",
       "    'sales_volume': '2K+ bought in past month',\n",
       "    'delivery': 'FREE delivery Sat, Aug 3 Or fastest delivery Wed, Jul 31',\n",
       "    'has_variations': False},\n",
       "   {'asin': 'B0CN1QSH8Q',\n",
       "    'product_title': 'SAMSUNG Galaxy A15 5G A Series Cell Phone, 128GB Unlocked Android Smartphone, AMOLED Display, Expandable Storage, Knox Security, Super Fast Charging, Hi-Res Camera, US Version, 2024, Blue Black',\n",
       "    'product_price': '$199.99',\n",
       "    'product_original_price': None,\n",
       "    'currency': 'USD',\n",
       "    'product_star_rating': '4.1',\n",
       "    'product_num_ratings': 411,\n",
       "    'product_url': 'https://www.amazon.com/dp/B0CN1QSH8Q',\n",
       "    'product_photo': 'https://m.media-amazon.com/images/I/61s0ZzwzSCL._AC_UY654_FMwebp_QL65_.jpg',\n",
       "    'product_num_offers': 2,\n",
       "    'product_minimum_offer_price': '$154.04',\n",
       "    'is_best_seller': False,\n",
       "    'is_amazon_choice': False,\n",
       "    'is_prime': True,\n",
       "    'climate_pledge_friendly': True,\n",
       "    'sales_volume': '3K+ bought in past month',\n",
       "    'delivery': 'FREE delivery Sat, Aug 3 Or fastest delivery Wed, Jul 31',\n",
       "    'has_variations': True},\n",
       "   {'asin': 'B086QB7WZ1',\n",
       "    'product_title': 'AT&amp;T BL102-2 DECT 6.0 2-Handset Cordless Phone for Home with Answering Machine, Call Blocking, Caller ID Announcer, Audio Assist, Intercom, and Unsurpassed Range, Silver/Black',\n",
       "    'product_price': '$48.75',\n",
       "    'product_original_price': '$56.95',\n",
       "    'currency': 'USD',\n",
       "    'product_star_rating': '4.3',\n",
       "    'product_num_ratings': 26645,\n",
       "    'product_url': 'https://www.amazon.com/dp/B086QB7WZ1',\n",
       "    'product_photo': 'https://m.media-amazon.com/images/I/81vjTHTF9WL._AC_UY654_FMwebp_QL65_.jpg',\n",
       "    'product_num_offers': 4,\n",
       "    'product_minimum_offer_price': '$21.36',\n",
       "    'is_best_seller': True,\n",
       "    'is_amazon_choice': False,\n",
       "    'is_prime': True,\n",
       "    'climate_pledge_friendly': False,\n",
       "    'sales_volume': '5K+ bought in past month',\n",
       "    'delivery': 'FREE delivery Sat, Aug 3 Or fastest delivery Wed, Jul 31',\n",
       "    'has_variations': False},\n",
       "   {'asin': 'B0CV4NQYFP',\n",
       "    'product_title': 'SAMSUNG Galaxy A35 5G A Series Cell Phone, 128GB Unlocked Android Smartphone, AMOLED Display, Advanced Triple Camera System, Expandable Storage, Rugged Design, US Version, 2024, Awesome Navy',\n",
       "    'product_price': '$349.99',\n",
       "    'product_original_price': '$399.99',\n",
       "    'currency': 'USD',\n",
       "    'product_star_rating': '4.4',\n",
       "    'product_num_ratings': 102,\n",
       "    'product_url': 'https://www.amazon.com/dp/B0CV4NQYFP',\n",
       "    'product_photo': 'https://m.media-amazon.com/images/I/71OznGGxhcL._AC_UY654_FMwebp_QL65_.jpg',\n",
       "    'product_num_offers': 2,\n",
       "    'product_minimum_offer_price': '$276.49',\n",
       "    'is_best_seller': False,\n",
       "    'is_amazon_choice': False,\n",
       "    'is_prime': True,\n",
       "    'climate_pledge_friendly': True,\n",
       "    'sales_volume': '3K+ bought in past month',\n",
       "    'delivery': 'FREE delivery Sat, Aug 3 Or fastest delivery Wed, Jul 31',\n",
       "    'has_variations': True},\n",
       "   {'asin': 'B0BLZN9NDG',\n",
       "    'product_title': 'SAMSUNG,Galaxy A04e (SM-A042M/DS) Dual SIM 32GB,6.5&#x27;&#x27; GSM Unlocked,International Version-Black',\n",
       "    'product_price': '$83.00',\n",
       "    'product_original_price': '$105.00',\n",
       "    'currency': 'USD',\n",
       "    'product_star_rating': '3.9',\n",
       "    'product_num_ratings': 609,\n",
       "    'product_url': 'https://www.amazon.com/dp/B0BLZN9NDG',\n",
       "    'product_photo': 'https://m.media-amazon.com/images/I/71O2YkTlq-L._AC_UY654_FMwebp_QL65_.jpg',\n",
       "    'product_num_offers': 9,\n",
       "    'product_minimum_offer_price': '$81.18',\n",
       "    'is_best_seller': False,\n",
       "    'is_amazon_choice': False,\n",
       "    'is_prime': True,\n",
       "    'climate_pledge_friendly': False,\n",
       "    'sales_volume': '1K+ bought in past month',\n",
       "    'delivery': 'FREE delivery Sat, Aug 3 Or fastest delivery Fri, Aug 2',\n",
       "    'has_variations': True},\n",
       "   {'asin': 'B0CMDRFVTL',\n",
       "    'product_title': 'SAMSUNG Galaxy S24 Cell Phone, 256GB AI Smartphone, Unlocked Android, 50MP Camera, Fastest Processor, Long Battery Life, US Version, 2024, Cobalt Violet',\n",
       "    'product_price': None,\n",
       "    'product_original_price': None,\n",
       "    'currency': None,\n",
       "    'product_star_rating': '4.5',\n",
       "    'product_num_ratings': 38,\n",
       "    'product_url': 'https://www.amazon.com/dp/B0CMDRFVTL',\n",
       "    'product_photo': 'https://m.media-amazon.com/images/I/716UvwH-NvL._AC_UY654_FMwebp_QL65_.jpg',\n",
       "    'product_num_offers': 1,\n",
       "    'product_minimum_offer_price': None,\n",
       "    'is_best_seller': False,\n",
       "    'is_amazon_choice': False,\n",
       "    'is_prime': True,\n",
       "    'climate_pledge_friendly': True,\n",
       "    'sales_volume': '1K+ bought in past month',\n",
       "    'delivery': 'FREE delivery Sat, Aug 3 Or fastest delivery Wed, Jul 31',\n",
       "    'has_variations': False},\n",
       "   {'asin': 'B0BZ9XNBRB',\n",
       "    'product_title': 'Google Pixel 7a - Unlocked Android Cell Phone - Smartphone with Wide Angle Lens and 24-Hour Battery - 128 GB – Charcoal',\n",
       "    'product_price': '$339.00',\n",
       "    'product_original_price': '$499.00',\n",
       "    'currency': 'USD',\n",
       "    'product_star_rating': '4.3',\n",
       "    'product_num_ratings': 2232,\n",
       "    'product_url': 'https://www.amazon.com/dp/B0BZ9XNBRB',\n",
       "    'product_photo': 'https://m.media-amazon.com/images/I/61r7cCpQPlL._AC_UY654_FMwebp_QL65_.jpg',\n",
       "    'product_num_offers': 34,\n",
       "    'product_minimum_offer_price': '$264.65',\n",
       "    'is_best_seller': False,\n",
       "    'is_amazon_choice': False,\n",
       "    'is_prime': True,\n",
       "    'climate_pledge_friendly': False,\n",
       "    'sales_volume': '10K+ bought in past month',\n",
       "    'delivery': 'FREE delivery Thu, Aug 1',\n",
       "    'has_variations': True},\n",
       "   {'asin': 'B088NQXD8T',\n",
       "    'product_title': 'Apple iPhone SE 2nd Generation, US Version, 64GB, Black - Unlocked (Renewed)',\n",
       "    'product_price': '$123.00',\n",
       "    'product_original_price': '$156.86',\n",
       "    'currency': 'USD',\n",
       "    'product_star_rating': '4.3',\n",
       "    'product_num_ratings': 18190,\n",
       "    'product_url': 'https://www.amazon.com/dp/B088NQXD8T',\n",
       "    'product_photo': 'https://m.media-amazon.com/images/I/61JNofhHZZL._AC_UY654_FMwebp_QL65_.jpg',\n",
       "    'product_num_offers': 38,\n",
       "    'product_minimum_offer_price': '$99.00',\n",
       "    'is_best_seller': False,\n",
       "    'is_amazon_choice': False,\n",
       "    'is_prime': False,\n",
       "    'climate_pledge_friendly': True,\n",
       "    'sales_volume': '2K+ bought in past month',\n",
       "    'delivery': 'FREE delivery Thu, Aug 1 Or fastest delivery Wed, Jul 31',\n",
       "    'has_variations': True},\n",
       "   {'asin': 'B0CHH1N9VY',\n",
       "    'product_title': 'TracFone | Motorola Moto g Pure | Locked | 32GB | 4000 mAh Battery | 13 MP Dual Camera System | 6.5&quot; Max Vision HD+ Display | Blue',\n",
       "    'product_price': '$49.43',\n",
       "    'product_original_price': None,\n",
       "    'currency': 'USD',\n",
       "    'product_star_rating': '4.2',\n",
       "    'product_num_ratings': 2770,\n",
       "    'product_url': 'https://www.amazon.com/dp/B0CHH1N9VY',\n",
       "    'product_photo': 'https://m.media-amazon.com/images/I/71zGrrAe5NL._AC_UY654_FMwebp_QL65_.jpg',\n",
       "    'product_num_offers': 3,\n",
       "    'product_minimum_offer_price': '$43.99',\n",
       "    'is_best_seller': False,\n",
       "    'is_amazon_choice': False,\n",
       "    'is_prime': True,\n",
       "    'climate_pledge_friendly': False,\n",
       "    'sales_volume': '500+ bought in past month',\n",
       "    'delivery': 'FREE delivery Sat, Aug 3 Or fastest delivery Wed, Jul 31',\n",
       "    'has_variations': False},\n",
       "   {'asin': 'B0CCSZZGT7',\n",
       "    'product_title': 'TracFone Motorola moto g Play, 32GB, Black - Prepaid Smartphone (Locked)',\n",
       "    'product_price': '$47.37',\n",
       "    'product_original_price': '$49.99',\n",
       "    'currency': 'USD',\n",
       "    'product_star_rating': '4',\n",
       "    'product_num_ratings': 210,\n",
       "    'product_url': 'https://www.amazon.com/dp/B0CCSZZGT7',\n",
       "    'product_photo': 'https://m.media-amazon.com/images/I/71pGGUaxezL._AC_UY654_FMwebp_QL65_.jpg',\n",
       "    'product_num_offers': 1,\n",
       "    'product_minimum_offer_price': '$47.37',\n",
       "    'is_best_seller': False,\n",
       "    'is_amazon_choice': False,\n",
       "    'is_prime': True,\n",
       "    'climate_pledge_friendly': False,\n",
       "    'sales_volume': '500+ bought in past month',\n",
       "    'delivery': 'FREE delivery Sat, Aug 3 Or fastest delivery Wed, Jul 31',\n",
       "    'has_variations': False},\n",
       "   {'asin': 'B0CHHL5R3H',\n",
       "    'product_title': 'Total by Verizon TCL 30 Z, 32GB, Black - Prepaid Smartphone (Locked)',\n",
       "    'product_price': '$39.99',\n",
       "    'product_original_price': None,\n",
       "    'currency': 'USD',\n",
       "    'product_star_rating': '3.8',\n",
       "    'product_num_ratings': 38,\n",
       "    'product_url': 'https://www.amazon.com/dp/B0CHHL5R3H',\n",
       "    'product_photo': 'https://m.media-amazon.com/images/I/718+xprSIBL._AC_UY654_FMwebp_QL65_.jpg',\n",
       "    'product_num_offers': 1,\n",
       "    'product_minimum_offer_price': '$39.99',\n",
       "    'is_best_seller': False,\n",
       "    'is_amazon_choice': False,\n",
       "    'is_prime': True,\n",
       "    'climate_pledge_friendly': False,\n",
       "    'sales_volume': '300+ bought in past month',\n",
       "    'delivery': 'FREE delivery Sat, Aug 3 Or fastest delivery Wed, Jul 31',\n",
       "    'has_variations': False},\n",
       "   {'asin': 'B0CGTD5KVT',\n",
       "    'product_title': 'Google Pixel 8 - Unlocked Android Smartphone with Advanced Pixel Camera, 24-Hour Battery, and Powerful Security - Obsidian - 128 GB',\n",
       "    'product_price': '$544.00',\n",
       "    'product_original_price': '$699.00',\n",
       "    'currency': 'USD',\n",
       "    'product_star_rating': '4.3',\n",
       "    'product_num_ratings': 2081,\n",
       "    'product_url': 'https://www.amazon.com/dp/B0CGTD5KVT',\n",
       "    'product_photo': 'https://m.media-amazon.com/images/I/81Mya-dPIOL._AC_UY654_FMwebp_QL65_.jpg',\n",
       "    'product_num_offers': 11,\n",
       "    'product_minimum_offer_price': '$487.70',\n",
       "    'is_best_seller': False,\n",
       "    'is_amazon_choice': False,\n",
       "    'is_prime': False,\n",
       "    'product_availability': 'Only 10 left in stock - order soon.',\n",
       "    'climate_pledge_friendly': False,\n",
       "    'sales_volume': '2K+ bought in past month',\n",
       "    'delivery': 'FREE delivery Thu, Aug 1 Or fastest delivery Wed, Jul 31 Only 10 left in stock - order soon.',\n",
       "    'has_variations': True},\n",
       "   {'asin': 'B09SM24S8C',\n",
       "    'product_title': 'Samsung Galaxy A03s Cell Phone, AT&amp;T GSM Unlocked Android Smartphone, 32GB, Long Lasting Battery, Expandable Storage, 3 Camera Lenses, Infinite Display - Black (Renewed)',\n",
       "    'product_price': '$75.00',\n",
       "    'product_original_price': '$87.14',\n",
       "    'currency': 'USD',\n",
       "    'product_star_rating': '3.9',\n",
       "    'product_num_ratings': 457,\n",
       "    'product_url': 'https://www.amazon.com/dp/B09SM24S8C',\n",
       "    'product_photo': 'https://m.media-amazon.com/images/I/51m45B3Yy+L._AC_UY654_FMwebp_QL65_.jpg',\n",
       "    'product_num_offers': 29,\n",
       "    'product_minimum_offer_price': '$61.25',\n",
       "    'is_best_seller': False,\n",
       "    'is_amazon_choice': False,\n",
       "    'is_prime': False,\n",
       "    'product_availability': 'Only 13 left in stock - order soon.',\n",
       "    'climate_pledge_friendly': False,\n",
       "    'sales_volume': 'List Price: ',\n",
       "    'delivery': 'FREE delivery Thu, Aug 1 Only 13 left in stock - order soon.',\n",
       "    'has_variations': True},\n",
       "   {'asin': 'B0CP6DDN1H',\n",
       "    'product_title': 'Moto G Play | 2024 | Unlocked | Made for US 4/64GB | 50MP Camera | Sapphire Blue',\n",
       "    'product_price': '$129.99',\n",
       "    'product_original_price': '$149.99',\n",
       "    'currency': 'USD',\n",
       "    'product_star_rating': '4',\n",
       "    'product_num_ratings': 92,\n",
       "    'product_url': 'https://www.amazon.com/dp/B0CP6DDN1H',\n",
       "    'product_photo': 'https://m.media-amazon.com/images/I/61xk4XNRktL._AC_UY654_FMwebp_QL65_.jpg',\n",
       "    'product_num_offers': 4,\n",
       "    'product_minimum_offer_price': '$110.00',\n",
       "    'is_best_seller': False,\n",
       "    'is_amazon_choice': False,\n",
       "    'is_prime': True,\n",
       "    'climate_pledge_friendly': False,\n",
       "    'sales_volume': '1K+ bought in past month',\n",
       "    'delivery': 'FREE delivery Sat, Aug 3 Or fastest delivery Wed, Jul 31',\n",
       "    'has_variations': False}]}}"
      ]
     },
     "execution_count": 18,
     "metadata": {},
     "output_type": "execute_result"
    }
   ],
   "source": [
    "response_search"
   ]
  },
  {
   "cell_type": "code",
   "execution_count": 27,
   "metadata": {},
   "outputs": [
    {
     "data": {
      "text/plain": [
       "'B0BQ118F2T'"
      ]
     },
     "execution_count": 27,
     "metadata": {},
     "output_type": "execute_result"
    }
   ],
   "source": [
    "response_search['data']['products'][0]['asin']"
   ]
  },
  {
   "cell_type": "code",
   "execution_count": 5,
   "metadata": {},
   "outputs": [
    {
     "data": {
      "text/plain": [
       "dict_keys(['total_products', 'country', 'domain', 'products'])"
      ]
     },
     "execution_count": 5,
     "metadata": {},
     "output_type": "execute_result"
    }
   ],
   "source": [
    "response_search['data'].keys()"
   ]
  },
  {
   "cell_type": "code",
   "execution_count": 6,
   "metadata": {},
   "outputs": [
    {
     "name": "stdout",
     "output_type": "stream",
     "text": [
      "{'asin': 'B0BQ118F2T', 'product_title': 'Moto G Play 2023 3-Day Battery Unlocked Made for US 3/32GB 16MP Camera Navy Blue', 'product_price': '$99.99', 'product_original_price': '$169.99', 'currency': 'USD', 'product_star_rating': '4', 'product_num_ratings': 2907, 'product_url': 'https://www.amazon.com/dp/B0BQ118F2T', 'product_photo': 'https://m.media-amazon.com/images/I/61K1Fz5LxvL._AC_UY654_FMwebp_QL65_.jpg', 'product_num_offers': 10, 'product_minimum_offer_price': '$68.25', 'is_best_seller': False, 'is_amazon_choice': False, 'is_prime': True, 'climate_pledge_friendly': False, 'sales_volume': '6K+ bought in past month', 'delivery': 'FREE delivery Sat, Aug 3 Or fastest delivery Wed, Jul 31', 'has_variations': True}\n",
      "{'asin': 'B0CHH6X6H2', 'product_title': 'Total by Verizon | Samsung Galaxy A03s | Locked | 32GB | 5000mAh Battery | 48MP Main Camera | 6.5-in. HD+Infinity-V Display | Black', 'product_price': '$49.88', 'product_original_price': None, 'currency': 'USD', 'product_star_rating': '4', 'product_num_ratings': 195, 'product_url': 'https://www.amazon.com/dp/B0CHH6X6H2', 'product_photo': 'https://m.media-amazon.com/images/I/812woqv69CL._AC_UY654_FMwebp_QL65_.jpg', 'product_num_offers': 3, 'product_minimum_offer_price': '$49.34', 'is_best_seller': False, 'is_amazon_choice': False, 'is_prime': True, 'climate_pledge_friendly': False, 'sales_volume': '2K+ bought in past month', 'delivery': 'FREE delivery Sat, Aug 3 Or fastest delivery Thu, Aug 1', 'has_variations': False}\n",
      "{'asin': 'B0CTD47P22', 'product_title': 'SAMSUNG Galaxy A15 5G (SM-156M/DSN), 128GB 6GB RAM, Dual SIM, Factory Unlocked GSM, International Version (Wall Charger Bundle) (Light Blue)', 'product_price': '$149.74', 'product_original_price': '$158.00', 'currency': 'USD', 'product_star_rating': '4.3', 'product_num_ratings': 124, 'product_url': 'https://www.amazon.com/dp/B0CTD47P22', 'product_photo': 'https://m.media-amazon.com/images/I/51QhB2CfqSL._AC_UY654_FMwebp_QL65_.jpg', 'product_num_offers': 8, 'product_minimum_offer_price': '$119.99', 'is_best_seller': False, 'is_amazon_choice': False, 'is_prime': True, 'climate_pledge_friendly': False, 'sales_volume': '2K+ bought in past month', 'delivery': 'FREE delivery Sat, Aug 3 Or fastest delivery Wed, Jul 31', 'has_variations': False}\n",
      "{'asin': 'B0CN1QSH8Q', 'product_title': 'SAMSUNG Galaxy A15 5G A Series Cell Phone, 128GB Unlocked Android Smartphone, AMOLED Display, Expandable Storage, Knox Security, Super Fast Charging, Hi-Res Camera, US Version, 2024, Blue Black', 'product_price': '$199.99', 'product_original_price': None, 'currency': 'USD', 'product_star_rating': '4.1', 'product_num_ratings': 411, 'product_url': 'https://www.amazon.com/dp/B0CN1QSH8Q', 'product_photo': 'https://m.media-amazon.com/images/I/61s0ZzwzSCL._AC_UY654_FMwebp_QL65_.jpg', 'product_num_offers': 2, 'product_minimum_offer_price': '$154.04', 'is_best_seller': False, 'is_amazon_choice': False, 'is_prime': True, 'climate_pledge_friendly': True, 'sales_volume': '3K+ bought in past month', 'delivery': 'FREE delivery Sat, Aug 3 Or fastest delivery Wed, Jul 31', 'has_variations': True}\n",
      "{'asin': 'B086QB7WZ1', 'product_title': 'AT&amp;T BL102-2 DECT 6.0 2-Handset Cordless Phone for Home with Answering Machine, Call Blocking, Caller ID Announcer, Audio Assist, Intercom, and Unsurpassed Range, Silver/Black', 'product_price': '$48.75', 'product_original_price': '$56.95', 'currency': 'USD', 'product_star_rating': '4.3', 'product_num_ratings': 26645, 'product_url': 'https://www.amazon.com/dp/B086QB7WZ1', 'product_photo': 'https://m.media-amazon.com/images/I/81vjTHTF9WL._AC_UY654_FMwebp_QL65_.jpg', 'product_num_offers': 4, 'product_minimum_offer_price': '$21.36', 'is_best_seller': True, 'is_amazon_choice': False, 'is_prime': True, 'climate_pledge_friendly': False, 'sales_volume': '5K+ bought in past month', 'delivery': 'FREE delivery Sat, Aug 3 Or fastest delivery Wed, Jul 31', 'has_variations': False}\n",
      "{'asin': 'B0CV4NQYFP', 'product_title': 'SAMSUNG Galaxy A35 5G A Series Cell Phone, 128GB Unlocked Android Smartphone, AMOLED Display, Advanced Triple Camera System, Expandable Storage, Rugged Design, US Version, 2024, Awesome Navy', 'product_price': '$349.99', 'product_original_price': '$399.99', 'currency': 'USD', 'product_star_rating': '4.4', 'product_num_ratings': 102, 'product_url': 'https://www.amazon.com/dp/B0CV4NQYFP', 'product_photo': 'https://m.media-amazon.com/images/I/71OznGGxhcL._AC_UY654_FMwebp_QL65_.jpg', 'product_num_offers': 2, 'product_minimum_offer_price': '$276.49', 'is_best_seller': False, 'is_amazon_choice': False, 'is_prime': True, 'climate_pledge_friendly': True, 'sales_volume': '3K+ bought in past month', 'delivery': 'FREE delivery Sat, Aug 3 Or fastest delivery Wed, Jul 31', 'has_variations': True}\n",
      "{'asin': 'B0BLZN9NDG', 'product_title': 'SAMSUNG,Galaxy A04e (SM-A042M/DS) Dual SIM 32GB,6.5&#x27;&#x27; GSM Unlocked,International Version-Black', 'product_price': '$83.00', 'product_original_price': '$105.00', 'currency': 'USD', 'product_star_rating': '3.9', 'product_num_ratings': 609, 'product_url': 'https://www.amazon.com/dp/B0BLZN9NDG', 'product_photo': 'https://m.media-amazon.com/images/I/71O2YkTlq-L._AC_UY654_FMwebp_QL65_.jpg', 'product_num_offers': 9, 'product_minimum_offer_price': '$81.18', 'is_best_seller': False, 'is_amazon_choice': False, 'is_prime': True, 'climate_pledge_friendly': False, 'sales_volume': '1K+ bought in past month', 'delivery': 'FREE delivery Sat, Aug 3 Or fastest delivery Fri, Aug 2', 'has_variations': True}\n",
      "{'asin': 'B0CMDRFVTL', 'product_title': 'SAMSUNG Galaxy S24 Cell Phone, 256GB AI Smartphone, Unlocked Android, 50MP Camera, Fastest Processor, Long Battery Life, US Version, 2024, Cobalt Violet', 'product_price': None, 'product_original_price': None, 'currency': None, 'product_star_rating': '4.5', 'product_num_ratings': 38, 'product_url': 'https://www.amazon.com/dp/B0CMDRFVTL', 'product_photo': 'https://m.media-amazon.com/images/I/716UvwH-NvL._AC_UY654_FMwebp_QL65_.jpg', 'product_num_offers': 1, 'product_minimum_offer_price': None, 'is_best_seller': False, 'is_amazon_choice': False, 'is_prime': True, 'climate_pledge_friendly': True, 'sales_volume': '1K+ bought in past month', 'delivery': 'FREE delivery Sat, Aug 3 Or fastest delivery Wed, Jul 31', 'has_variations': False}\n",
      "{'asin': 'B0BZ9XNBRB', 'product_title': 'Google Pixel 7a - Unlocked Android Cell Phone - Smartphone with Wide Angle Lens and 24-Hour Battery - 128 GB – Charcoal', 'product_price': '$339.00', 'product_original_price': '$499.00', 'currency': 'USD', 'product_star_rating': '4.3', 'product_num_ratings': 2232, 'product_url': 'https://www.amazon.com/dp/B0BZ9XNBRB', 'product_photo': 'https://m.media-amazon.com/images/I/61r7cCpQPlL._AC_UY654_FMwebp_QL65_.jpg', 'product_num_offers': 34, 'product_minimum_offer_price': '$264.65', 'is_best_seller': False, 'is_amazon_choice': False, 'is_prime': True, 'climate_pledge_friendly': False, 'sales_volume': '10K+ bought in past month', 'delivery': 'FREE delivery Thu, Aug 1', 'has_variations': True}\n",
      "{'asin': 'B088NQXD8T', 'product_title': 'Apple iPhone SE 2nd Generation, US Version, 64GB, Black - Unlocked (Renewed)', 'product_price': '$123.00', 'product_original_price': '$156.86', 'currency': 'USD', 'product_star_rating': '4.3', 'product_num_ratings': 18190, 'product_url': 'https://www.amazon.com/dp/B088NQXD8T', 'product_photo': 'https://m.media-amazon.com/images/I/61JNofhHZZL._AC_UY654_FMwebp_QL65_.jpg', 'product_num_offers': 38, 'product_minimum_offer_price': '$99.00', 'is_best_seller': False, 'is_amazon_choice': False, 'is_prime': False, 'climate_pledge_friendly': True, 'sales_volume': '2K+ bought in past month', 'delivery': 'FREE delivery Thu, Aug 1 Or fastest delivery Wed, Jul 31', 'has_variations': True}\n",
      "{'asin': 'B0CHH1N9VY', 'product_title': 'TracFone | Motorola Moto g Pure | Locked | 32GB | 4000 mAh Battery | 13 MP Dual Camera System | 6.5&quot; Max Vision HD+ Display | Blue', 'product_price': '$49.43', 'product_original_price': None, 'currency': 'USD', 'product_star_rating': '4.2', 'product_num_ratings': 2770, 'product_url': 'https://www.amazon.com/dp/B0CHH1N9VY', 'product_photo': 'https://m.media-amazon.com/images/I/71zGrrAe5NL._AC_UY654_FMwebp_QL65_.jpg', 'product_num_offers': 3, 'product_minimum_offer_price': '$43.99', 'is_best_seller': False, 'is_amazon_choice': False, 'is_prime': True, 'climate_pledge_friendly': False, 'sales_volume': '500+ bought in past month', 'delivery': 'FREE delivery Sat, Aug 3 Or fastest delivery Wed, Jul 31', 'has_variations': False}\n",
      "{'asin': 'B0CCSZZGT7', 'product_title': 'TracFone Motorola moto g Play, 32GB, Black - Prepaid Smartphone (Locked)', 'product_price': '$47.37', 'product_original_price': '$49.99', 'currency': 'USD', 'product_star_rating': '4', 'product_num_ratings': 210, 'product_url': 'https://www.amazon.com/dp/B0CCSZZGT7', 'product_photo': 'https://m.media-amazon.com/images/I/71pGGUaxezL._AC_UY654_FMwebp_QL65_.jpg', 'product_num_offers': 1, 'product_minimum_offer_price': '$47.37', 'is_best_seller': False, 'is_amazon_choice': False, 'is_prime': True, 'climate_pledge_friendly': False, 'sales_volume': '500+ bought in past month', 'delivery': 'FREE delivery Sat, Aug 3 Or fastest delivery Wed, Jul 31', 'has_variations': False}\n",
      "{'asin': 'B0CHHL5R3H', 'product_title': 'Total by Verizon TCL 30 Z, 32GB, Black - Prepaid Smartphone (Locked)', 'product_price': '$39.99', 'product_original_price': None, 'currency': 'USD', 'product_star_rating': '3.8', 'product_num_ratings': 38, 'product_url': 'https://www.amazon.com/dp/B0CHHL5R3H', 'product_photo': 'https://m.media-amazon.com/images/I/718+xprSIBL._AC_UY654_FMwebp_QL65_.jpg', 'product_num_offers': 1, 'product_minimum_offer_price': '$39.99', 'is_best_seller': False, 'is_amazon_choice': False, 'is_prime': True, 'climate_pledge_friendly': False, 'sales_volume': '300+ bought in past month', 'delivery': 'FREE delivery Sat, Aug 3 Or fastest delivery Wed, Jul 31', 'has_variations': False}\n",
      "{'asin': 'B0CGTD5KVT', 'product_title': 'Google Pixel 8 - Unlocked Android Smartphone with Advanced Pixel Camera, 24-Hour Battery, and Powerful Security - Obsidian - 128 GB', 'product_price': '$544.00', 'product_original_price': '$699.00', 'currency': 'USD', 'product_star_rating': '4.3', 'product_num_ratings': 2081, 'product_url': 'https://www.amazon.com/dp/B0CGTD5KVT', 'product_photo': 'https://m.media-amazon.com/images/I/81Mya-dPIOL._AC_UY654_FMwebp_QL65_.jpg', 'product_num_offers': 11, 'product_minimum_offer_price': '$487.70', 'is_best_seller': False, 'is_amazon_choice': False, 'is_prime': False, 'product_availability': 'Only 10 left in stock - order soon.', 'climate_pledge_friendly': False, 'sales_volume': '2K+ bought in past month', 'delivery': 'FREE delivery Thu, Aug 1 Or fastest delivery Wed, Jul 31 Only 10 left in stock - order soon.', 'has_variations': True}\n",
      "{'asin': 'B09SM24S8C', 'product_title': 'Samsung Galaxy A03s Cell Phone, AT&amp;T GSM Unlocked Android Smartphone, 32GB, Long Lasting Battery, Expandable Storage, 3 Camera Lenses, Infinite Display - Black (Renewed)', 'product_price': '$75.00', 'product_original_price': '$87.14', 'currency': 'USD', 'product_star_rating': '3.9', 'product_num_ratings': 457, 'product_url': 'https://www.amazon.com/dp/B09SM24S8C', 'product_photo': 'https://m.media-amazon.com/images/I/51m45B3Yy+L._AC_UY654_FMwebp_QL65_.jpg', 'product_num_offers': 29, 'product_minimum_offer_price': '$61.25', 'is_best_seller': False, 'is_amazon_choice': False, 'is_prime': False, 'product_availability': 'Only 13 left in stock - order soon.', 'climate_pledge_friendly': False, 'sales_volume': 'List Price: ', 'delivery': 'FREE delivery Thu, Aug 1 Only 13 left in stock - order soon.', 'has_variations': True}\n",
      "{'asin': 'B0CP6DDN1H', 'product_title': 'Moto G Play | 2024 | Unlocked | Made for US 4/64GB | 50MP Camera | Sapphire Blue', 'product_price': '$129.99', 'product_original_price': '$149.99', 'currency': 'USD', 'product_star_rating': '4', 'product_num_ratings': 92, 'product_url': 'https://www.amazon.com/dp/B0CP6DDN1H', 'product_photo': 'https://m.media-amazon.com/images/I/61xk4XNRktL._AC_UY654_FMwebp_QL65_.jpg', 'product_num_offers': 4, 'product_minimum_offer_price': '$110.00', 'is_best_seller': False, 'is_amazon_choice': False, 'is_prime': True, 'climate_pledge_friendly': False, 'sales_volume': '1K+ bought in past month', 'delivery': 'FREE delivery Sat, Aug 3 Or fastest delivery Wed, Jul 31', 'has_variations': False}\n"
     ]
    }
   ],
   "source": [
    "for item in response_search['data']['products']:\n",
    "    print(item)"
   ]
  },
  {
   "cell_type": "markdown",
   "metadata": {},
   "source": [
    "## Product Review"
   ]
  },
  {
   "cell_type": "code",
   "execution_count": 7,
   "metadata": {},
   "outputs": [],
   "source": [
    "url = \"https://real-time-amazon-data.p.rapidapi.com/product-reviews\"\n",
    "\n",
    "querystring = {\"asin\":\"B07ZPKN6YR\",\"country\":\"US\",\"sort_by\":\"TOP_REVIEWS\",\"star_rating\":\"ALL\",\"verified_purchases_only\":\"false\",\"images_or_videos_only\":\"false\",\"current_format_only\":\"false\",\"page\":\"1\"}\n",
    "\n",
    "headers = {\n",
    "\t\"x-rapidapi-key\": \"c154144e9fmshca0c16902f6b830p1a68f4jsn0bb666e8b8a3\",\n",
    "\t\"x-rapidapi-host\": \"real-time-amazon-data.p.rapidapi.com\"\n",
    "}\n",
    "\n",
    "response_ = requests.get(url, headers=headers, params=querystring)\n",
    "\n"
   ]
  },
  {
   "cell_type": "code",
   "execution_count": 8,
   "metadata": {},
   "outputs": [],
   "source": [
    "review_response = response_ .json()"
   ]
  },
  {
   "cell_type": "code",
   "execution_count": 9,
   "metadata": {},
   "outputs": [
    {
     "data": {
      "text/plain": [
       "dict_keys(['status', 'request_id', 'parameters', 'data'])"
      ]
     },
     "execution_count": 9,
     "metadata": {},
     "output_type": "execute_result"
    }
   ],
   "source": [
    "review_response.keys()\n"
   ]
  },
  {
   "cell_type": "code",
   "execution_count": 10,
   "metadata": {},
   "outputs": [
    {
     "data": {
      "text/plain": [
       "dict_keys(['asin', 'total_reviews', 'total_ratings', 'country', 'domain', 'reviews'])"
      ]
     },
     "execution_count": 10,
     "metadata": {},
     "output_type": "execute_result"
    }
   ],
   "source": [
    "review_response['data'].keys()"
   ]
  },
  {
   "cell_type": "code",
   "execution_count": 11,
   "metadata": {},
   "outputs": [],
   "source": [
    "review_lst = []\n",
    "for item in review_response['data']['reviews']:\n",
    "    review_lst.append(item)\n"
   ]
  },
  {
   "cell_type": "code",
   "execution_count": 12,
   "metadata": {},
   "outputs": [
    {
     "data": {
      "text/plain": [
       "dict_keys(['review_id', 'review_title', 'review_comment', 'review_star_rating', 'review_link', 'review_author', 'review_author_avatar', 'review_images', 'review_video', 'review_date', 'is_verified_purchase', 'helpful_vote_statement', 'reviewed_product_asin'])"
      ]
     },
     "execution_count": 12,
     "metadata": {},
     "output_type": "execute_result"
    }
   ],
   "source": [
    "review_lst[0].keys()"
   ]
  },
  {
   "cell_type": "code",
   "execution_count": 13,
   "metadata": {},
   "outputs": [
    {
     "data": {
      "text/plain": [
       "10"
      ]
     },
     "execution_count": 13,
     "metadata": {},
     "output_type": "execute_result"
    }
   ],
   "source": [
    "len(review_lst)"
   ]
  },
  {
   "cell_type": "code",
   "execution_count": 14,
   "metadata": {},
   "outputs": [
    {
     "data": {
      "text/plain": [
       "'Update:  I\\'m back with an update on our journey with the iPhone 11, and let me tell you, it\\'s been quite the rollercoaster. Initially, I bought one for my daughter from a different seller, and it was, to put it mildly, a bit of a disaster. We had issues left and right – Face ID not working, the phone overheating – you name it. So, we returned it, feeling a bit skeptical about the whole refurbished scene.\\n\\nBut here\\'s where the plot twists: we decided to give it another go, this time purchasing from the Amazon resellers store, specifically from a shop called Hybrid IT. And oh boy, what a difference! The iPhone we received this time around was nothing short of impeccable. It arrived with all the essentials – a charger, a charging cable, and even a SIM card tool, all neatly packed. The phone itself? It could\\'ve fooled me for brand new.\\n\\nThis experience really hammered home the lesson that when it comes to refurbished goods, the \"who\" is just as crucial as the \"what.\" The quality and condition of the product can vary wildly depending on the seller. Hybrid IT sent out an excellent product that exceeded our expectations in every way.\\n\\nFor those of you wary about diving into the world of refurbished electronics, let this be a testament. With the right seller, you can get your hands on a device that feels brand new, without the hefty price tag. We\\'re over the moon with our iPhone 11, and I\\'ll be sure to keep you all posted if anything changes. But for now, it seems like we\\'ve struck gold.\\n\\n--------------------\\n\\nI recently found myself in need of a quick replacement after my daughter accidentally broke her phone. The Apple iPhone 11, 64GB in black, seemed like a promising choice, primarily because we needed something that could be set up swiftly and would perform seamlessly as a backup.\\n\\nOut of the box, the iPhone 11 felt like a brand-new device despite being a model released a few years back. The sleek black finish and the familiar design immediately caught my eye, reassuring me that this choice would not disappoint.\\n\\nSetting up the iPhone 11 was mostly straightforward, especially with the unlocked version making it easy to switch from the old device. The transfer of data and settings from the previous iPhone was seamless, thanks to Apple\\'s ecosystem. However, we hit a slight snag with the Face ID setup - it took a bit longer than expected to get it working properly. Despite this hiccup, once configured, Face ID has been working flawlessly.\\n\\nThe iPhone 11\\'s performance has been impressive. The touch screen is responsive, making navigation and typing a breeze. Wi-Fi connectivity is fast, ensuring that browsing and app downloads are efficient. Although it\\'s not the latest model, it handles everyday tasks with ease, from streaming video content to gaming, without any noticeable lag.\\n\\nThe main issue we encountered was the initial difficulty in setting up Face ID. It required a few attempts to configure, which was a minor inconvenience in an otherwise smooth setup process. After overcoming this challenge, the phone has been working perfectly.\\n\\nOverall, this refurbished Apple iPhone 11 has proven to be a reliable and efficient backup phone. Its ease of setup, fast Wi-Fi, and responsive touch screen make it feel like a new device. The hiccup with Face ID setup was a small obstacle that, once overcome, didn\\'t detract from the overall positive experience. I would recommend the iPhone 11 to anyone in need of a quick replacement or a dependable backup device'"
      ]
     },
     "execution_count": 14,
     "metadata": {},
     "output_type": "execute_result"
    }
   ],
   "source": [
    "review_lst[0]['review_comment']"
   ]
  },
  {
   "cell_type": "code",
   "execution_count": 15,
   "metadata": {},
   "outputs": [],
   "source": [
    "review_comment_lst = []\n",
    "\n",
    "for i in range(len(review_lst)):\n",
    "    \n",
    "    review_comment_dict = {\n",
    "        'No': i+1,\n",
    "        'review comment': review_lst[i]['review_comment']\n",
    "    }\n",
    "    review_comment_lst.append(review_comment_dict)\n",
    "    "
   ]
  },
  {
   "cell_type": "code",
   "execution_count": 16,
   "metadata": {},
   "outputs": [
    {
     "data": {
      "text/plain": [
       "[{'No': 1,\n",
       "  'review comment': 'Update:  I\\'m back with an update on our journey with the iPhone 11, and let me tell you, it\\'s been quite the rollercoaster. Initially, I bought one for my daughter from a different seller, and it was, to put it mildly, a bit of a disaster. We had issues left and right – Face ID not working, the phone overheating – you name it. So, we returned it, feeling a bit skeptical about the whole refurbished scene.\\n\\nBut here\\'s where the plot twists: we decided to give it another go, this time purchasing from the Amazon resellers store, specifically from a shop called Hybrid IT. And oh boy, what a difference! The iPhone we received this time around was nothing short of impeccable. It arrived with all the essentials – a charger, a charging cable, and even a SIM card tool, all neatly packed. The phone itself? It could\\'ve fooled me for brand new.\\n\\nThis experience really hammered home the lesson that when it comes to refurbished goods, the \"who\" is just as crucial as the \"what.\" The quality and condition of the product can vary wildly depending on the seller. Hybrid IT sent out an excellent product that exceeded our expectations in every way.\\n\\nFor those of you wary about diving into the world of refurbished electronics, let this be a testament. With the right seller, you can get your hands on a device that feels brand new, without the hefty price tag. We\\'re over the moon with our iPhone 11, and I\\'ll be sure to keep you all posted if anything changes. But for now, it seems like we\\'ve struck gold.\\n\\n--------------------\\n\\nI recently found myself in need of a quick replacement after my daughter accidentally broke her phone. The Apple iPhone 11, 64GB in black, seemed like a promising choice, primarily because we needed something that could be set up swiftly and would perform seamlessly as a backup.\\n\\nOut of the box, the iPhone 11 felt like a brand-new device despite being a model released a few years back. The sleek black finish and the familiar design immediately caught my eye, reassuring me that this choice would not disappoint.\\n\\nSetting up the iPhone 11 was mostly straightforward, especially with the unlocked version making it easy to switch from the old device. The transfer of data and settings from the previous iPhone was seamless, thanks to Apple\\'s ecosystem. However, we hit a slight snag with the Face ID setup - it took a bit longer than expected to get it working properly. Despite this hiccup, once configured, Face ID has been working flawlessly.\\n\\nThe iPhone 11\\'s performance has been impressive. The touch screen is responsive, making navigation and typing a breeze. Wi-Fi connectivity is fast, ensuring that browsing and app downloads are efficient. Although it\\'s not the latest model, it handles everyday tasks with ease, from streaming video content to gaming, without any noticeable lag.\\n\\nThe main issue we encountered was the initial difficulty in setting up Face ID. It required a few attempts to configure, which was a minor inconvenience in an otherwise smooth setup process. After overcoming this challenge, the phone has been working perfectly.\\n\\nOverall, this refurbished Apple iPhone 11 has proven to be a reliable and efficient backup phone. Its ease of setup, fast Wi-Fi, and responsive touch screen make it feel like a new device. The hiccup with Face ID setup was a small obstacle that, once overcome, didn\\'t detract from the overall positive experience. I would recommend the iPhone 11 to anyone in need of a quick replacement or a dependable backup device'},\n",
       " {'No': 2,\n",
       "  'review comment': \"⭐️⭐️⭐️⭐️⭐️\\n\\nIf you're in the market for a smartphone that seamlessly marries cutting-edge technology with sleek design, look no further than the Apple iPhone 11. As a devoted Apple enthusiast, I recently upgraded to this model, and I must say, it's exceeded my already high expectations.\\n\\nLet's start with the design. The iPhone 11 boasts a stunning 6.1-inch Liquid Retina HD display that truly brings everything to life, from vibrant photos to immersive gaming experiences. The build quality is impeccable, with a robust aerospace-grade aluminum and glass construction that feels premium in the hand. The matte finish on the back not only looks sophisticated but also minimizes fingerprints, which is a practical touch.\\n\\nPerformance-wise, the iPhone 11 is a powerhouse. The A13 Bionic chip ensures lightning-fast responsiveness, whether you're multitasking between apps, editing videos on the go, or playing graphics-intensive games. This phone handles it all effortlessly. Plus, with iOS, you get the smoothest, most intuitive user experience in the smartphone world. Updates are timely, and the ecosystem seamlessly integrates with other Apple devices if you're part of the ecosystem.\\n\\nNow, let's talk about the camera setup—a standout feature of the iPhone 11. The dual-camera system (12MP Ultra Wide and Wide cameras) captures stunning photos with impressive detail and color accuracy. Night mode is a game-changer, allowing you to take beautifully illuminated shots even in low-light conditions. The ability to shoot 4K videos at 60fps with extended dynamic range further showcases the iPhone 11's imaging prowess.\\n\\nBattery life has been another pleasant surprise. The iPhone 11 easily lasts me through a full day of heavy use, thanks to optimizations in hardware and software. Fast charging support means I can quickly top up when needed, which is incredibly convenient.\\n\\nAs for connectivity, having the iPhone 11 unlocked gives me the flexibility to switch between carriers without any hassle. It supports 4G LTE and the latest Wi-Fi standards, ensuring a stable and speedy connection wherever I go.\\n\\nIn terms of value, the iPhone 11 hits the sweet spot. It offers flagship-level performance and features without the premium price tag of the Pro models. The 64GB storage variant provides ample space for apps, photos, and videos, but you can always opt for higher capacities if needed.\\n\\nIn conclusion, the Apple iPhone 11 is a triumph of design, performance, and value. Whether you're an Apple aficionado or simply looking for a top-tier smartphone experience, this device delivers on all fronts. It's reliable, versatile, and beautifully crafted—a true testament to Apple's commitment to innovation. I wholeheartedly recommend the iPhone 11 to anyone seeking a dependable and feature-rich mobile companion.\"},\n",
       " {'No': 3,\n",
       "  'review comment': 'I needed a new phone, ASAP. Thankfully, Amazon had a great selection of refurbished devices to choose from. The iPhone 11 stuck out to me for its affordability and somewhat recent release date. Upon arrival, the phone had near 0 scratches, and was factory unlocked as promised. HOWEVER, the battery was at 71% (!!!!) which made me freak out! I immediately contacted their support on a Saturday afternoon, and they gave me the option of taking it to the Apple Store for a battery replacement— free of charge. I was honestly surprised that they were willing to do so, and in a few days, every dime I spent on the repair was sent through an Amazon Refund back on my card. Now a few months later, the phone is just what I needed and even better with a 100% health battery!\\n\\n(P.S- the seller was MOBILESUPPLY. They’re awesome!)'},\n",
       " {'No': 4,\n",
       "  'review comment': 'When i received the phone, I was a bit afraid what to expect as it was a gift for my fiancé. It was nice, hardly used with no scratches. the phone battery life was 75% which was acceptable considering it was \"renewed\". the camera and phone provider worked since she lives in Mex. Overall, she loved the iPhone 11 and looking into buying another!'},\n",
       " {'No': 5,\n",
       "  'review comment': \"My husband is so rough on phones, we agreed not to spend a fortune on new ones even with tough cases.  So he's had this one for around 2 months and it's doing great.  It looked new and came with the cord. He is not a social media user.  He just needs to be able to do text, call and send emails.  The camera is a little better than his old phone. This was a good price and easy transition.  I would purchase again from the seller.\"},\n",
       " {'No': 6,\n",
       "  'review comment': 'My phone I got was 84% battery health, no major scratches on the front or back spare one that is not visible on the actual screen when the phone is on beside my front camera. Charging port charges with no issues (just charges a bit slow, but that could just be my chargers, cameras have no issues. Product was shipped and received in a fairly timely manner. Honestly no major issues as of yet, and I hope this phone will last me years to come.'},\n",
       " {'No': 7,\n",
       "  'review comment': \"My iPhone X had recently died on me that I purchased from eBay refurbished, so I gave amazon a shot and wasn't disappointed, phone was exactly as described with 83% battery health and no scratches or marks anywhere on the phone, will edit if any problems arise.\\n\\np.s to whoever put the screen protector on you got one of your little white hairs under it lol\"},\n",
       " {'No': 8,\n",
       "  'review comment': 'I ordered this phone and received it in less than 4 days. I chose the “excellent” condition out of all the renewed options. It is a lot bigger than I expected, but then again, I didn’t check the dimensions before I ordered it. The phone was packaged in a single bubble wrap sleeve. The box it came in contained a wall adapter and charging cable. The phone is almost flawless except for some scuff marks around the charging port. There are also some scuff marks around the volume up button.\\n\\nI like that the color of the iPhone is a muted lavender color rather than a vibrant purple. The phone came with a screen protector already installed. I didn’t realize this until hours later while I was setting up the phone. The battery health is set at 90%, and this was written on the bubble wrap sleeve.\\n\\nThe one thing I will say about this phone is that it does lack a working left speaker on the bottom. The other reviews all seem to mention the speaker problem, and I hate to agree. It’s not a dealbreaker, but I do wish the audio was up to par with the “excellent” condition the phone is supposed to be in.\\n\\nBy the way, this phone was sold to me by Electronic Deals. They seem to have a slightly above average reputation. I love the fact it has 128gb of storage. I upgraded from a refurbished iPhone 7, and I think I made a good decision! I like my new phone. I just need to get used to not having a home button lol.'},\n",
       " {'No': 9,\n",
       "  'review comment': \"im going to keep this short because from experience ik how boring it can be to read long reviews but this is kind of a big buy/decision all i have to say is its a great phone ran into some minor issues nothing too bad and I don't think it was the company's fault i have had iphones most my life but i needed a temporary phone so i could save up to buy the newest one (its not relevant) but basically love it and its great and the issues were so minor no one would care and for the price go buy this beautiful phone i recommend color lavender gorgeous probably just like the person reading this lol but in conclusion great phone and i wouldnt hesitate to buy!\"},\n",
       " {'No': 10,\n",
       "  'review comment': 'Looking into buying another iphone for my daughter. Im going to buy myself another one and give her this one. I paid $300 for this purple iphone 11 about 2 years ago. So far no problems. I actually bought 3 at the same time. The only reason my daughter needs a new phone (2 years later) is because shes a teenager and keeps dropping her phone. It still works but her camera is cracked. Im so happy to get these phones instead of brand new ones!!! So far, ive been so lucky with these phones. These 3 werent my first. I bought some iphone 8+ phones before this and never had problems. I recommend'}]"
      ]
     },
     "execution_count": 16,
     "metadata": {},
     "output_type": "execute_result"
    }
   ],
   "source": [
    "review_comment_lst\n"
   ]
  },
  {
   "cell_type": "code",
   "execution_count": 17,
   "metadata": {},
   "outputs": [],
   "source": [
    "review_comment_strings = [str(comment) for comment in review_comment_lst]\n",
    "with open('review.json', 'w') as f:\n",
    "    json.dump(' '.join(review_comment_strings), f, indent=4)\n",
    "    "
   ]
  },
  {
   "cell_type": "code",
   "execution_count": null,
   "metadata": {},
   "outputs": [],
   "source": []
  }
 ],
 "metadata": {
  "kernelspec": {
   "display_name": "ds_env",
   "language": "python",
   "name": "python3"
  },
  "language_info": {
   "codemirror_mode": {
    "name": "ipython",
    "version": 3
   },
   "file_extension": ".py",
   "mimetype": "text/x-python",
   "name": "python",
   "nbconvert_exporter": "python",
   "pygments_lexer": "ipython3",
   "version": "3.10.14"
  }
 },
 "nbformat": 4,
 "nbformat_minor": 2
}
