{
 "cells": [
  {
   "cell_type": "code",
   "execution_count": null,
   "metadata": {},
   "outputs": [],
   "source": [
    "# 1.load data\n",
    "# 2. text processing\n",
    "# 3. vectorization(embedding)\n",
    "# 4. ML algorithem to sentiment analysis\n",
    "\n",
    "# output : product name, description, asin, reviews, sentiment analysis(percantile)\n"
   ]
  },
  {
   "cell_type": "markdown",
   "metadata": {},
   "source": [
    "## 1.Load data"
   ]
  },
  {
   "cell_type": "markdown",
   "metadata": {},
   "source": [
    "### Import Libraries"
   ]
  },
  {
   "cell_type": "code",
   "execution_count": 43,
   "metadata": {},
   "outputs": [],
   "source": [
    "import requests\n",
    "import pandas as pd\n",
    "import numpy as np\n",
    "from dotenv import load_dotenv\n",
    "import os\n",
    "import json\n",
    "from pprint import pprint\n",
    "from loguru import logger\n",
    "from textblob import TextBlob"
   ]
  },
  {
   "cell_type": "markdown",
   "metadata": {},
   "source": [
    "### Load API Key"
   ]
  },
  {
   "cell_type": "code",
   "execution_count": 16,
   "metadata": {},
   "outputs": [],
   "source": [
    "load_dotenv()\n",
    "API_KEY= os.getenv('rapidapi-key')"
   ]
  },
  {
   "cell_type": "markdown",
   "metadata": {},
   "source": [
    "### product search and review urls"
   ]
  },
  {
   "cell_type": "code",
   "execution_count": 17,
   "metadata": {},
   "outputs": [],
   "source": [
    "product_search_url = \"https://real-time-amazon-data.p.rapidapi.com/search\"\n",
    "product_review_url = \"https://real-time-amazon-data.p.rapidapi.com/product-reviews\""
   ]
  },
  {
   "cell_type": "markdown",
   "metadata": {},
   "source": [
    "### Product Search Function"
   ]
  },
  {
   "cell_type": "code",
   "execution_count": 25,
   "metadata": {},
   "outputs": [],
   "source": [
    "# create Product Search Function\n",
    "def create_product_search(product_search_url, product):\n",
    "    url = product_search_url\n",
    "    querystring = {\"query\":product,\"page\":\"1\",\"country\":\"US\",\"sort_by\":\"RELEVANCE\",\"product_condition\":\"ALL\"}\n",
    "\n",
    "    headers = {\n",
    "        \"x-rapidapi-key\": API_KEY,\n",
    "        \"x-rapidapi-host\": \"real-time-amazon-data.p.rapidapi.com\"\n",
    "    }\n",
    "\n",
    "    response = requests.get(url, headers=headers, params=querystring)\n",
    "    response_search = response.json() \n",
    "    logger.info(f'response status: {response.status_code}')\n",
    "    asin_no = response_search['data']['products'][0]['asin']\n",
    "\n",
    "    return response_search['data']['products']"
   ]
  },
  {
   "cell_type": "code",
   "execution_count": 26,
   "metadata": {},
   "outputs": [
    {
     "name": "stderr",
     "output_type": "stream",
     "text": [
      "\u001b[32m2024-07-31 15:04:30.845\u001b[0m | \u001b[1mINFO    \u001b[0m | \u001b[36m__main__\u001b[0m:\u001b[36mcreate_product_search\u001b[0m:\u001b[36m13\u001b[0m - \u001b[1mresponse status: 429\u001b[0m\n"
     ]
    },
    {
     "ename": "KeyError",
     "evalue": "'data'",
     "output_type": "error",
     "traceback": [
      "\u001b[0;31m---------------------------------------------------------------------------\u001b[0m",
      "\u001b[0;31mKeyError\u001b[0m                                  Traceback (most recent call last)",
      "Cell \u001b[0;32mIn[26], line 1\u001b[0m\n\u001b[0;32m----> 1\u001b[0m phone \u001b[38;5;241m=\u001b[39m \u001b[43mcreate_product_search\u001b[49m\u001b[43m(\u001b[49m\u001b[43mproduct_search_url\u001b[49m\u001b[43m,\u001b[49m\u001b[43m \u001b[49m\u001b[38;5;124;43m'\u001b[39;49m\u001b[38;5;124;43mphone\u001b[39;49m\u001b[38;5;124;43m'\u001b[39;49m\u001b[43m)\u001b[49m\n",
      "Cell \u001b[0;32mIn[25], line 14\u001b[0m, in \u001b[0;36mcreate_product_search\u001b[0;34m(product_search_url, product)\u001b[0m\n\u001b[1;32m     12\u001b[0m response_search \u001b[38;5;241m=\u001b[39m response\u001b[38;5;241m.\u001b[39mjson() \n\u001b[1;32m     13\u001b[0m logger\u001b[38;5;241m.\u001b[39minfo(\u001b[38;5;124mf\u001b[39m\u001b[38;5;124m'\u001b[39m\u001b[38;5;124mresponse status: \u001b[39m\u001b[38;5;132;01m{\u001b[39;00mresponse\u001b[38;5;241m.\u001b[39mstatus_code\u001b[38;5;132;01m}\u001b[39;00m\u001b[38;5;124m'\u001b[39m)\n\u001b[0;32m---> 14\u001b[0m asin_no \u001b[38;5;241m=\u001b[39m \u001b[43mresponse_search\u001b[49m\u001b[43m[\u001b[49m\u001b[38;5;124;43m'\u001b[39;49m\u001b[38;5;124;43mdata\u001b[39;49m\u001b[38;5;124;43m'\u001b[39;49m\u001b[43m]\u001b[49m[\u001b[38;5;124m'\u001b[39m\u001b[38;5;124mproducts\u001b[39m\u001b[38;5;124m'\u001b[39m][\u001b[38;5;241m0\u001b[39m][\u001b[38;5;124m'\u001b[39m\u001b[38;5;124masin\u001b[39m\u001b[38;5;124m'\u001b[39m]\n\u001b[1;32m     16\u001b[0m \u001b[38;5;28;01mreturn\u001b[39;00m response_search[\u001b[38;5;124m'\u001b[39m\u001b[38;5;124mdata\u001b[39m\u001b[38;5;124m'\u001b[39m][\u001b[38;5;124m'\u001b[39m\u001b[38;5;124mproducts\u001b[39m\u001b[38;5;124m'\u001b[39m]\n",
      "\u001b[0;31mKeyError\u001b[0m: 'data'"
     ]
    }
   ],
   "source": [
    "phone = create_product_search(product_search_url, 'phone')"
   ]
  },
  {
   "cell_type": "code",
   "execution_count": 66,
   "metadata": {},
   "outputs": [],
   "source": [
    "def get_product_info(product_search_url, product):\n",
    "    response_search = create_product_search(product_search_url, product)\n",
    "    product_info = []\n",
    "    for i in range(len(response_search)):\n",
    "\n",
    "        dict_ = {\n",
    "            'No:': i,\n",
    "            'asin': response_search[i]['asin'],\n",
    "            'product_title': response_search[i]['product_title'],\n",
    "            'num_ratings': response_search[i]['product_num_ratings']\n",
    "        }\n",
    "        product_info.append(dict_)\n",
    "        \n",
    "    product_info_df = pd.DataFrame(product_info)\n",
    "\n",
    "\n",
    "    return product_info_df"
   ]
  },
  {
   "cell_type": "code",
   "execution_count": 67,
   "metadata": {},
   "outputs": [],
   "source": [
    "product_infos_df = get_product_info(product_search_url, phone)"
   ]
  },
  {
   "cell_type": "code",
   "execution_count": 27,
   "metadata": {},
   "outputs": [
    {
     "ename": "NameError",
     "evalue": "name 'product_infos_df' is not defined",
     "output_type": "error",
     "traceback": [
      "\u001b[0;31m---------------------------------------------------------------------------\u001b[0m",
      "\u001b[0;31mNameError\u001b[0m                                 Traceback (most recent call last)",
      "Cell \u001b[0;32mIn[27], line 1\u001b[0m\n\u001b[0;32m----> 1\u001b[0m \u001b[43mproduct_infos_df\u001b[49m\u001b[38;5;241m.\u001b[39mhead()\n",
      "\u001b[0;31mNameError\u001b[0m: name 'product_infos_df' is not defined"
     ]
    }
   ],
   "source": [
    "product_infos_df.head()"
   ]
  },
  {
   "cell_type": "code",
   "execution_count": 72,
   "metadata": {},
   "outputs": [
    {
     "data": {
      "text/plain": [
       "48"
      ]
     },
     "execution_count": 72,
     "metadata": {},
     "output_type": "execute_result"
    }
   ],
   "source": [
    "product_infos_df.shape[0]"
   ]
  },
  {
   "cell_type": "markdown",
   "metadata": {},
   "source": [
    "### Product Review Function"
   ]
  },
  {
   "cell_type": "code",
   "execution_count": 81,
   "metadata": {},
   "outputs": [],
   "source": [
    "# Create Product Review Function\n",
    "def create_product_review(product_review_url, product_search_url, product):\n",
    "\tproduct_info_df = get_product_info(product_search_url, product)\n",
    "\tfor i in range(product_info_df.shape[0]):\n",
    "\n",
    "\t\tquerystring = {\"asin\":product_info_df['asin'][i],\"country\":\"US\",\"sort_by\":\"TOP_REVIEWS\",\"star_rating\":\"ALL\",\"verified_purchases_only\":\"false\",\"images_or_videos_only\":\"false\",\"current_format_only\":\"false\",\"page\":\"1\"}\n",
    "\n",
    "\t\theaders = {\n",
    "\t\t\t\"x-rapidapi-key\": API_KEY,\n",
    "\t\t\t\"x-rapidapi-host\": \"real-time-amazon-data.p.rapidapi.com\"\n",
    "\t\t}\n",
    "\n",
    "\t\tresponse_ = requests.get(product_review_url, headers=headers, params=querystring)\n",
    "\t\tresponse_search = response_.json()\n",
    "\t\t# reviews_responce = response_search['data']['reviews']\n",
    "\n",
    "\treturn response_search"
   ]
  },
  {
   "cell_type": "code",
   "execution_count": 82,
   "metadata": {},
   "outputs": [
    {
     "ename": "KeyError",
     "evalue": "'data'",
     "output_type": "error",
     "traceback": [
      "\u001b[0;31m---------------------------------------------------------------------------\u001b[0m",
      "\u001b[0;31mKeyError\u001b[0m                                  Traceback (most recent call last)",
      "Cell \u001b[0;32mIn[82], line 1\u001b[0m\n\u001b[0;32m----> 1\u001b[0m response_search \u001b[38;5;241m=\u001b[39m \u001b[43mcreate_product_review\u001b[49m\u001b[43m(\u001b[49m\u001b[43mproduct_review_url\u001b[49m\u001b[43m,\u001b[49m\u001b[43m \u001b[49m\u001b[43mproduct_search_url\u001b[49m\u001b[43m,\u001b[49m\u001b[43m \u001b[49m\u001b[43mphone\u001b[49m\u001b[43m)\u001b[49m\n",
      "Cell \u001b[0;32mIn[81], line 3\u001b[0m, in \u001b[0;36mcreate_product_review\u001b[0;34m(product_review_url, product_search_url, product)\u001b[0m\n\u001b[1;32m      2\u001b[0m \u001b[38;5;28;01mdef\u001b[39;00m \u001b[38;5;21mcreate_product_review\u001b[39m(product_review_url, product_search_url, product):\n\u001b[0;32m----> 3\u001b[0m \tproduct_info_df \u001b[38;5;241m=\u001b[39m \u001b[43mget_product_info\u001b[49m\u001b[43m(\u001b[49m\u001b[43mproduct_search_url\u001b[49m\u001b[43m,\u001b[49m\u001b[43m \u001b[49m\u001b[43mproduct\u001b[49m\u001b[43m)\u001b[49m\n\u001b[1;32m      4\u001b[0m \t\u001b[38;5;28;01mfor\u001b[39;00m i \u001b[38;5;129;01min\u001b[39;00m \u001b[38;5;28mrange\u001b[39m(product_info_df\u001b[38;5;241m.\u001b[39mshape[\u001b[38;5;241m0\u001b[39m]):\n\u001b[1;32m      6\u001b[0m \t\tquerystring \u001b[38;5;241m=\u001b[39m {\u001b[38;5;124m\"\u001b[39m\u001b[38;5;124masin\u001b[39m\u001b[38;5;124m\"\u001b[39m:product_info_df[\u001b[38;5;124m'\u001b[39m\u001b[38;5;124masin\u001b[39m\u001b[38;5;124m'\u001b[39m][i],\u001b[38;5;124m\"\u001b[39m\u001b[38;5;124mcountry\u001b[39m\u001b[38;5;124m\"\u001b[39m:\u001b[38;5;124m\"\u001b[39m\u001b[38;5;124mUS\u001b[39m\u001b[38;5;124m\"\u001b[39m,\u001b[38;5;124m\"\u001b[39m\u001b[38;5;124msort_by\u001b[39m\u001b[38;5;124m\"\u001b[39m:\u001b[38;5;124m\"\u001b[39m\u001b[38;5;124mTOP_REVIEWS\u001b[39m\u001b[38;5;124m\"\u001b[39m,\u001b[38;5;124m\"\u001b[39m\u001b[38;5;124mstar_rating\u001b[39m\u001b[38;5;124m\"\u001b[39m:\u001b[38;5;124m\"\u001b[39m\u001b[38;5;124mALL\u001b[39m\u001b[38;5;124m\"\u001b[39m,\u001b[38;5;124m\"\u001b[39m\u001b[38;5;124mverified_purchases_only\u001b[39m\u001b[38;5;124m\"\u001b[39m:\u001b[38;5;124m\"\u001b[39m\u001b[38;5;124mfalse\u001b[39m\u001b[38;5;124m\"\u001b[39m,\u001b[38;5;124m\"\u001b[39m\u001b[38;5;124mimages_or_videos_only\u001b[39m\u001b[38;5;124m\"\u001b[39m:\u001b[38;5;124m\"\u001b[39m\u001b[38;5;124mfalse\u001b[39m\u001b[38;5;124m\"\u001b[39m,\u001b[38;5;124m\"\u001b[39m\u001b[38;5;124mcurrent_format_only\u001b[39m\u001b[38;5;124m\"\u001b[39m:\u001b[38;5;124m\"\u001b[39m\u001b[38;5;124mfalse\u001b[39m\u001b[38;5;124m\"\u001b[39m,\u001b[38;5;124m\"\u001b[39m\u001b[38;5;124mpage\u001b[39m\u001b[38;5;124m\"\u001b[39m:\u001b[38;5;124m\"\u001b[39m\u001b[38;5;124m1\u001b[39m\u001b[38;5;124m\"\u001b[39m}\n",
      "Cell \u001b[0;32mIn[66], line 2\u001b[0m, in \u001b[0;36mget_product_info\u001b[0;34m(product_search_url, product)\u001b[0m\n\u001b[1;32m      1\u001b[0m \u001b[38;5;28;01mdef\u001b[39;00m \u001b[38;5;21mget_product_info\u001b[39m(product_search_url, product):\n\u001b[0;32m----> 2\u001b[0m     response_search \u001b[38;5;241m=\u001b[39m \u001b[43mcreate_product_search\u001b[49m\u001b[43m(\u001b[49m\u001b[43mproduct_search_url\u001b[49m\u001b[43m,\u001b[49m\u001b[43m \u001b[49m\u001b[43mproduct\u001b[49m\u001b[43m)\u001b[49m\n\u001b[1;32m      3\u001b[0m     product_info \u001b[38;5;241m=\u001b[39m []\n\u001b[1;32m      4\u001b[0m     \u001b[38;5;28;01mfor\u001b[39;00m i \u001b[38;5;129;01min\u001b[39;00m \u001b[38;5;28mrange\u001b[39m(\u001b[38;5;28mlen\u001b[39m(response_search)):\n",
      "Cell \u001b[0;32mIn[64], line 13\u001b[0m, in \u001b[0;36mcreate_product_search\u001b[0;34m(product_search_url, product)\u001b[0m\n\u001b[1;32m     11\u001b[0m response \u001b[38;5;241m=\u001b[39m requests\u001b[38;5;241m.\u001b[39mget(url, headers\u001b[38;5;241m=\u001b[39mheaders, params\u001b[38;5;241m=\u001b[39mquerystring)\n\u001b[1;32m     12\u001b[0m response_search \u001b[38;5;241m=\u001b[39m response\u001b[38;5;241m.\u001b[39mjson() \n\u001b[0;32m---> 13\u001b[0m asin_no \u001b[38;5;241m=\u001b[39m \u001b[43mresponse_search\u001b[49m\u001b[43m[\u001b[49m\u001b[38;5;124;43m'\u001b[39;49m\u001b[38;5;124;43mdata\u001b[39;49m\u001b[38;5;124;43m'\u001b[39;49m\u001b[43m]\u001b[49m[\u001b[38;5;124m'\u001b[39m\u001b[38;5;124mproducts\u001b[39m\u001b[38;5;124m'\u001b[39m][\u001b[38;5;241m0\u001b[39m][\u001b[38;5;124m'\u001b[39m\u001b[38;5;124masin\u001b[39m\u001b[38;5;124m'\u001b[39m]\n\u001b[1;32m     15\u001b[0m \u001b[38;5;28;01mreturn\u001b[39;00m response_search[\u001b[38;5;124m'\u001b[39m\u001b[38;5;124mdata\u001b[39m\u001b[38;5;124m'\u001b[39m][\u001b[38;5;124m'\u001b[39m\u001b[38;5;124mproducts\u001b[39m\u001b[38;5;124m'\u001b[39m]\n",
      "\u001b[0;31mKeyError\u001b[0m: 'data'"
     ]
    }
   ],
   "source": [
    "response_search = create_product_review(product_review_url, product_search_url, phone)"
   ]
  },
  {
   "cell_type": "code",
   "execution_count": null,
   "metadata": {},
   "outputs": [
    {
     "data": {
      "text/plain": [
       "[]"
      ]
     },
     "execution_count": 75,
     "metadata": {},
     "output_type": "execute_result"
    }
   ],
   "source": [
    "reviews_responce"
   ]
  },
  {
   "cell_type": "code",
   "execution_count": null,
   "metadata": {},
   "outputs": [],
   "source": [
    "# Create Product Review Function\n",
    "def create_product_review(product_review_url, product_search_url, product):\n",
    "\tasin_no = create_product_search(product_search_url, product)\n",
    "\n",
    "\n",
    "\tquerystring = {\"asin\":asin_no,\"country\":\"US\",\"sort_by\":\"TOP_REVIEWS\",\"star_rating\":\"ALL\",\"verified_purchases_only\":\"false\",\"images_or_videos_only\":\"false\",\"current_format_only\":\"false\",\"page\":\"1\"}\n",
    "\n",
    "\theaders = {\n",
    "\t\t\"x-rapidapi-key\": API_KEY,\n",
    "\t\t\"x-rapidapi-host\": \"real-time-amazon-data.p.rapidapi.com\"\n",
    "\t}\n",
    "\n",
    "\tresponse_ = requests.get(product_review_url, headers=headers, params=querystring)\n",
    "\tresponse_search = response_.json()\n",
    "\treviews_responce = response_search['data']['reviews']\n",
    "\n",
    "\treturn reviews_responce"
   ]
  },
  {
   "cell_type": "code",
   "execution_count": 54,
   "metadata": {},
   "outputs": [],
   "source": [
    "def get_review_comments(product_review_url, product_search_url, product):\n",
    "    reviews_responce = create_product_review(product_review_url, product_search_url, product)\n",
    "  \n",
    "\n",
    "    # review_lst = []\n",
    "    # for item in reviews_responce[0]['review_comment']:\n",
    "    #     review_lst.append(item)\n",
    "        \n",
    "\n",
    "\n",
    "    review_comment_lst = []\n",
    "    for i in range(len(reviews_responce)):\n",
    "        \n",
    "        review_comment_dict = {\n",
    "            'No': i+1,\n",
    "            'review comment': reviews_responce[i]['review_comment']\n",
    "        }\n",
    "        review_comment_lst.append(review_comment_dict)\n",
    "\n",
    "    return review_comment_lst"
   ]
  },
  {
   "cell_type": "code",
   "execution_count": 55,
   "metadata": {},
   "outputs": [],
   "source": [
    "def get_review_comments(product_review_url, product_search_url, product):\n",
    "    reviews_responce = create_product_review(product_review_url, product_search_url, product)\n",
    "  \n",
    "\n",
    "    # review_lst = []\n",
    "    # for item in reviews_responce[0]['review_comment']:\n",
    "    #     review_lst.append(item)\n",
    "        \n",
    "\n",
    "\n",
    "    review_comment_lst = []\n",
    "    for i in range(len(reviews_responce)):\n",
    "        \n",
    "        review_comment_dict = {\n",
    "            'No': i+1,\n",
    "            'review comment': reviews_responce[i]['review_comment']\n",
    "        }\n",
    "        review_comment_lst.append(review_comment_dict)\n",
    "\n",
    "    return review_comment_lst"
   ]
  },
  {
   "cell_type": "code",
   "execution_count": 56,
   "metadata": {},
   "outputs": [
    {
     "ename": "NameError",
     "evalue": "name 'create_product_review' is not defined",
     "output_type": "error",
     "traceback": [
      "\u001b[0;31m---------------------------------------------------------------------------\u001b[0m",
      "\u001b[0;31mNameError\u001b[0m                                 Traceback (most recent call last)",
      "Cell \u001b[0;32mIn[56], line 1\u001b[0m\n\u001b[0;32m----> 1\u001b[0m reviews \u001b[38;5;241m=\u001b[39m \u001b[43mget_review_comments\u001b[49m\u001b[43m(\u001b[49m\u001b[43mproduct_review_url\u001b[49m\u001b[43m,\u001b[49m\u001b[43m \u001b[49m\u001b[43mproduct_search_url\u001b[49m\u001b[43m,\u001b[49m\u001b[43m \u001b[49m\u001b[38;5;124;43m'\u001b[39;49m\u001b[38;5;124;43mphone\u001b[39;49m\u001b[38;5;124;43m'\u001b[39;49m\u001b[43m)\u001b[49m\n",
      "Cell \u001b[0;32mIn[55], line 2\u001b[0m, in \u001b[0;36mget_review_comments\u001b[0;34m(product_review_url, product_search_url, product)\u001b[0m\n\u001b[1;32m      1\u001b[0m \u001b[38;5;28;01mdef\u001b[39;00m \u001b[38;5;21mget_review_comments\u001b[39m(product_review_url, product_search_url, product):\n\u001b[0;32m----> 2\u001b[0m     reviews_responce \u001b[38;5;241m=\u001b[39m \u001b[43mcreate_product_review\u001b[49m(product_review_url, product_search_url, product)\n\u001b[1;32m      5\u001b[0m     \u001b[38;5;66;03m# review_lst = []\u001b[39;00m\n\u001b[1;32m      6\u001b[0m     \u001b[38;5;66;03m# for item in reviews_responce[0]['review_comment']:\u001b[39;00m\n\u001b[1;32m      7\u001b[0m     \u001b[38;5;66;03m#     review_lst.append(item)\u001b[39;00m\n\u001b[1;32m     11\u001b[0m     review_comment_lst \u001b[38;5;241m=\u001b[39m []\n",
      "\u001b[0;31mNameError\u001b[0m: name 'create_product_review' is not defined"
     ]
    }
   ],
   "source": [
    "reviews = get_review_comments(product_review_url, product_search_url, 'phone')"
   ]
  },
  {
   "cell_type": "markdown",
   "metadata": {},
   "source": [
    "### Save Reviews"
   ]
  },
  {
   "cell_type": "code",
   "execution_count": null,
   "metadata": {},
   "outputs": [],
   "source": [
    "def save_review(review_comments):\n",
    "    \n",
    "    with open('reviews.json', 'w') as f:\n",
    "        json.dump(review_comments, f, indent=4)"
   ]
  },
  {
   "cell_type": "code",
   "execution_count": null,
   "metadata": {},
   "outputs": [],
   "source": [
    "save_review(reviews)"
   ]
  },
  {
   "cell_type": "markdown",
   "metadata": {},
   "source": [
    "## Load table"
   ]
  },
  {
   "cell_type": "code",
   "execution_count": 28,
   "metadata": {},
   "outputs": [],
   "source": [
    "df = pd.read_csv('src/data/amazon_scraping_result.csv')"
   ]
  },
  {
   "cell_type": "code",
   "execution_count": 31,
   "metadata": {},
   "outputs": [
    {
     "data": {
      "text/plain": [
       "(10, 21)"
      ]
     },
     "execution_count": 31,
     "metadata": {},
     "output_type": "execute_result"
    }
   ],
   "source": [
    "df.shape"
   ]
  },
  {
   "cell_type": "code",
   "execution_count": 39,
   "metadata": {},
   "outputs": [
    {
     "data": {
      "text/html": [
       "<div>\n",
       "<style scoped>\n",
       "    .dataframe tbody tr th:only-of-type {\n",
       "        vertical-align: middle;\n",
       "    }\n",
       "\n",
       "    .dataframe tbody tr th {\n",
       "        vertical-align: top;\n",
       "    }\n",
       "\n",
       "    .dataframe thead th {\n",
       "        text-align: right;\n",
       "    }\n",
       "</style>\n",
       "<table border=\"1\" class=\"dataframe\">\n",
       "  <thead>\n",
       "    <tr style=\"text-align: right;\">\n",
       "      <th></th>\n",
       "      <th>Unnamed: 0</th>\n",
       "      <th>asin</th>\n",
       "      <th>product_title</th>\n",
       "      <th>product_price</th>\n",
       "      <th>product_original_price</th>\n",
       "      <th>currency</th>\n",
       "      <th>product_star_rating</th>\n",
       "      <th>product_num_ratings</th>\n",
       "      <th>product_url</th>\n",
       "      <th>product_photo</th>\n",
       "      <th>...</th>\n",
       "      <th>product_minimum_offer_price</th>\n",
       "      <th>is_best_seller</th>\n",
       "      <th>is_amazon_choice</th>\n",
       "      <th>is_prime</th>\n",
       "      <th>product_availability</th>\n",
       "      <th>climate_pledge_friendly</th>\n",
       "      <th>sales_volume</th>\n",
       "      <th>delivery</th>\n",
       "      <th>has_variations</th>\n",
       "      <th>reviews</th>\n",
       "    </tr>\n",
       "  </thead>\n",
       "  <tbody>\n",
       "    <tr>\n",
       "      <th>1</th>\n",
       "      <td>1</td>\n",
       "      <td>B0CMT39J9B</td>\n",
       "      <td>Apple iPhone 15 Plus, 128GB, Blue - Unlocked (...</td>\n",
       "      <td>$697.83</td>\n",
       "      <td>$750.00</td>\n",
       "      <td>USD</td>\n",
       "      <td>4.6</td>\n",
       "      <td>272</td>\n",
       "      <td>https://www.amazon.com/dp/B0CMT39J9B</td>\n",
       "      <td>https://m.media-amazon.com/images/I/51-RPOw693...</td>\n",
       "      <td>...</td>\n",
       "      <td>$669.99</td>\n",
       "      <td>False</td>\n",
       "      <td>False</td>\n",
       "      <td>False</td>\n",
       "      <td>Only 2 left in stock - order soon.</td>\n",
       "      <td>False</td>\n",
       "      <td>100+ bought in past month</td>\n",
       "      <td>FREE delivery Sat, Aug 3 Or fastest delivery F...</td>\n",
       "      <td>True</td>\n",
       "      <td>[\"I was skeptical of a refurbished phone, but ...</td>\n",
       "    </tr>\n",
       "  </tbody>\n",
       "</table>\n",
       "<p>1 rows × 21 columns</p>\n",
       "</div>"
      ],
      "text/plain": [
       "   Unnamed: 0        asin                                      product_title  \\\n",
       "1           1  B0CMT39J9B  Apple iPhone 15 Plus, 128GB, Blue - Unlocked (...   \n",
       "\n",
       "  product_price product_original_price currency  product_star_rating  \\\n",
       "1       $697.83                $750.00      USD                  4.6   \n",
       "\n",
       "   product_num_ratings                           product_url  \\\n",
       "1                  272  https://www.amazon.com/dp/B0CMT39J9B   \n",
       "\n",
       "                                       product_photo  ...  \\\n",
       "1  https://m.media-amazon.com/images/I/51-RPOw693...  ...   \n",
       "\n",
       "   product_minimum_offer_price is_best_seller  is_amazon_choice  is_prime  \\\n",
       "1                      $669.99          False             False     False   \n",
       "\n",
       "                 product_availability climate_pledge_friendly  \\\n",
       "1  Only 2 left in stock - order soon.                   False   \n",
       "\n",
       "                sales_volume  \\\n",
       "1  100+ bought in past month   \n",
       "\n",
       "                                            delivery has_variations  \\\n",
       "1  FREE delivery Sat, Aug 3 Or fastest delivery F...           True   \n",
       "\n",
       "                                             reviews  \n",
       "1  [\"I was skeptical of a refurbished phone, but ...  \n",
       "\n",
       "[1 rows x 21 columns]"
      ]
     },
     "execution_count": 39,
     "metadata": {},
     "output_type": "execute_result"
    }
   ],
   "source": [
    "df[df['asin'] == 'B0CMT39J9B']"
   ]
  },
  {
   "cell_type": "code",
   "execution_count": 40,
   "metadata": {},
   "outputs": [],
   "source": [
    "selected_df = df[['asin', 'product_title', 'product_num_ratings', 'reviews']]"
   ]
  },
  {
   "cell_type": "code",
   "execution_count": 47,
   "metadata": {},
   "outputs": [
    {
     "data": {
      "text/html": [
       "<div>\n",
       "<style scoped>\n",
       "    .dataframe tbody tr th:only-of-type {\n",
       "        vertical-align: middle;\n",
       "    }\n",
       "\n",
       "    .dataframe tbody tr th {\n",
       "        vertical-align: top;\n",
       "    }\n",
       "\n",
       "    .dataframe thead th {\n",
       "        text-align: right;\n",
       "    }\n",
       "</style>\n",
       "<table border=\"1\" class=\"dataframe\">\n",
       "  <thead>\n",
       "    <tr style=\"text-align: right;\">\n",
       "      <th></th>\n",
       "      <th>asin</th>\n",
       "      <th>product_title</th>\n",
       "      <th>product_num_ratings</th>\n",
       "      <th>reviews</th>\n",
       "    </tr>\n",
       "  </thead>\n",
       "  <tbody>\n",
       "    <tr>\n",
       "      <th>0</th>\n",
       "      <td>B0CMPLL2QT</td>\n",
       "      <td>Apple iPhone 15, 128GB, Pink - T-Mobile (Renewed)</td>\n",
       "      <td>435</td>\n",
       "      <td>['Phone came really fast. I bought the phone o...</td>\n",
       "    </tr>\n",
       "    <tr>\n",
       "      <th>1</th>\n",
       "      <td>B0CMT39J9B</td>\n",
       "      <td>Apple iPhone 15 Plus, 128GB, Blue - Unlocked (...</td>\n",
       "      <td>272</td>\n",
       "      <td>[\"I was skeptical of a refurbished phone, but ...</td>\n",
       "    </tr>\n",
       "    <tr>\n",
       "      <th>2</th>\n",
       "      <td>B0CRJ1JNNS</td>\n",
       "      <td>Apple iPhone 15, 128GB, Blue - Unlocked (Renew...</td>\n",
       "      <td>41</td>\n",
       "      <td>['beautiful phone, no damage or scratches anyw...</td>\n",
       "    </tr>\n",
       "    <tr>\n",
       "      <th>3</th>\n",
       "      <td>B0CMYXFK3R</td>\n",
       "      <td>Apple iPhone 15 Pro, 256GB, Blue Titanium - Un...</td>\n",
       "      <td>309</td>\n",
       "      <td>[\"I'm coming from an S22 to the IPhone 15 Pro,...</td>\n",
       "    </tr>\n",
       "    <tr>\n",
       "      <th>4</th>\n",
       "      <td>B0CLMGHDBV</td>\n",
       "      <td>Apple iPhone 15 Pro Max / 256GB / Black Titani...</td>\n",
       "      <td>17</td>\n",
       "      <td>['Buen producto y nuevo', 'Happy with the prod...</td>\n",
       "    </tr>\n",
       "    <tr>\n",
       "      <th>5</th>\n",
       "      <td>B0CRJJBBPY</td>\n",
       "      <td>Apple iPhone 15 Pro Max, 256GB, Black Titanium...</td>\n",
       "      <td>8</td>\n",
       "      <td>['It does get hot initially when charging, but...</td>\n",
       "    </tr>\n",
       "    <tr>\n",
       "      <th>6</th>\n",
       "      <td>B0CRJNP7DH</td>\n",
       "      <td>Apple iPhone 15, 128GB, Black - T-Mobile (Rene...</td>\n",
       "      <td>0</td>\n",
       "      <td>[]</td>\n",
       "    </tr>\n",
       "    <tr>\n",
       "      <th>7</th>\n",
       "      <td>B0CMZDBVWT</td>\n",
       "      <td>Apple iPhone 15 Pro Max, 256GB, Blue Titanium ...</td>\n",
       "      <td>234</td>\n",
       "      <td>['It took time to convince myself to try a ref...</td>\n",
       "    </tr>\n",
       "    <tr>\n",
       "      <th>8</th>\n",
       "      <td>B0CRJTPR6T</td>\n",
       "      <td>Apple iPhone 15 Pro Max, 256GB, White Titanium...</td>\n",
       "      <td>22</td>\n",
       "      <td>['i was needed a phone and thought I will Try ...</td>\n",
       "    </tr>\n",
       "    <tr>\n",
       "      <th>9</th>\n",
       "      <td>B0CRJ2XRBJ</td>\n",
       "      <td>Apple iPhone 15 Plus, 256GB, Black - Unlocked ...</td>\n",
       "      <td>2</td>\n",
       "      <td>['I was a little scared because I’ve never pur...</td>\n",
       "    </tr>\n",
       "  </tbody>\n",
       "</table>\n",
       "</div>"
      ],
      "text/plain": [
       "         asin                                      product_title  \\\n",
       "0  B0CMPLL2QT  Apple iPhone 15, 128GB, Pink - T-Mobile (Renewed)   \n",
       "1  B0CMT39J9B  Apple iPhone 15 Plus, 128GB, Blue - Unlocked (...   \n",
       "2  B0CRJ1JNNS  Apple iPhone 15, 128GB, Blue - Unlocked (Renew...   \n",
       "3  B0CMYXFK3R  Apple iPhone 15 Pro, 256GB, Blue Titanium - Un...   \n",
       "4  B0CLMGHDBV  Apple iPhone 15 Pro Max / 256GB / Black Titani...   \n",
       "5  B0CRJJBBPY  Apple iPhone 15 Pro Max, 256GB, Black Titanium...   \n",
       "6  B0CRJNP7DH  Apple iPhone 15, 128GB, Black - T-Mobile (Rene...   \n",
       "7  B0CMZDBVWT  Apple iPhone 15 Pro Max, 256GB, Blue Titanium ...   \n",
       "8  B0CRJTPR6T  Apple iPhone 15 Pro Max, 256GB, White Titanium...   \n",
       "9  B0CRJ2XRBJ  Apple iPhone 15 Plus, 256GB, Black - Unlocked ...   \n",
       "\n",
       "   product_num_ratings                                            reviews  \n",
       "0                  435  ['Phone came really fast. I bought the phone o...  \n",
       "1                  272  [\"I was skeptical of a refurbished phone, but ...  \n",
       "2                   41  ['beautiful phone, no damage or scratches anyw...  \n",
       "3                  309  [\"I'm coming from an S22 to the IPhone 15 Pro,...  \n",
       "4                   17  ['Buen producto y nuevo', 'Happy with the prod...  \n",
       "5                    8  ['It does get hot initially when charging, but...  \n",
       "6                    0                                                 []  \n",
       "7                  234  ['It took time to convince myself to try a ref...  \n",
       "8                   22  ['i was needed a phone and thought I will Try ...  \n",
       "9                    2  ['I was a little scared because I’ve never pur...  "
      ]
     },
     "execution_count": 47,
     "metadata": {},
     "output_type": "execute_result"
    }
   ],
   "source": [
    "selected_df"
   ]
  },
  {
   "cell_type": "code",
   "execution_count": 54,
   "metadata": {},
   "outputs": [
    {
     "data": {
      "text/plain": [
       "['Phone came really fast. I bought the phone on July 20th, phone was expected to arrive by Wednesday but instead came by today which is Monday. Phone is in excellent condition and everything works perfectly. It doesn’t come with the original box or charger however a charger is provided which charges really fast! I would definitely buy again! Also comes with no scratches whatsoever!',\n",
       " 'I ordered this phone because it was cheaper than a renewed one on the Apple site. I did watch a lot of videos about fake iPhone 15. And this one passed all the tests. I was happy to see that the battery is 100% capacity. And it only had eight cycles when I got it. There was a tiny bit of scratching on the screen, but with the screen protector I put on I can’t even tell. I think I will keep getting Amazon renewed phones from now on. My last phone was an iPhone RX so this is a huge upgrade.',\n",
       " 'I bought a iphone 15 for my son and it came on time the phone works great tmobile was surprised to see a phone actually works at a cheap price. Phone is in good condition good deal I will be useing them again for all my other kids.',\n",
       " 'My renewed iphone came with very minimal defects (1 or 2 small one on the sides). Almost to small to notice. The screen was protected by a protector and also a sleeve on top of a plastic bag. The box it came in was secure on all sides and the phone was placed in a plastic holder. Ive used the phone for almost 2 days and have 0 issues or concerns. The phone only took 3 days to ship!',\n",
       " 'Upgraded from my iPhone 11 that was suffering due to poor battery health after many years of use. Was nervous about buying a refurbished iPhone but thought that Amazon is a trusted shopping center that I might give it a try to buy the new iPhone 15 for a discount through this seller. This iPhone 15 is a great upgrade. I watched a few videos online to make sure this phone was authentic and from my observation it is just like new. The phone came with 100% battery health and only 12 cycles on it. Battery works really well. Has a 5G connection and setting up the phone with my cell carrier Verizon was a breeze with e-sim feature. The phone came with a charger as well. The camera takes really great quality photos as well (Picture of the pink rose is the iPhone 15’s camera quality). You should expect to find all iPhone 15 features on this phone, including the Dynamic Island, if you so choose to purchase this refurbished model. The only fault on this phone is that it heats up every time I’m on a video call. However, through research it seems this problem might be the same with all iPhone 15 models through Apple. After my experience shopping for this new phone I would consider buying a refurbished device in the future with Amazon again as well. Such a great deal for a new phone.',\n",
       " \"It was time for me to upgrade my old iPhone 7 since it was not updating to the latest iOS. I researched and decided I got the best bang for my buck if I went for the iPhone 15 rather than the iPhone 13. The quality of the unlocked refurbished phone is outstanding. It's just like new except for the packaging. I especially appreciate the much longer battery life as my previous phone I had to recharge constantly during the day. On this one the battery lasts all day. I haven't had the opportunity to use the camera often but it seems there are a few nice options on there. The extra black space at the top of the phone shows any extra application you may be using in tandem with what's on the face of the phone. This is really handy, for example, if you're using the Google navigation and go away from that to check your messages.\",\n",
       " 'Screen shows some pink lines in the sunlight but seems to work fine',\n",
       " 'Phone came as described. Color was great, battery life was 100%',\n",
       " 'I just bought the iPhone 15 with 256Gb memory for $710. The battery had 2 cycles on it. Manufactured in Dec 2023. First used May 2024. Easy set-up with eSIM (just to type in the IMEI) and super simple transfer of data from my trusted, but aging iPhone 7+. The phone had no scratches - condition as new (excellent). What is not to like 😂 Happy to spend $200 less 😊',\n",
       " 'Returned waiting for return from Affirm, who has been harassing me, (threatening my credit rating) for payment.\\n\\nSeller was great. Easy to message. Quick to respond.\\n\\nHoping Affirm follows through, need to contact Amazon CUSTOMER SUPPORT. Hoping to avoid a hassle.']"
      ]
     },
     "execution_count": 54,
     "metadata": {},
     "output_type": "execute_result"
    }
   ],
   "source": [
    "sample_review = eval(selected_df[selected_df['asin'] == 'B0CMPLL2QT']['reviews'][0])"
   ]
  },
  {
   "cell_type": "code",
   "execution_count": 129,
   "metadata": {},
   "outputs": [],
   "source": [
    "def get_review_comments(df, asin_no):\n",
    "\n",
    "    reviews = []\n",
    "    for i in range(df.shape[0]):   \n",
    "        comment = eval(df[df['asin'] == asin_no]['reviews'][0])\n",
    "        reviews.append(comment)\n",
    "    \n",
    "    return reviews"
   ]
  },
  {
   "cell_type": "code",
   "execution_count": 130,
   "metadata": {},
   "outputs": [],
   "source": [
    "reviewes_df = get_review_comments(selected_df, 'B0CMPLL2QT')"
   ]
  },
  {
   "cell_type": "code",
   "execution_count": 132,
   "metadata": {},
   "outputs": [
    {
     "data": {
      "text/plain": [
       "10"
      ]
     },
     "execution_count": 132,
     "metadata": {},
     "output_type": "execute_result"
    }
   ],
   "source": [
    "len(reviewes_df)"
   ]
  },
  {
   "cell_type": "code",
   "execution_count": 133,
   "metadata": {},
   "outputs": [
    {
     "data": {
      "text/plain": [
       "[['Phone came really fast. I bought the phone on July 20th, phone was expected to arrive by Wednesday but instead came by today which is Monday. Phone is in excellent condition and everything works perfectly. It doesn’t come with the original box or charger however a charger is provided which charges really fast! I would definitely buy again! Also comes with no scratches whatsoever!',\n",
       "  'I ordered this phone because it was cheaper than a renewed one on the Apple site. I did watch a lot of videos about fake iPhone 15. And this one passed all the tests. I was happy to see that the battery is 100% capacity. And it only had eight cycles when I got it. There was a tiny bit of scratching on the screen, but with the screen protector I put on I can’t even tell. I think I will keep getting Amazon renewed phones from now on. My last phone was an iPhone RX so this is a huge upgrade.',\n",
       "  'I bought a iphone 15 for my son and it came on time the phone works great tmobile was surprised to see a phone actually works at a cheap price. Phone is in good condition good deal I will be useing them again for all my other kids.',\n",
       "  'My renewed iphone came with very minimal defects (1 or 2 small one on the sides). Almost to small to notice. The screen was protected by a protector and also a sleeve on top of a plastic bag. The box it came in was secure on all sides and the phone was placed in a plastic holder. Ive used the phone for almost 2 days and have 0 issues or concerns. The phone only took 3 days to ship!',\n",
       "  'Upgraded from my iPhone 11 that was suffering due to poor battery health after many years of use. Was nervous about buying a refurbished iPhone but thought that Amazon is a trusted shopping center that I might give it a try to buy the new iPhone 15 for a discount through this seller. This iPhone 15 is a great upgrade. I watched a few videos online to make sure this phone was authentic and from my observation it is just like new. The phone came with 100% battery health and only 12 cycles on it. Battery works really well. Has a 5G connection and setting up the phone with my cell carrier Verizon was a breeze with e-sim feature. The phone came with a charger as well. The camera takes really great quality photos as well (Picture of the pink rose is the iPhone 15’s camera quality). You should expect to find all iPhone 15 features on this phone, including the Dynamic Island, if you so choose to purchase this refurbished model. The only fault on this phone is that it heats up every time I’m on a video call. However, through research it seems this problem might be the same with all iPhone 15 models through Apple. After my experience shopping for this new phone I would consider buying a refurbished device in the future with Amazon again as well. Such a great deal for a new phone.',\n",
       "  \"It was time for me to upgrade my old iPhone 7 since it was not updating to the latest iOS. I researched and decided I got the best bang for my buck if I went for the iPhone 15 rather than the iPhone 13. The quality of the unlocked refurbished phone is outstanding. It's just like new except for the packaging. I especially appreciate the much longer battery life as my previous phone I had to recharge constantly during the day. On this one the battery lasts all day. I haven't had the opportunity to use the camera often but it seems there are a few nice options on there. The extra black space at the top of the phone shows any extra application you may be using in tandem with what's on the face of the phone. This is really handy, for example, if you're using the Google navigation and go away from that to check your messages.\",\n",
       "  'Screen shows some pink lines in the sunlight but seems to work fine',\n",
       "  'Phone came as described. Color was great, battery life was 100%',\n",
       "  'I just bought the iPhone 15 with 256Gb memory for $710. The battery had 2 cycles on it. Manufactured in Dec 2023. First used May 2024. Easy set-up with eSIM (just to type in the IMEI) and super simple transfer of data from my trusted, but aging iPhone 7+. The phone had no scratches - condition as new (excellent). What is not to like 😂 Happy to spend $200 less 😊',\n",
       "  'Returned waiting for return from Affirm, who has been harassing me, (threatening my credit rating) for payment.\\n\\nSeller was great. Easy to message. Quick to respond.\\n\\nHoping Affirm follows through, need to contact Amazon CUSTOMER SUPPORT. Hoping to avoid a hassle.'],\n",
       " ['Phone came really fast. I bought the phone on July 20th, phone was expected to arrive by Wednesday but instead came by today which is Monday. Phone is in excellent condition and everything works perfectly. It doesn’t come with the original box or charger however a charger is provided which charges really fast! I would definitely buy again! Also comes with no scratches whatsoever!',\n",
       "  'I ordered this phone because it was cheaper than a renewed one on the Apple site. I did watch a lot of videos about fake iPhone 15. And this one passed all the tests. I was happy to see that the battery is 100% capacity. And it only had eight cycles when I got it. There was a tiny bit of scratching on the screen, but with the screen protector I put on I can’t even tell. I think I will keep getting Amazon renewed phones from now on. My last phone was an iPhone RX so this is a huge upgrade.',\n",
       "  'I bought a iphone 15 for my son and it came on time the phone works great tmobile was surprised to see a phone actually works at a cheap price. Phone is in good condition good deal I will be useing them again for all my other kids.',\n",
       "  'My renewed iphone came with very minimal defects (1 or 2 small one on the sides). Almost to small to notice. The screen was protected by a protector and also a sleeve on top of a plastic bag. The box it came in was secure on all sides and the phone was placed in a plastic holder. Ive used the phone for almost 2 days and have 0 issues or concerns. The phone only took 3 days to ship!',\n",
       "  'Upgraded from my iPhone 11 that was suffering due to poor battery health after many years of use. Was nervous about buying a refurbished iPhone but thought that Amazon is a trusted shopping center that I might give it a try to buy the new iPhone 15 for a discount through this seller. This iPhone 15 is a great upgrade. I watched a few videos online to make sure this phone was authentic and from my observation it is just like new. The phone came with 100% battery health and only 12 cycles on it. Battery works really well. Has a 5G connection and setting up the phone with my cell carrier Verizon was a breeze with e-sim feature. The phone came with a charger as well. The camera takes really great quality photos as well (Picture of the pink rose is the iPhone 15’s camera quality). You should expect to find all iPhone 15 features on this phone, including the Dynamic Island, if you so choose to purchase this refurbished model. The only fault on this phone is that it heats up every time I’m on a video call. However, through research it seems this problem might be the same with all iPhone 15 models through Apple. After my experience shopping for this new phone I would consider buying a refurbished device in the future with Amazon again as well. Such a great deal for a new phone.',\n",
       "  \"It was time for me to upgrade my old iPhone 7 since it was not updating to the latest iOS. I researched and decided I got the best bang for my buck if I went for the iPhone 15 rather than the iPhone 13. The quality of the unlocked refurbished phone is outstanding. It's just like new except for the packaging. I especially appreciate the much longer battery life as my previous phone I had to recharge constantly during the day. On this one the battery lasts all day. I haven't had the opportunity to use the camera often but it seems there are a few nice options on there. The extra black space at the top of the phone shows any extra application you may be using in tandem with what's on the face of the phone. This is really handy, for example, if you're using the Google navigation and go away from that to check your messages.\",\n",
       "  'Screen shows some pink lines in the sunlight but seems to work fine',\n",
       "  'Phone came as described. Color was great, battery life was 100%',\n",
       "  'I just bought the iPhone 15 with 256Gb memory for $710. The battery had 2 cycles on it. Manufactured in Dec 2023. First used May 2024. Easy set-up with eSIM (just to type in the IMEI) and super simple transfer of data from my trusted, but aging iPhone 7+. The phone had no scratches - condition as new (excellent). What is not to like 😂 Happy to spend $200 less 😊',\n",
       "  'Returned waiting for return from Affirm, who has been harassing me, (threatening my credit rating) for payment.\\n\\nSeller was great. Easy to message. Quick to respond.\\n\\nHoping Affirm follows through, need to contact Amazon CUSTOMER SUPPORT. Hoping to avoid a hassle.'],\n",
       " ['Phone came really fast. I bought the phone on July 20th, phone was expected to arrive by Wednesday but instead came by today which is Monday. Phone is in excellent condition and everything works perfectly. It doesn’t come with the original box or charger however a charger is provided which charges really fast! I would definitely buy again! Also comes with no scratches whatsoever!',\n",
       "  'I ordered this phone because it was cheaper than a renewed one on the Apple site. I did watch a lot of videos about fake iPhone 15. And this one passed all the tests. I was happy to see that the battery is 100% capacity. And it only had eight cycles when I got it. There was a tiny bit of scratching on the screen, but with the screen protector I put on I can’t even tell. I think I will keep getting Amazon renewed phones from now on. My last phone was an iPhone RX so this is a huge upgrade.',\n",
       "  'I bought a iphone 15 for my son and it came on time the phone works great tmobile was surprised to see a phone actually works at a cheap price. Phone is in good condition good deal I will be useing them again for all my other kids.',\n",
       "  'My renewed iphone came with very minimal defects (1 or 2 small one on the sides). Almost to small to notice. The screen was protected by a protector and also a sleeve on top of a plastic bag. The box it came in was secure on all sides and the phone was placed in a plastic holder. Ive used the phone for almost 2 days and have 0 issues or concerns. The phone only took 3 days to ship!',\n",
       "  'Upgraded from my iPhone 11 that was suffering due to poor battery health after many years of use. Was nervous about buying a refurbished iPhone but thought that Amazon is a trusted shopping center that I might give it a try to buy the new iPhone 15 for a discount through this seller. This iPhone 15 is a great upgrade. I watched a few videos online to make sure this phone was authentic and from my observation it is just like new. The phone came with 100% battery health and only 12 cycles on it. Battery works really well. Has a 5G connection and setting up the phone with my cell carrier Verizon was a breeze with e-sim feature. The phone came with a charger as well. The camera takes really great quality photos as well (Picture of the pink rose is the iPhone 15’s camera quality). You should expect to find all iPhone 15 features on this phone, including the Dynamic Island, if you so choose to purchase this refurbished model. The only fault on this phone is that it heats up every time I’m on a video call. However, through research it seems this problem might be the same with all iPhone 15 models through Apple. After my experience shopping for this new phone I would consider buying a refurbished device in the future with Amazon again as well. Such a great deal for a new phone.',\n",
       "  \"It was time for me to upgrade my old iPhone 7 since it was not updating to the latest iOS. I researched and decided I got the best bang for my buck if I went for the iPhone 15 rather than the iPhone 13. The quality of the unlocked refurbished phone is outstanding. It's just like new except for the packaging. I especially appreciate the much longer battery life as my previous phone I had to recharge constantly during the day. On this one the battery lasts all day. I haven't had the opportunity to use the camera often but it seems there are a few nice options on there. The extra black space at the top of the phone shows any extra application you may be using in tandem with what's on the face of the phone. This is really handy, for example, if you're using the Google navigation and go away from that to check your messages.\",\n",
       "  'Screen shows some pink lines in the sunlight but seems to work fine',\n",
       "  'Phone came as described. Color was great, battery life was 100%',\n",
       "  'I just bought the iPhone 15 with 256Gb memory for $710. The battery had 2 cycles on it. Manufactured in Dec 2023. First used May 2024. Easy set-up with eSIM (just to type in the IMEI) and super simple transfer of data from my trusted, but aging iPhone 7+. The phone had no scratches - condition as new (excellent). What is not to like 😂 Happy to spend $200 less 😊',\n",
       "  'Returned waiting for return from Affirm, who has been harassing me, (threatening my credit rating) for payment.\\n\\nSeller was great. Easy to message. Quick to respond.\\n\\nHoping Affirm follows through, need to contact Amazon CUSTOMER SUPPORT. Hoping to avoid a hassle.'],\n",
       " ['Phone came really fast. I bought the phone on July 20th, phone was expected to arrive by Wednesday but instead came by today which is Monday. Phone is in excellent condition and everything works perfectly. It doesn’t come with the original box or charger however a charger is provided which charges really fast! I would definitely buy again! Also comes with no scratches whatsoever!',\n",
       "  'I ordered this phone because it was cheaper than a renewed one on the Apple site. I did watch a lot of videos about fake iPhone 15. And this one passed all the tests. I was happy to see that the battery is 100% capacity. And it only had eight cycles when I got it. There was a tiny bit of scratching on the screen, but with the screen protector I put on I can’t even tell. I think I will keep getting Amazon renewed phones from now on. My last phone was an iPhone RX so this is a huge upgrade.',\n",
       "  'I bought a iphone 15 for my son and it came on time the phone works great tmobile was surprised to see a phone actually works at a cheap price. Phone is in good condition good deal I will be useing them again for all my other kids.',\n",
       "  'My renewed iphone came with very minimal defects (1 or 2 small one on the sides). Almost to small to notice. The screen was protected by a protector and also a sleeve on top of a plastic bag. The box it came in was secure on all sides and the phone was placed in a plastic holder. Ive used the phone for almost 2 days and have 0 issues or concerns. The phone only took 3 days to ship!',\n",
       "  'Upgraded from my iPhone 11 that was suffering due to poor battery health after many years of use. Was nervous about buying a refurbished iPhone but thought that Amazon is a trusted shopping center that I might give it a try to buy the new iPhone 15 for a discount through this seller. This iPhone 15 is a great upgrade. I watched a few videos online to make sure this phone was authentic and from my observation it is just like new. The phone came with 100% battery health and only 12 cycles on it. Battery works really well. Has a 5G connection and setting up the phone with my cell carrier Verizon was a breeze with e-sim feature. The phone came with a charger as well. The camera takes really great quality photos as well (Picture of the pink rose is the iPhone 15’s camera quality). You should expect to find all iPhone 15 features on this phone, including the Dynamic Island, if you so choose to purchase this refurbished model. The only fault on this phone is that it heats up every time I’m on a video call. However, through research it seems this problem might be the same with all iPhone 15 models through Apple. After my experience shopping for this new phone I would consider buying a refurbished device in the future with Amazon again as well. Such a great deal for a new phone.',\n",
       "  \"It was time for me to upgrade my old iPhone 7 since it was not updating to the latest iOS. I researched and decided I got the best bang for my buck if I went for the iPhone 15 rather than the iPhone 13. The quality of the unlocked refurbished phone is outstanding. It's just like new except for the packaging. I especially appreciate the much longer battery life as my previous phone I had to recharge constantly during the day. On this one the battery lasts all day. I haven't had the opportunity to use the camera often but it seems there are a few nice options on there. The extra black space at the top of the phone shows any extra application you may be using in tandem with what's on the face of the phone. This is really handy, for example, if you're using the Google navigation and go away from that to check your messages.\",\n",
       "  'Screen shows some pink lines in the sunlight but seems to work fine',\n",
       "  'Phone came as described. Color was great, battery life was 100%',\n",
       "  'I just bought the iPhone 15 with 256Gb memory for $710. The battery had 2 cycles on it. Manufactured in Dec 2023. First used May 2024. Easy set-up with eSIM (just to type in the IMEI) and super simple transfer of data from my trusted, but aging iPhone 7+. The phone had no scratches - condition as new (excellent). What is not to like 😂 Happy to spend $200 less 😊',\n",
       "  'Returned waiting for return from Affirm, who has been harassing me, (threatening my credit rating) for payment.\\n\\nSeller was great. Easy to message. Quick to respond.\\n\\nHoping Affirm follows through, need to contact Amazon CUSTOMER SUPPORT. Hoping to avoid a hassle.'],\n",
       " ['Phone came really fast. I bought the phone on July 20th, phone was expected to arrive by Wednesday but instead came by today which is Monday. Phone is in excellent condition and everything works perfectly. It doesn’t come with the original box or charger however a charger is provided which charges really fast! I would definitely buy again! Also comes with no scratches whatsoever!',\n",
       "  'I ordered this phone because it was cheaper than a renewed one on the Apple site. I did watch a lot of videos about fake iPhone 15. And this one passed all the tests. I was happy to see that the battery is 100% capacity. And it only had eight cycles when I got it. There was a tiny bit of scratching on the screen, but with the screen protector I put on I can’t even tell. I think I will keep getting Amazon renewed phones from now on. My last phone was an iPhone RX so this is a huge upgrade.',\n",
       "  'I bought a iphone 15 for my son and it came on time the phone works great tmobile was surprised to see a phone actually works at a cheap price. Phone is in good condition good deal I will be useing them again for all my other kids.',\n",
       "  'My renewed iphone came with very minimal defects (1 or 2 small one on the sides). Almost to small to notice. The screen was protected by a protector and also a sleeve on top of a plastic bag. The box it came in was secure on all sides and the phone was placed in a plastic holder. Ive used the phone for almost 2 days and have 0 issues or concerns. The phone only took 3 days to ship!',\n",
       "  'Upgraded from my iPhone 11 that was suffering due to poor battery health after many years of use. Was nervous about buying a refurbished iPhone but thought that Amazon is a trusted shopping center that I might give it a try to buy the new iPhone 15 for a discount through this seller. This iPhone 15 is a great upgrade. I watched a few videos online to make sure this phone was authentic and from my observation it is just like new. The phone came with 100% battery health and only 12 cycles on it. Battery works really well. Has a 5G connection and setting up the phone with my cell carrier Verizon was a breeze with e-sim feature. The phone came with a charger as well. The camera takes really great quality photos as well (Picture of the pink rose is the iPhone 15’s camera quality). You should expect to find all iPhone 15 features on this phone, including the Dynamic Island, if you so choose to purchase this refurbished model. The only fault on this phone is that it heats up every time I’m on a video call. However, through research it seems this problem might be the same with all iPhone 15 models through Apple. After my experience shopping for this new phone I would consider buying a refurbished device in the future with Amazon again as well. Such a great deal for a new phone.',\n",
       "  \"It was time for me to upgrade my old iPhone 7 since it was not updating to the latest iOS. I researched and decided I got the best bang for my buck if I went for the iPhone 15 rather than the iPhone 13. The quality of the unlocked refurbished phone is outstanding. It's just like new except for the packaging. I especially appreciate the much longer battery life as my previous phone I had to recharge constantly during the day. On this one the battery lasts all day. I haven't had the opportunity to use the camera often but it seems there are a few nice options on there. The extra black space at the top of the phone shows any extra application you may be using in tandem with what's on the face of the phone. This is really handy, for example, if you're using the Google navigation and go away from that to check your messages.\",\n",
       "  'Screen shows some pink lines in the sunlight but seems to work fine',\n",
       "  'Phone came as described. Color was great, battery life was 100%',\n",
       "  'I just bought the iPhone 15 with 256Gb memory for $710. The battery had 2 cycles on it. Manufactured in Dec 2023. First used May 2024. Easy set-up with eSIM (just to type in the IMEI) and super simple transfer of data from my trusted, but aging iPhone 7+. The phone had no scratches - condition as new (excellent). What is not to like 😂 Happy to spend $200 less 😊',\n",
       "  'Returned waiting for return from Affirm, who has been harassing me, (threatening my credit rating) for payment.\\n\\nSeller was great. Easy to message. Quick to respond.\\n\\nHoping Affirm follows through, need to contact Amazon CUSTOMER SUPPORT. Hoping to avoid a hassle.'],\n",
       " ['Phone came really fast. I bought the phone on July 20th, phone was expected to arrive by Wednesday but instead came by today which is Monday. Phone is in excellent condition and everything works perfectly. It doesn’t come with the original box or charger however a charger is provided which charges really fast! I would definitely buy again! Also comes with no scratches whatsoever!',\n",
       "  'I ordered this phone because it was cheaper than a renewed one on the Apple site. I did watch a lot of videos about fake iPhone 15. And this one passed all the tests. I was happy to see that the battery is 100% capacity. And it only had eight cycles when I got it. There was a tiny bit of scratching on the screen, but with the screen protector I put on I can’t even tell. I think I will keep getting Amazon renewed phones from now on. My last phone was an iPhone RX so this is a huge upgrade.',\n",
       "  'I bought a iphone 15 for my son and it came on time the phone works great tmobile was surprised to see a phone actually works at a cheap price. Phone is in good condition good deal I will be useing them again for all my other kids.',\n",
       "  'My renewed iphone came with very minimal defects (1 or 2 small one on the sides). Almost to small to notice. The screen was protected by a protector and also a sleeve on top of a plastic bag. The box it came in was secure on all sides and the phone was placed in a plastic holder. Ive used the phone for almost 2 days and have 0 issues or concerns. The phone only took 3 days to ship!',\n",
       "  'Upgraded from my iPhone 11 that was suffering due to poor battery health after many years of use. Was nervous about buying a refurbished iPhone but thought that Amazon is a trusted shopping center that I might give it a try to buy the new iPhone 15 for a discount through this seller. This iPhone 15 is a great upgrade. I watched a few videos online to make sure this phone was authentic and from my observation it is just like new. The phone came with 100% battery health and only 12 cycles on it. Battery works really well. Has a 5G connection and setting up the phone with my cell carrier Verizon was a breeze with e-sim feature. The phone came with a charger as well. The camera takes really great quality photos as well (Picture of the pink rose is the iPhone 15’s camera quality). You should expect to find all iPhone 15 features on this phone, including the Dynamic Island, if you so choose to purchase this refurbished model. The only fault on this phone is that it heats up every time I’m on a video call. However, through research it seems this problem might be the same with all iPhone 15 models through Apple. After my experience shopping for this new phone I would consider buying a refurbished device in the future with Amazon again as well. Such a great deal for a new phone.',\n",
       "  \"It was time for me to upgrade my old iPhone 7 since it was not updating to the latest iOS. I researched and decided I got the best bang for my buck if I went for the iPhone 15 rather than the iPhone 13. The quality of the unlocked refurbished phone is outstanding. It's just like new except for the packaging. I especially appreciate the much longer battery life as my previous phone I had to recharge constantly during the day. On this one the battery lasts all day. I haven't had the opportunity to use the camera often but it seems there are a few nice options on there. The extra black space at the top of the phone shows any extra application you may be using in tandem with what's on the face of the phone. This is really handy, for example, if you're using the Google navigation and go away from that to check your messages.\",\n",
       "  'Screen shows some pink lines in the sunlight but seems to work fine',\n",
       "  'Phone came as described. Color was great, battery life was 100%',\n",
       "  'I just bought the iPhone 15 with 256Gb memory for $710. The battery had 2 cycles on it. Manufactured in Dec 2023. First used May 2024. Easy set-up with eSIM (just to type in the IMEI) and super simple transfer of data from my trusted, but aging iPhone 7+. The phone had no scratches - condition as new (excellent). What is not to like 😂 Happy to spend $200 less 😊',\n",
       "  'Returned waiting for return from Affirm, who has been harassing me, (threatening my credit rating) for payment.\\n\\nSeller was great. Easy to message. Quick to respond.\\n\\nHoping Affirm follows through, need to contact Amazon CUSTOMER SUPPORT. Hoping to avoid a hassle.'],\n",
       " ['Phone came really fast. I bought the phone on July 20th, phone was expected to arrive by Wednesday but instead came by today which is Monday. Phone is in excellent condition and everything works perfectly. It doesn’t come with the original box or charger however a charger is provided which charges really fast! I would definitely buy again! Also comes with no scratches whatsoever!',\n",
       "  'I ordered this phone because it was cheaper than a renewed one on the Apple site. I did watch a lot of videos about fake iPhone 15. And this one passed all the tests. I was happy to see that the battery is 100% capacity. And it only had eight cycles when I got it. There was a tiny bit of scratching on the screen, but with the screen protector I put on I can’t even tell. I think I will keep getting Amazon renewed phones from now on. My last phone was an iPhone RX so this is a huge upgrade.',\n",
       "  'I bought a iphone 15 for my son and it came on time the phone works great tmobile was surprised to see a phone actually works at a cheap price. Phone is in good condition good deal I will be useing them again for all my other kids.',\n",
       "  'My renewed iphone came with very minimal defects (1 or 2 small one on the sides). Almost to small to notice. The screen was protected by a protector and also a sleeve on top of a plastic bag. The box it came in was secure on all sides and the phone was placed in a plastic holder. Ive used the phone for almost 2 days and have 0 issues or concerns. The phone only took 3 days to ship!',\n",
       "  'Upgraded from my iPhone 11 that was suffering due to poor battery health after many years of use. Was nervous about buying a refurbished iPhone but thought that Amazon is a trusted shopping center that I might give it a try to buy the new iPhone 15 for a discount through this seller. This iPhone 15 is a great upgrade. I watched a few videos online to make sure this phone was authentic and from my observation it is just like new. The phone came with 100% battery health and only 12 cycles on it. Battery works really well. Has a 5G connection and setting up the phone with my cell carrier Verizon was a breeze with e-sim feature. The phone came with a charger as well. The camera takes really great quality photos as well (Picture of the pink rose is the iPhone 15’s camera quality). You should expect to find all iPhone 15 features on this phone, including the Dynamic Island, if you so choose to purchase this refurbished model. The only fault on this phone is that it heats up every time I’m on a video call. However, through research it seems this problem might be the same with all iPhone 15 models through Apple. After my experience shopping for this new phone I would consider buying a refurbished device in the future with Amazon again as well. Such a great deal for a new phone.',\n",
       "  \"It was time for me to upgrade my old iPhone 7 since it was not updating to the latest iOS. I researched and decided I got the best bang for my buck if I went for the iPhone 15 rather than the iPhone 13. The quality of the unlocked refurbished phone is outstanding. It's just like new except for the packaging. I especially appreciate the much longer battery life as my previous phone I had to recharge constantly during the day. On this one the battery lasts all day. I haven't had the opportunity to use the camera often but it seems there are a few nice options on there. The extra black space at the top of the phone shows any extra application you may be using in tandem with what's on the face of the phone. This is really handy, for example, if you're using the Google navigation and go away from that to check your messages.\",\n",
       "  'Screen shows some pink lines in the sunlight but seems to work fine',\n",
       "  'Phone came as described. Color was great, battery life was 100%',\n",
       "  'I just bought the iPhone 15 with 256Gb memory for $710. The battery had 2 cycles on it. Manufactured in Dec 2023. First used May 2024. Easy set-up with eSIM (just to type in the IMEI) and super simple transfer of data from my trusted, but aging iPhone 7+. The phone had no scratches - condition as new (excellent). What is not to like 😂 Happy to spend $200 less 😊',\n",
       "  'Returned waiting for return from Affirm, who has been harassing me, (threatening my credit rating) for payment.\\n\\nSeller was great. Easy to message. Quick to respond.\\n\\nHoping Affirm follows through, need to contact Amazon CUSTOMER SUPPORT. Hoping to avoid a hassle.'],\n",
       " ['Phone came really fast. I bought the phone on July 20th, phone was expected to arrive by Wednesday but instead came by today which is Monday. Phone is in excellent condition and everything works perfectly. It doesn’t come with the original box or charger however a charger is provided which charges really fast! I would definitely buy again! Also comes with no scratches whatsoever!',\n",
       "  'I ordered this phone because it was cheaper than a renewed one on the Apple site. I did watch a lot of videos about fake iPhone 15. And this one passed all the tests. I was happy to see that the battery is 100% capacity. And it only had eight cycles when I got it. There was a tiny bit of scratching on the screen, but with the screen protector I put on I can’t even tell. I think I will keep getting Amazon renewed phones from now on. My last phone was an iPhone RX so this is a huge upgrade.',\n",
       "  'I bought a iphone 15 for my son and it came on time the phone works great tmobile was surprised to see a phone actually works at a cheap price. Phone is in good condition good deal I will be useing them again for all my other kids.',\n",
       "  'My renewed iphone came with very minimal defects (1 or 2 small one on the sides). Almost to small to notice. The screen was protected by a protector and also a sleeve on top of a plastic bag. The box it came in was secure on all sides and the phone was placed in a plastic holder. Ive used the phone for almost 2 days and have 0 issues or concerns. The phone only took 3 days to ship!',\n",
       "  'Upgraded from my iPhone 11 that was suffering due to poor battery health after many years of use. Was nervous about buying a refurbished iPhone but thought that Amazon is a trusted shopping center that I might give it a try to buy the new iPhone 15 for a discount through this seller. This iPhone 15 is a great upgrade. I watched a few videos online to make sure this phone was authentic and from my observation it is just like new. The phone came with 100% battery health and only 12 cycles on it. Battery works really well. Has a 5G connection and setting up the phone with my cell carrier Verizon was a breeze with e-sim feature. The phone came with a charger as well. The camera takes really great quality photos as well (Picture of the pink rose is the iPhone 15’s camera quality). You should expect to find all iPhone 15 features on this phone, including the Dynamic Island, if you so choose to purchase this refurbished model. The only fault on this phone is that it heats up every time I’m on a video call. However, through research it seems this problem might be the same with all iPhone 15 models through Apple. After my experience shopping for this new phone I would consider buying a refurbished device in the future with Amazon again as well. Such a great deal for a new phone.',\n",
       "  \"It was time for me to upgrade my old iPhone 7 since it was not updating to the latest iOS. I researched and decided I got the best bang for my buck if I went for the iPhone 15 rather than the iPhone 13. The quality of the unlocked refurbished phone is outstanding. It's just like new except for the packaging. I especially appreciate the much longer battery life as my previous phone I had to recharge constantly during the day. On this one the battery lasts all day. I haven't had the opportunity to use the camera often but it seems there are a few nice options on there. The extra black space at the top of the phone shows any extra application you may be using in tandem with what's on the face of the phone. This is really handy, for example, if you're using the Google navigation and go away from that to check your messages.\",\n",
       "  'Screen shows some pink lines in the sunlight but seems to work fine',\n",
       "  'Phone came as described. Color was great, battery life was 100%',\n",
       "  'I just bought the iPhone 15 with 256Gb memory for $710. The battery had 2 cycles on it. Manufactured in Dec 2023. First used May 2024. Easy set-up with eSIM (just to type in the IMEI) and super simple transfer of data from my trusted, but aging iPhone 7+. The phone had no scratches - condition as new (excellent). What is not to like 😂 Happy to spend $200 less 😊',\n",
       "  'Returned waiting for return from Affirm, who has been harassing me, (threatening my credit rating) for payment.\\n\\nSeller was great. Easy to message. Quick to respond.\\n\\nHoping Affirm follows through, need to contact Amazon CUSTOMER SUPPORT. Hoping to avoid a hassle.'],\n",
       " ['Phone came really fast. I bought the phone on July 20th, phone was expected to arrive by Wednesday but instead came by today which is Monday. Phone is in excellent condition and everything works perfectly. It doesn’t come with the original box or charger however a charger is provided which charges really fast! I would definitely buy again! Also comes with no scratches whatsoever!',\n",
       "  'I ordered this phone because it was cheaper than a renewed one on the Apple site. I did watch a lot of videos about fake iPhone 15. And this one passed all the tests. I was happy to see that the battery is 100% capacity. And it only had eight cycles when I got it. There was a tiny bit of scratching on the screen, but with the screen protector I put on I can’t even tell. I think I will keep getting Amazon renewed phones from now on. My last phone was an iPhone RX so this is a huge upgrade.',\n",
       "  'I bought a iphone 15 for my son and it came on time the phone works great tmobile was surprised to see a phone actually works at a cheap price. Phone is in good condition good deal I will be useing them again for all my other kids.',\n",
       "  'My renewed iphone came with very minimal defects (1 or 2 small one on the sides). Almost to small to notice. The screen was protected by a protector and also a sleeve on top of a plastic bag. The box it came in was secure on all sides and the phone was placed in a plastic holder. Ive used the phone for almost 2 days and have 0 issues or concerns. The phone only took 3 days to ship!',\n",
       "  'Upgraded from my iPhone 11 that was suffering due to poor battery health after many years of use. Was nervous about buying a refurbished iPhone but thought that Amazon is a trusted shopping center that I might give it a try to buy the new iPhone 15 for a discount through this seller. This iPhone 15 is a great upgrade. I watched a few videos online to make sure this phone was authentic and from my observation it is just like new. The phone came with 100% battery health and only 12 cycles on it. Battery works really well. Has a 5G connection and setting up the phone with my cell carrier Verizon was a breeze with e-sim feature. The phone came with a charger as well. The camera takes really great quality photos as well (Picture of the pink rose is the iPhone 15’s camera quality). You should expect to find all iPhone 15 features on this phone, including the Dynamic Island, if you so choose to purchase this refurbished model. The only fault on this phone is that it heats up every time I’m on a video call. However, through research it seems this problem might be the same with all iPhone 15 models through Apple. After my experience shopping for this new phone I would consider buying a refurbished device in the future with Amazon again as well. Such a great deal for a new phone.',\n",
       "  \"It was time for me to upgrade my old iPhone 7 since it was not updating to the latest iOS. I researched and decided I got the best bang for my buck if I went for the iPhone 15 rather than the iPhone 13. The quality of the unlocked refurbished phone is outstanding. It's just like new except for the packaging. I especially appreciate the much longer battery life as my previous phone I had to recharge constantly during the day. On this one the battery lasts all day. I haven't had the opportunity to use the camera often but it seems there are a few nice options on there. The extra black space at the top of the phone shows any extra application you may be using in tandem with what's on the face of the phone. This is really handy, for example, if you're using the Google navigation and go away from that to check your messages.\",\n",
       "  'Screen shows some pink lines in the sunlight but seems to work fine',\n",
       "  'Phone came as described. Color was great, battery life was 100%',\n",
       "  'I just bought the iPhone 15 with 256Gb memory for $710. The battery had 2 cycles on it. Manufactured in Dec 2023. First used May 2024. Easy set-up with eSIM (just to type in the IMEI) and super simple transfer of data from my trusted, but aging iPhone 7+. The phone had no scratches - condition as new (excellent). What is not to like 😂 Happy to spend $200 less 😊',\n",
       "  'Returned waiting for return from Affirm, who has been harassing me, (threatening my credit rating) for payment.\\n\\nSeller was great. Easy to message. Quick to respond.\\n\\nHoping Affirm follows through, need to contact Amazon CUSTOMER SUPPORT. Hoping to avoid a hassle.'],\n",
       " ['Phone came really fast. I bought the phone on July 20th, phone was expected to arrive by Wednesday but instead came by today which is Monday. Phone is in excellent condition and everything works perfectly. It doesn’t come with the original box or charger however a charger is provided which charges really fast! I would definitely buy again! Also comes with no scratches whatsoever!',\n",
       "  'I ordered this phone because it was cheaper than a renewed one on the Apple site. I did watch a lot of videos about fake iPhone 15. And this one passed all the tests. I was happy to see that the battery is 100% capacity. And it only had eight cycles when I got it. There was a tiny bit of scratching on the screen, but with the screen protector I put on I can’t even tell. I think I will keep getting Amazon renewed phones from now on. My last phone was an iPhone RX so this is a huge upgrade.',\n",
       "  'I bought a iphone 15 for my son and it came on time the phone works great tmobile was surprised to see a phone actually works at a cheap price. Phone is in good condition good deal I will be useing them again for all my other kids.',\n",
       "  'My renewed iphone came with very minimal defects (1 or 2 small one on the sides). Almost to small to notice. The screen was protected by a protector and also a sleeve on top of a plastic bag. The box it came in was secure on all sides and the phone was placed in a plastic holder. Ive used the phone for almost 2 days and have 0 issues or concerns. The phone only took 3 days to ship!',\n",
       "  'Upgraded from my iPhone 11 that was suffering due to poor battery health after many years of use. Was nervous about buying a refurbished iPhone but thought that Amazon is a trusted shopping center that I might give it a try to buy the new iPhone 15 for a discount through this seller. This iPhone 15 is a great upgrade. I watched a few videos online to make sure this phone was authentic and from my observation it is just like new. The phone came with 100% battery health and only 12 cycles on it. Battery works really well. Has a 5G connection and setting up the phone with my cell carrier Verizon was a breeze with e-sim feature. The phone came with a charger as well. The camera takes really great quality photos as well (Picture of the pink rose is the iPhone 15’s camera quality). You should expect to find all iPhone 15 features on this phone, including the Dynamic Island, if you so choose to purchase this refurbished model. The only fault on this phone is that it heats up every time I’m on a video call. However, through research it seems this problem might be the same with all iPhone 15 models through Apple. After my experience shopping for this new phone I would consider buying a refurbished device in the future with Amazon again as well. Such a great deal for a new phone.',\n",
       "  \"It was time for me to upgrade my old iPhone 7 since it was not updating to the latest iOS. I researched and decided I got the best bang for my buck if I went for the iPhone 15 rather than the iPhone 13. The quality of the unlocked refurbished phone is outstanding. It's just like new except for the packaging. I especially appreciate the much longer battery life as my previous phone I had to recharge constantly during the day. On this one the battery lasts all day. I haven't had the opportunity to use the camera often but it seems there are a few nice options on there. The extra black space at the top of the phone shows any extra application you may be using in tandem with what's on the face of the phone. This is really handy, for example, if you're using the Google navigation and go away from that to check your messages.\",\n",
       "  'Screen shows some pink lines in the sunlight but seems to work fine',\n",
       "  'Phone came as described. Color was great, battery life was 100%',\n",
       "  'I just bought the iPhone 15 with 256Gb memory for $710. The battery had 2 cycles on it. Manufactured in Dec 2023. First used May 2024. Easy set-up with eSIM (just to type in the IMEI) and super simple transfer of data from my trusted, but aging iPhone 7+. The phone had no scratches - condition as new (excellent). What is not to like 😂 Happy to spend $200 less 😊',\n",
       "  'Returned waiting for return from Affirm, who has been harassing me, (threatening my credit rating) for payment.\\n\\nSeller was great. Easy to message. Quick to respond.\\n\\nHoping Affirm follows through, need to contact Amazon CUSTOMER SUPPORT. Hoping to avoid a hassle.']]"
      ]
     },
     "execution_count": 133,
     "metadata": {},
     "output_type": "execute_result"
    }
   ],
   "source": [
    "reviewes_df\n"
   ]
  },
  {
   "cell_type": "code",
   "execution_count": 80,
   "metadata": {},
   "outputs": [
    {
     "name": "stdout",
     "output_type": "stream",
     "text": [
      "                                                text  polarity  subjectivity  \\\n",
      "0  Phone came really fast. I bought the phone on ...  0.340625      0.606250   \n",
      "1  I ordered this phone because it was cheaper th...  0.116667      0.744444   \n",
      "2  I bought a iphone 15 for my son and it came on...  0.367857      0.575000   \n",
      "3  My renewed iphone came with very minimal defec...  0.045000      0.613333   \n",
      "4  Upgraded from my iPhone 11 that was suffering ...  0.187846      0.510815   \n",
      "5  It was time for me to upgrade my old iPhone 7 ...  0.225189      0.472680   \n",
      "6  Screen shows some pink lines in the sunlight b...  0.158333      0.400000   \n",
      "7  Phone came as described. Color was great, batt...  0.800000      0.750000   \n",
      "8  I just bought the iPhone 15 with 256Gb memory ...  0.348295      0.588961   \n",
      "9  Returned waiting for return from Affirm, who h...  0.522222      0.694444   \n",
      "\n",
      "  sentiment-category  \n",
      "0           Positive  \n",
      "1           Positive  \n",
      "2           Positive  \n",
      "3           Positive  \n",
      "4           Positive  \n",
      "5           Negative  \n",
      "6           Negative  \n",
      "7           Positive  \n",
      "8           Positive  \n",
      "9           Positive  \n"
     ]
    }
   ],
   "source": [
    "\n",
    "# Sample DataFrame\n",
    "sample_review = eval(selected_df[selected_df['asin'] == 'B0CMPLL2QT']['reviews'][0])\n",
    "data = {'text': eval(selected_df[selected_df['asin'] == 'B0CMPLL2QT']['reviews'][0])}\n",
    "df = pd.DataFrame(data)\n",
    "\n",
    "# Function to get sentiment\n",
    "def get_sentiment(text):\n",
    "    blob = TextBlob(text)\n",
    "    return blob.sentiment.polarity, blob.sentiment.subjectivity\n",
    "\n",
    "\n",
    "def get_sentiment_category(subjectivity):\n",
    "        if subjectivity >= 0.5:\n",
    "            return 'Positive'            \n",
    "        else:\n",
    "            return 'Negative'\n",
    "\n",
    "# Apply the function to the DataFrame\n",
    "df[['polarity', 'subjectivity']] = df['text'].apply(lambda x: pd.Series(get_sentiment(x)))\n",
    "df['sentiment-category'] = df['subjectivity'].apply(lambda x: pd.Series(get_sentiment_category(x)))\n",
    "\n",
    "print(df)"
   ]
  },
  {
   "cell_type": "code",
   "execution_count": null,
   "metadata": {},
   "outputs": [],
   "source": []
  }
 ],
 "metadata": {
  "kernelspec": {
   "display_name": "ds_env",
   "language": "python",
   "name": "python3"
  },
  "language_info": {
   "codemirror_mode": {
    "name": "ipython",
    "version": 3
   },
   "file_extension": ".py",
   "mimetype": "text/x-python",
   "name": "python",
   "nbconvert_exporter": "python",
   "pygments_lexer": "ipython3",
   "version": "3.10.14"
  }
 },
 "nbformat": 4,
 "nbformat_minor": 2
}
