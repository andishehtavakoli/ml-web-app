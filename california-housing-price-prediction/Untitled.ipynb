{
 "cells": [
  {
   "cell_type": "code",
   "execution_count": 22,
   "id": "adedd2e1-75ad-44b6-b46d-e01ede540c3b",
   "metadata": {},
   "outputs": [],
   "source": [
    "import pandas as pd\n",
    "import seaborn as sns\n",
    "import numpy as np\n",
    "import matplotlib.pyplot as plt\n",
    "from loguru import logger\n",
    "\n",
    "\n",
    "sns.set_theme(style=\"dark\")\n",
    "\n",
    "import warnings\n",
    "warnings.filterwarnings(\"ignore\")"
   ]
  },
  {
   "cell_type": "code",
   "execution_count": 23,
   "id": "609d9f43-0d35-43f9-b26a-1084d3464555",
   "metadata": {},
   "outputs": [],
   "source": [
    "from sklearn.linear_model import Lasso, Ridge, LinearRegression\n",
    "from sklearn.preprocessing import LabelEncoder, OneHotEncoder\n",
    "from sklearn.model_selection import train_test_split"
   ]
  },
  {
   "cell_type": "code",
   "execution_count": 48,
   "id": "8474a320-0992-40a1-9955-192cfb90a1dd",
   "metadata": {},
   "outputs": [],
   "source": [
    "def load_df(file_path):\n",
    "    try:\n",
    "        df = pd.read_csv(file_path)\n",
    "        logger.info(df.head(2))\n",
    "        logger.info('dataframe is read!')\n",
    "        return df\n",
    "\n",
    "    except Exception as e:\n",
    "        print(e)\n",
    "\n",
    "def clean_df_func(df):\n",
    "    \n",
    "    # Remove duplicates\n",
    "    if df.duplicated().sum() != 0:\n",
    "        logger.info(f'number of duplicates before drop: {df.duplicated().shape[0]}')\n",
    "        df.drop_duplicats().reset_index(inplace=True, drop=True)\n",
    "        logger.info(f'number of duplicates after drop: {df.duplicated().shape[0]}')\n",
    "\n",
    "    if df.isna().sum().sum() != 0:\n",
    "        logger.info(f'number of missing values before drop: {df.isna().sum()}')\n",
    "        df = df.dropna().reset_index(drop=True)\n",
    "        logger.info(f'number of missing values after drop: {df.isna().sum()}')\n",
    "\n",
    "    le = LabelEncoder()\n",
    "    df['ocean_proximity'] = le.fit_transform(df['ocean_proximity'])\n",
    "\n",
    "    return df\n",
    "\n",
    "def train_test_split_func(df):\n",
    "    \n",
    "    selected_features = df[[\n",
    "        'latitude',\n",
    "        'housing_median_age',\n",
    "        'total_bedrooms',\n",
    "        'population',\n",
    "        'households',\n",
    "        'median_income',\n",
    "        'median_house_value',\n",
    "        'ocean_proximity']]\n",
    "    \n",
    "    X = df.drop(columns='median_house_value', axis=0).values\n",
    "    y = df[['median_house_value']].values\n",
    "    X_train, X_test, y_train, y_test = train_test_split(X, y, test_size=0.25, random_state=42)\n",
    "    return X_train, X_test, y_train, y_test\n",
    "    \n",
    "\n",
    "    \n",
    "def build_model(df,X_train, X_test, y_train, y_test):\n",
    "\n",
    "    linreg = LinearRegression()\n",
    "    linreg.fit(X_train, y_train)\n",
    "    y_pred = linreg.predict(X_test)\n",
    "    logger.info('Got predicted y')\n",
    "    logger.info(f'r2 score is:{linreg.score(X_test, y_test)}')\n",
    "    return linreg\n",
    "        \n",
    "def prediction_houseprice(model, unseen_data):\n",
    "    return model.predict(unseen_data)    "
   ]
  },
  {
   "cell_type": "code",
   "execution_count": 49,
   "id": "fa4ec803-f58e-4b91-a1e6-d87ce883e8e6",
   "metadata": {},
   "outputs": [
    {
     "name": "stderr",
     "output_type": "stream",
     "text": [
      "\u001b[32m2024-02-09 15:25:22.635\u001b[0m | \u001b[1mINFO    \u001b[0m | \u001b[36m__main__\u001b[0m:\u001b[36mload_df\u001b[0m:\u001b[36m4\u001b[0m - \u001b[1m   longitude  latitude  housing_median_age  total_rooms  total_bedrooms  \\\n",
      "0    -122.23     37.88                41.0        880.0           129.0   \n",
      "1    -122.22     37.86                21.0       7099.0          1106.0   \n",
      "\n",
      "   population  households  median_income  median_house_value ocean_proximity  \n",
      "0       322.0       126.0         8.3252            452600.0        NEAR BAY  \n",
      "1      2401.0      1138.0         8.3014            358500.0        NEAR BAY  \u001b[0m\n",
      "\u001b[32m2024-02-09 15:25:22.645\u001b[0m | \u001b[1mINFO    \u001b[0m | \u001b[36m__main__\u001b[0m:\u001b[36mload_df\u001b[0m:\u001b[36m5\u001b[0m - \u001b[1mdataframe is read!\u001b[0m\n",
      "\u001b[32m2024-02-09 15:25:22.721\u001b[0m | \u001b[1mINFO    \u001b[0m | \u001b[36m__main__\u001b[0m:\u001b[36mclean_df_func\u001b[0m:\u001b[36m20\u001b[0m - \u001b[1mnumber of missing values before drop: longitude               0\n",
      "latitude                0\n",
      "housing_median_age      0\n",
      "total_rooms             0\n",
      "total_bedrooms        207\n",
      "population              0\n",
      "households              0\n",
      "median_income           0\n",
      "median_house_value      0\n",
      "ocean_proximity         0\n",
      "dtype: int64\u001b[0m\n",
      "\u001b[32m2024-02-09 15:25:22.749\u001b[0m | \u001b[1mINFO    \u001b[0m | \u001b[36m__main__\u001b[0m:\u001b[36mclean_df_func\u001b[0m:\u001b[36m22\u001b[0m - \u001b[1mnumber of missing values after drop: longitude             0\n",
      "latitude              0\n",
      "housing_median_age    0\n",
      "total_rooms           0\n",
      "total_bedrooms        0\n",
      "population            0\n",
      "households            0\n",
      "median_income         0\n",
      "median_house_value    0\n",
      "ocean_proximity       0\n",
      "dtype: int64\u001b[0m\n",
      "\u001b[32m2024-02-09 15:25:22.817\u001b[0m | \u001b[1mINFO    \u001b[0m | \u001b[36m__main__\u001b[0m:\u001b[36mbuild_model\u001b[0m:\u001b[36m53\u001b[0m - \u001b[1mGot predicted y\u001b[0m\n",
      "\u001b[32m2024-02-09 15:25:22.821\u001b[0m | \u001b[1mINFO    \u001b[0m | \u001b[36m__main__\u001b[0m:\u001b[36mbuild_model\u001b[0m:\u001b[36m54\u001b[0m - \u001b[1mr2 score is:0.6459543385568083\u001b[0m\n"
     ]
    },
    {
     "ename": "NameError",
     "evalue": "name 'unseen_data' is not defined",
     "output_type": "error",
     "traceback": [
      "\u001b[0;31m---------------------------------------------------------------------------\u001b[0m",
      "\u001b[0;31mNameError\u001b[0m                                 Traceback (most recent call last)",
      "Cell \u001b[0;32mIn[49], line 6\u001b[0m\n\u001b[1;32m      4\u001b[0m X_train, X_test, y_train, y_test \u001b[38;5;241m=\u001b[39m train_test_split_func(clean_df)\n\u001b[1;32m      5\u001b[0m model \u001b[38;5;241m=\u001b[39m build_model(df,X_train, X_test, y_train, y_test)\n\u001b[0;32m----> 6\u001b[0m predicted_price \u001b[38;5;241m=\u001b[39m prediction_houseprice(model, \u001b[43munseen_data\u001b[49m)\n",
      "\u001b[0;31mNameError\u001b[0m: name 'unseen_data' is not defined"
     ]
    }
   ],
   "source": [
    "if __name__ ==\"__main__\":\n",
    "    df = load_df('housing.csv')\n",
    "    clean_df = clean_df_func(df)\n",
    "    X_train, X_test, y_train, y_test = train_test_split_func(clean_df)\n",
    "    model = build_model(df,X_train, X_test, y_train, y_test)\n",
    "    predicted_price = prediction_houseprice(model, unseen_data)"
   ]
  },
  {
   "cell_type": "code",
   "execution_count": 34,
   "id": "953765e3-582d-4168-9c57-46f896793081",
   "metadata": {},
   "outputs": [
    {
     "data": {
      "text/html": [
       "<style>#sk-container-id-1 {color: black;}#sk-container-id-1 pre{padding: 0;}#sk-container-id-1 div.sk-toggleable {background-color: white;}#sk-container-id-1 label.sk-toggleable__label {cursor: pointer;display: block;width: 100%;margin-bottom: 0;padding: 0.3em;box-sizing: border-box;text-align: center;}#sk-container-id-1 label.sk-toggleable__label-arrow:before {content: \"▸\";float: left;margin-right: 0.25em;color: #696969;}#sk-container-id-1 label.sk-toggleable__label-arrow:hover:before {color: black;}#sk-container-id-1 div.sk-estimator:hover label.sk-toggleable__label-arrow:before {color: black;}#sk-container-id-1 div.sk-toggleable__content {max-height: 0;max-width: 0;overflow: hidden;text-align: left;background-color: #f0f8ff;}#sk-container-id-1 div.sk-toggleable__content pre {margin: 0.2em;color: black;border-radius: 0.25em;background-color: #f0f8ff;}#sk-container-id-1 input.sk-toggleable__control:checked~div.sk-toggleable__content {max-height: 200px;max-width: 100%;overflow: auto;}#sk-container-id-1 input.sk-toggleable__control:checked~label.sk-toggleable__label-arrow:before {content: \"▾\";}#sk-container-id-1 div.sk-estimator input.sk-toggleable__control:checked~label.sk-toggleable__label {background-color: #d4ebff;}#sk-container-id-1 div.sk-label input.sk-toggleable__control:checked~label.sk-toggleable__label {background-color: #d4ebff;}#sk-container-id-1 input.sk-hidden--visually {border: 0;clip: rect(1px 1px 1px 1px);clip: rect(1px, 1px, 1px, 1px);height: 1px;margin: -1px;overflow: hidden;padding: 0;position: absolute;width: 1px;}#sk-container-id-1 div.sk-estimator {font-family: monospace;background-color: #f0f8ff;border: 1px dotted black;border-radius: 0.25em;box-sizing: border-box;margin-bottom: 0.5em;}#sk-container-id-1 div.sk-estimator:hover {background-color: #d4ebff;}#sk-container-id-1 div.sk-parallel-item::after {content: \"\";width: 100%;border-bottom: 1px solid gray;flex-grow: 1;}#sk-container-id-1 div.sk-label:hover label.sk-toggleable__label {background-color: #d4ebff;}#sk-container-id-1 div.sk-serial::before {content: \"\";position: absolute;border-left: 1px solid gray;box-sizing: border-box;top: 0;bottom: 0;left: 50%;z-index: 0;}#sk-container-id-1 div.sk-serial {display: flex;flex-direction: column;align-items: center;background-color: white;padding-right: 0.2em;padding-left: 0.2em;position: relative;}#sk-container-id-1 div.sk-item {position: relative;z-index: 1;}#sk-container-id-1 div.sk-parallel {display: flex;align-items: stretch;justify-content: center;background-color: white;position: relative;}#sk-container-id-1 div.sk-item::before, #sk-container-id-1 div.sk-parallel-item::before {content: \"\";position: absolute;border-left: 1px solid gray;box-sizing: border-box;top: 0;bottom: 0;left: 50%;z-index: -1;}#sk-container-id-1 div.sk-parallel-item {display: flex;flex-direction: column;z-index: 1;position: relative;background-color: white;}#sk-container-id-1 div.sk-parallel-item:first-child::after {align-self: flex-end;width: 50%;}#sk-container-id-1 div.sk-parallel-item:last-child::after {align-self: flex-start;width: 50%;}#sk-container-id-1 div.sk-parallel-item:only-child::after {width: 0;}#sk-container-id-1 div.sk-dashed-wrapped {border: 1px dashed gray;margin: 0 0.4em 0.5em 0.4em;box-sizing: border-box;padding-bottom: 0.4em;background-color: white;}#sk-container-id-1 div.sk-label label {font-family: monospace;font-weight: bold;display: inline-block;line-height: 1.2em;}#sk-container-id-1 div.sk-label-container {text-align: center;}#sk-container-id-1 div.sk-container {/* jupyter's `normalize.less` sets `[hidden] { display: none; }` but bootstrap.min.css set `[hidden] { display: none !important; }` so we also need the `!important` here to be able to override the default hidden behavior on the sphinx rendered scikit-learn.org. See: https://github.com/scikit-learn/scikit-learn/issues/21755 */display: inline-block !important;position: relative;}#sk-container-id-1 div.sk-text-repr-fallback {display: none;}</style><div id=\"sk-container-id-1\" class=\"sk-top-container\"><div class=\"sk-text-repr-fallback\"><pre>LinearRegression()</pre><b>In a Jupyter environment, please rerun this cell to show the HTML representation or trust the notebook. <br />On GitHub, the HTML representation is unable to render, please try loading this page with nbviewer.org.</b></div><div class=\"sk-container\" hidden><div class=\"sk-item\"><div class=\"sk-estimator sk-toggleable\"><input class=\"sk-toggleable__control sk-hidden--visually\" id=\"sk-estimator-id-1\" type=\"checkbox\" checked><label for=\"sk-estimator-id-1\" class=\"sk-toggleable__label sk-toggleable__label-arrow\">LinearRegression</label><div class=\"sk-toggleable__content\"><pre>LinearRegression()</pre></div></div></div></div></div>"
      ],
      "text/plain": [
       "LinearRegression()"
      ]
     },
     "execution_count": 34,
     "metadata": {},
     "output_type": "execute_result"
    }
   ],
   "source": [
    "model"
   ]
  },
  {
   "cell_type": "code",
   "execution_count": 37,
   "id": "149e745c-d5a3-492c-bfb5-eea83a7d39df",
   "metadata": {},
   "outputs": [
    {
     "data": {
      "text/plain": [
       "array([[-118.18, 33.77, 37.0, 2653.0, 754.0, 1087.0, 698.0, 2.3523,\n",
       "        325000.0, 'NEAR OCEAN']], dtype=object)"
      ]
     },
     "execution_count": 37,
     "metadata": {},
     "output_type": "execute_result"
    }
   ],
   "source": [
    "df.sample(1).values"
   ]
  },
  {
   "cell_type": "code",
   "execution_count": 47,
   "id": "e7f5e5da-4940-48b6-a93f-8c2e4d1584df",
   "metadata": {},
   "outputs": [],
   "source": [
    "def prediction_houseprice(model, unseen_data):\n",
    "    return model.predict(unseen_data)\n",
    "    "
   ]
  },
  {
   "cell_type": "code",
   "execution_count": 42,
   "id": "4595f23e-5956-4507-b7cb-1414b8e6af6d",
   "metadata": {},
   "outputs": [
    {
     "data": {
      "text/plain": [
       "longitude               844\n",
       "latitude                862\n",
       "housing_median_age       52\n",
       "total_rooms            5926\n",
       "total_bedrooms         1923\n",
       "population             3888\n",
       "households             1815\n",
       "median_income         12928\n",
       "median_house_value     3842\n",
       "ocean_proximity           5\n",
       "dtype: int64"
      ]
     },
     "execution_count": 42,
     "metadata": {},
     "output_type": "execute_result"
    }
   ],
   "source": [
    "df.nunique()"
   ]
  },
  {
   "cell_type": "code",
   "execution_count": 43,
   "id": "d1480833-508c-4617-9517-ea74706111f1",
   "metadata": {},
   "outputs": [
    {
     "data": {
      "text/plain": [
       "ocean_proximity\n",
       "<1H OCEAN     9136\n",
       "INLAND        6551\n",
       "NEAR OCEAN    2658\n",
       "NEAR BAY      2290\n",
       "ISLAND           5\n",
       "Name: count, dtype: int64"
      ]
     },
     "execution_count": 43,
     "metadata": {},
     "output_type": "execute_result"
    }
   ],
   "source": [
    "df['ocean_proximity'].value_counts()"
   ]
  },
  {
   "cell_type": "code",
   "execution_count": 45,
   "id": "404ae062-f98f-48b2-a6cc-72cff928c431",
   "metadata": {},
   "outputs": [
    {
     "data": {
      "text/plain": [
       "array([[219918.8889114]])"
      ]
     },
     "execution_count": 45,
     "metadata": {},
     "output_type": "execute_result"
    }
   ],
   "source": [
    "model.predict([[-118.18, 33.77, 37.0, 2653.0, 754.0, 1087.0, 698.0, 2.3523, 3]])"
   ]
  }
 ],
 "metadata": {
  "kernelspec": {
   "display_name": "Python 3 (ipykernel)",
   "language": "python",
   "name": "python3"
  },
  "language_info": {
   "codemirror_mode": {
    "name": "ipython",
    "version": 3
   },
   "file_extension": ".py",
   "mimetype": "text/x-python",
   "name": "python",
   "nbconvert_exporter": "python",
   "pygments_lexer": "ipython3",
   "version": "3.11.4"
  }
 },
 "nbformat": 4,
 "nbformat_minor": 5
}
