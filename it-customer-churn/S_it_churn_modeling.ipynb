{
 "cells": [
  {
   "cell_type": "markdown",
   "id": "81009a71-9812-434e-9dd1-e7a6fd896849",
   "metadata": {},
   "source": [
    "## Import Libraries"
   ]
  },
  {
   "cell_type": "code",
   "execution_count": 1,
   "id": "a06750cf-a092-4d1f-901f-4110ab42d00a",
   "metadata": {
    "scrolled": true
   },
   "outputs": [],
   "source": [
    "import numpy as np\n",
    "import pandas as pd\n",
    "import matplotlib.pyplot as plt\n",
    "import seaborn as sns\n",
    "from lifelines import KaplanMeierFitter\n",
    "from sklearn.ensemble import RandomForestClassifier\n",
    "from sklearn.preprocessing import OneHotEncoder, LabelEncoder\n",
    "\n",
    "import warnings\n",
    "warnings.filterwarnings('ignore')"
   ]
  },
  {
   "cell_type": "code",
   "execution_count": 2,
   "id": "13402dfc-fd10-460a-800d-c7bda789989d",
   "metadata": {},
   "outputs": [],
   "source": [
    "# pip install lifelines"
   ]
  },
  {
   "cell_type": "code",
   "execution_count": 3,
   "id": "4360e599-7139-4811-b4c6-dbce1ecda6d8",
   "metadata": {},
   "outputs": [],
   "source": [
    "sns.set_theme(style='darkgrid')"
   ]
  },
  {
   "cell_type": "markdown",
   "id": "a8fee029-7874-48a3-b1b8-b18cf9e9b9d2",
   "metadata": {},
   "source": [
    "## Read Data"
   ]
  },
  {
   "cell_type": "code",
   "execution_count": 4,
   "id": "cfe931a9-1af3-4b0c-91b7-6fead0c3c5b5",
   "metadata": {},
   "outputs": [],
   "source": [
    "df = pd.read_csv('src/data/IT_customer_churn.csv')"
   ]
  },
  {
   "cell_type": "markdown",
   "id": "44d9af2f-0edc-4062-ab06-6d96ba31b905",
   "metadata": {},
   "source": [
    "### Overview of Data"
   ]
  },
  {
   "cell_type": "code",
   "execution_count": 5,
   "id": "56e8f9d0-b36c-4c72-bc71-8ac5aee98e6c",
   "metadata": {},
   "outputs": [
    {
     "data": {
      "text/html": [
       "<div>\n",
       "<style scoped>\n",
       "    .dataframe tbody tr th:only-of-type {\n",
       "        vertical-align: middle;\n",
       "    }\n",
       "\n",
       "    .dataframe tbody tr th {\n",
       "        vertical-align: top;\n",
       "    }\n",
       "\n",
       "    .dataframe thead th {\n",
       "        text-align: right;\n",
       "    }\n",
       "</style>\n",
       "<table border=\"1\" class=\"dataframe\">\n",
       "  <thead>\n",
       "    <tr style=\"text-align: right;\">\n",
       "      <th></th>\n",
       "      <th>gender</th>\n",
       "      <th>SeniorCitizen</th>\n",
       "      <th>Partner</th>\n",
       "      <th>Dependents</th>\n",
       "      <th>tenure</th>\n",
       "      <th>PhoneService</th>\n",
       "      <th>MultipleLines</th>\n",
       "      <th>InternetService</th>\n",
       "      <th>OnlineSecurity</th>\n",
       "      <th>OnlineBackup</th>\n",
       "      <th>DeviceProtection</th>\n",
       "      <th>TechSupport</th>\n",
       "      <th>StreamingTV</th>\n",
       "      <th>StreamingMovies</th>\n",
       "      <th>Contract</th>\n",
       "      <th>PaperlessBilling</th>\n",
       "      <th>PaymentMethod</th>\n",
       "      <th>MonthlyCharges</th>\n",
       "      <th>TotalCharges</th>\n",
       "      <th>Churn</th>\n",
       "    </tr>\n",
       "  </thead>\n",
       "  <tbody>\n",
       "    <tr>\n",
       "      <th>0</th>\n",
       "      <td>Female</td>\n",
       "      <td>0</td>\n",
       "      <td>Yes</td>\n",
       "      <td>No</td>\n",
       "      <td>1</td>\n",
       "      <td>No</td>\n",
       "      <td>No phone service</td>\n",
       "      <td>DSL</td>\n",
       "      <td>No</td>\n",
       "      <td>Yes</td>\n",
       "      <td>No</td>\n",
       "      <td>No</td>\n",
       "      <td>No</td>\n",
       "      <td>No</td>\n",
       "      <td>Month-to-month</td>\n",
       "      <td>Yes</td>\n",
       "      <td>Electronic check</td>\n",
       "      <td>29.85</td>\n",
       "      <td>29.85</td>\n",
       "      <td>No</td>\n",
       "    </tr>\n",
       "    <tr>\n",
       "      <th>1</th>\n",
       "      <td>Male</td>\n",
       "      <td>0</td>\n",
       "      <td>No</td>\n",
       "      <td>No</td>\n",
       "      <td>34</td>\n",
       "      <td>Yes</td>\n",
       "      <td>No</td>\n",
       "      <td>DSL</td>\n",
       "      <td>Yes</td>\n",
       "      <td>No</td>\n",
       "      <td>Yes</td>\n",
       "      <td>No</td>\n",
       "      <td>No</td>\n",
       "      <td>No</td>\n",
       "      <td>One year</td>\n",
       "      <td>No</td>\n",
       "      <td>Mailed check</td>\n",
       "      <td>56.95</td>\n",
       "      <td>1889.5</td>\n",
       "      <td>No</td>\n",
       "    </tr>\n",
       "  </tbody>\n",
       "</table>\n",
       "</div>"
      ],
      "text/plain": [
       "   gender  SeniorCitizen Partner Dependents  tenure PhoneService  \\\n",
       "0  Female              0     Yes         No       1           No   \n",
       "1    Male              0      No         No      34          Yes   \n",
       "\n",
       "      MultipleLines InternetService OnlineSecurity OnlineBackup  \\\n",
       "0  No phone service             DSL             No          Yes   \n",
       "1                No             DSL            Yes           No   \n",
       "\n",
       "  DeviceProtection TechSupport StreamingTV StreamingMovies        Contract  \\\n",
       "0               No          No          No              No  Month-to-month   \n",
       "1              Yes          No          No              No        One year   \n",
       "\n",
       "  PaperlessBilling     PaymentMethod  MonthlyCharges TotalCharges Churn  \n",
       "0              Yes  Electronic check           29.85        29.85    No  \n",
       "1               No      Mailed check           56.95       1889.5    No  "
      ]
     },
     "execution_count": 5,
     "metadata": {},
     "output_type": "execute_result"
    }
   ],
   "source": [
    "df.head(2)"
   ]
  },
  {
   "cell_type": "code",
   "execution_count": 6,
   "id": "39734205-0b9d-4a88-a1ab-9507bd54cf9c",
   "metadata": {},
   "outputs": [
    {
     "data": {
      "text/html": [
       "<div>\n",
       "<style scoped>\n",
       "    .dataframe tbody tr th:only-of-type {\n",
       "        vertical-align: middle;\n",
       "    }\n",
       "\n",
       "    .dataframe tbody tr th {\n",
       "        vertical-align: top;\n",
       "    }\n",
       "\n",
       "    .dataframe thead th {\n",
       "        text-align: right;\n",
       "    }\n",
       "</style>\n",
       "<table border=\"1\" class=\"dataframe\">\n",
       "  <thead>\n",
       "    <tr style=\"text-align: right;\">\n",
       "      <th></th>\n",
       "      <th>gender</th>\n",
       "      <th>SeniorCitizen</th>\n",
       "      <th>Partner</th>\n",
       "      <th>Dependents</th>\n",
       "      <th>tenure</th>\n",
       "      <th>PhoneService</th>\n",
       "      <th>MultipleLines</th>\n",
       "      <th>InternetService</th>\n",
       "      <th>OnlineSecurity</th>\n",
       "      <th>OnlineBackup</th>\n",
       "      <th>DeviceProtection</th>\n",
       "      <th>TechSupport</th>\n",
       "      <th>StreamingTV</th>\n",
       "      <th>StreamingMovies</th>\n",
       "      <th>Contract</th>\n",
       "      <th>PaperlessBilling</th>\n",
       "      <th>PaymentMethod</th>\n",
       "      <th>MonthlyCharges</th>\n",
       "      <th>TotalCharges</th>\n",
       "      <th>Churn</th>\n",
       "    </tr>\n",
       "  </thead>\n",
       "  <tbody>\n",
       "    <tr>\n",
       "      <th>7041</th>\n",
       "      <td>Male</td>\n",
       "      <td>1</td>\n",
       "      <td>Yes</td>\n",
       "      <td>No</td>\n",
       "      <td>4</td>\n",
       "      <td>Yes</td>\n",
       "      <td>Yes</td>\n",
       "      <td>Fiber optic</td>\n",
       "      <td>No</td>\n",
       "      <td>No</td>\n",
       "      <td>No</td>\n",
       "      <td>No</td>\n",
       "      <td>No</td>\n",
       "      <td>No</td>\n",
       "      <td>Month-to-month</td>\n",
       "      <td>Yes</td>\n",
       "      <td>Mailed check</td>\n",
       "      <td>74.40</td>\n",
       "      <td>306.6</td>\n",
       "      <td>Yes</td>\n",
       "    </tr>\n",
       "    <tr>\n",
       "      <th>7042</th>\n",
       "      <td>Male</td>\n",
       "      <td>0</td>\n",
       "      <td>No</td>\n",
       "      <td>No</td>\n",
       "      <td>66</td>\n",
       "      <td>Yes</td>\n",
       "      <td>No</td>\n",
       "      <td>Fiber optic</td>\n",
       "      <td>Yes</td>\n",
       "      <td>No</td>\n",
       "      <td>Yes</td>\n",
       "      <td>Yes</td>\n",
       "      <td>Yes</td>\n",
       "      <td>Yes</td>\n",
       "      <td>Two year</td>\n",
       "      <td>Yes</td>\n",
       "      <td>Bank transfer (automatic)</td>\n",
       "      <td>105.65</td>\n",
       "      <td>6844.5</td>\n",
       "      <td>No</td>\n",
       "    </tr>\n",
       "  </tbody>\n",
       "</table>\n",
       "</div>"
      ],
      "text/plain": [
       "     gender  SeniorCitizen Partner Dependents  tenure PhoneService  \\\n",
       "7041   Male              1     Yes         No       4          Yes   \n",
       "7042   Male              0      No         No      66          Yes   \n",
       "\n",
       "     MultipleLines InternetService OnlineSecurity OnlineBackup  \\\n",
       "7041           Yes     Fiber optic             No           No   \n",
       "7042            No     Fiber optic            Yes           No   \n",
       "\n",
       "     DeviceProtection TechSupport StreamingTV StreamingMovies        Contract  \\\n",
       "7041               No          No          No              No  Month-to-month   \n",
       "7042              Yes         Yes         Yes             Yes        Two year   \n",
       "\n",
       "     PaperlessBilling              PaymentMethod  MonthlyCharges TotalCharges  \\\n",
       "7041              Yes               Mailed check           74.40        306.6   \n",
       "7042              Yes  Bank transfer (automatic)          105.65       6844.5   \n",
       "\n",
       "     Churn  \n",
       "7041   Yes  \n",
       "7042    No  "
      ]
     },
     "execution_count": 6,
     "metadata": {},
     "output_type": "execute_result"
    }
   ],
   "source": [
    "df.tail(2)"
   ]
  },
  {
   "cell_type": "code",
   "execution_count": 19,
   "id": "476379b3-2852-4d27-bba9-0ea5c859465a",
   "metadata": {},
   "outputs": [
    {
     "data": {
      "text/plain": [
       "Index(['gender', 'Partner', 'Dependents', 'PhoneService', 'MultipleLines',\n",
       "       'InternetService', 'OnlineSecurity', 'OnlineBackup', 'DeviceProtection',\n",
       "       'TechSupport', 'StreamingTV', 'StreamingMovies', 'Contract',\n",
       "       'PaperlessBilling', 'PaymentMethod', 'TotalCharges', 'Churn'],\n",
       "      dtype='object')"
      ]
     },
     "execution_count": 19,
     "metadata": {},
     "output_type": "execute_result"
    }
   ],
   "source": [
    "df.select_dtypes(exclude='number').columns"
   ]
  },
  {
   "cell_type": "code",
   "execution_count": 20,
   "id": "023319c7-8f7b-42e3-91ba-678eac7e7077",
   "metadata": {},
   "outputs": [
    {
     "data": {
      "text/plain": [
       "Index(['SeniorCitizen', 'tenure', 'MonthlyCharges'], dtype='object')"
      ]
     },
     "execution_count": 20,
     "metadata": {},
     "output_type": "execute_result"
    }
   ],
   "source": [
    "df.select_dtypes(include='number').columns"
   ]
  },
  {
   "cell_type": "code",
   "execution_count": 7,
   "id": "bfdcc066-e620-4cab-9cde-604f74e00a72",
   "metadata": {},
   "outputs": [
    {
     "data": {
      "text/plain": [
       "(7043, 20)"
      ]
     },
     "execution_count": 7,
     "metadata": {},
     "output_type": "execute_result"
    }
   ],
   "source": [
    "df.shape"
   ]
  },
  {
   "cell_type": "code",
   "execution_count": 8,
   "id": "220f2a3b-8a85-4700-a94b-bc5d9def5ee9",
   "metadata": {},
   "outputs": [
    {
     "name": "stdout",
     "output_type": "stream",
     "text": [
      "<class 'pandas.core.frame.DataFrame'>\n",
      "RangeIndex: 7043 entries, 0 to 7042\n",
      "Data columns (total 20 columns):\n",
      " #   Column            Non-Null Count  Dtype  \n",
      "---  ------            --------------  -----  \n",
      " 0   gender            7043 non-null   object \n",
      " 1   SeniorCitizen     7043 non-null   int64  \n",
      " 2   Partner           7043 non-null   object \n",
      " 3   Dependents        7043 non-null   object \n",
      " 4   tenure            7043 non-null   int64  \n",
      " 5   PhoneService      7043 non-null   object \n",
      " 6   MultipleLines     7043 non-null   object \n",
      " 7   InternetService   7043 non-null   object \n",
      " 8   OnlineSecurity    7043 non-null   object \n",
      " 9   OnlineBackup      7043 non-null   object \n",
      " 10  DeviceProtection  7043 non-null   object \n",
      " 11  TechSupport       7043 non-null   object \n",
      " 12  StreamingTV       7043 non-null   object \n",
      " 13  StreamingMovies   7043 non-null   object \n",
      " 14  Contract          7043 non-null   object \n",
      " 15  PaperlessBilling  7043 non-null   object \n",
      " 16  PaymentMethod     7043 non-null   object \n",
      " 17  MonthlyCharges    7043 non-null   float64\n",
      " 18  TotalCharges      7043 non-null   object \n",
      " 19  Churn             7043 non-null   object \n",
      "dtypes: float64(1), int64(2), object(17)\n",
      "memory usage: 1.1+ MB\n"
     ]
    }
   ],
   "source": [
    "df.info()"
   ]
  },
  {
   "cell_type": "code",
   "execution_count": 9,
   "id": "d9124f79-d7ee-442e-9cb1-0aae4d9eb20b",
   "metadata": {},
   "outputs": [
    {
     "data": {
      "text/html": [
       "<div>\n",
       "<style scoped>\n",
       "    .dataframe tbody tr th:only-of-type {\n",
       "        vertical-align: middle;\n",
       "    }\n",
       "\n",
       "    .dataframe tbody tr th {\n",
       "        vertical-align: top;\n",
       "    }\n",
       "\n",
       "    .dataframe thead th {\n",
       "        text-align: right;\n",
       "    }\n",
       "</style>\n",
       "<table border=\"1\" class=\"dataframe\">\n",
       "  <thead>\n",
       "    <tr style=\"text-align: right;\">\n",
       "      <th></th>\n",
       "      <th>count</th>\n",
       "      <th>mean</th>\n",
       "      <th>std</th>\n",
       "      <th>min</th>\n",
       "      <th>25%</th>\n",
       "      <th>50%</th>\n",
       "      <th>75%</th>\n",
       "      <th>max</th>\n",
       "    </tr>\n",
       "  </thead>\n",
       "  <tbody>\n",
       "    <tr>\n",
       "      <th>SeniorCitizen</th>\n",
       "      <td>7043.0</td>\n",
       "      <td>0.162147</td>\n",
       "      <td>0.368612</td>\n",
       "      <td>0.00</td>\n",
       "      <td>0.0</td>\n",
       "      <td>0.00</td>\n",
       "      <td>0.00</td>\n",
       "      <td>1.00</td>\n",
       "    </tr>\n",
       "    <tr>\n",
       "      <th>tenure</th>\n",
       "      <td>7043.0</td>\n",
       "      <td>32.371149</td>\n",
       "      <td>24.559481</td>\n",
       "      <td>0.00</td>\n",
       "      <td>9.0</td>\n",
       "      <td>29.00</td>\n",
       "      <td>55.00</td>\n",
       "      <td>72.00</td>\n",
       "    </tr>\n",
       "    <tr>\n",
       "      <th>MonthlyCharges</th>\n",
       "      <td>7043.0</td>\n",
       "      <td>64.761692</td>\n",
       "      <td>30.090047</td>\n",
       "      <td>18.25</td>\n",
       "      <td>35.5</td>\n",
       "      <td>70.35</td>\n",
       "      <td>89.85</td>\n",
       "      <td>118.75</td>\n",
       "    </tr>\n",
       "  </tbody>\n",
       "</table>\n",
       "</div>"
      ],
      "text/plain": [
       "                 count       mean        std    min   25%    50%    75%  \\\n",
       "SeniorCitizen   7043.0   0.162147   0.368612   0.00   0.0   0.00   0.00   \n",
       "tenure          7043.0  32.371149  24.559481   0.00   9.0  29.00  55.00   \n",
       "MonthlyCharges  7043.0  64.761692  30.090047  18.25  35.5  70.35  89.85   \n",
       "\n",
       "                   max  \n",
       "SeniorCitizen     1.00  \n",
       "tenure           72.00  \n",
       "MonthlyCharges  118.75  "
      ]
     },
     "execution_count": 9,
     "metadata": {},
     "output_type": "execute_result"
    }
   ],
   "source": [
    "df.describe().T"
   ]
  },
  {
   "cell_type": "code",
   "execution_count": 10,
   "id": "3b76638e-224f-45c7-b6c3-d49c1b80d6ae",
   "metadata": {
    "scrolled": true
   },
   "outputs": [
    {
     "name": "stdout",
     "output_type": "stream",
     "text": [
      "gender --> ['Female' 'Male']\n",
      "SeniorCitizen --> [0 1]\n",
      "Partner --> ['Yes' 'No']\n",
      "Dependents --> ['No' 'Yes']\n",
      "tenure --> [ 1 34  2 45  8 22 10 28 62 13 16 58 49 25 69 52 71 21 12 30 47 72 17 27\n",
      "  5 46 11 70 63 43 15 60 18 66  9  3 31 50 64 56  7 42 35 48 29 65 38 68\n",
      " 32 55 37 36 41  6  4 33 67 23 57 61 14 20 53 40 59 24 44 19 54 51 26  0\n",
      " 39]\n",
      "PhoneService --> ['No' 'Yes']\n",
      "MultipleLines --> ['No phone service' 'No' 'Yes']\n",
      "InternetService --> ['DSL' 'Fiber optic' 'No']\n",
      "OnlineSecurity --> ['No' 'Yes' 'No internet service']\n",
      "OnlineBackup --> ['Yes' 'No' 'No internet service']\n",
      "DeviceProtection --> ['No' 'Yes' 'No internet service']\n",
      "TechSupport --> ['No' 'Yes' 'No internet service']\n",
      "StreamingTV --> ['No' 'Yes' 'No internet service']\n",
      "StreamingMovies --> ['No' 'Yes' 'No internet service']\n",
      "Contract --> ['Month-to-month' 'One year' 'Two year']\n",
      "PaperlessBilling --> ['Yes' 'No']\n",
      "PaymentMethod --> ['Electronic check' 'Mailed check' 'Bank transfer (automatic)'\n",
      " 'Credit card (automatic)']\n",
      "MonthlyCharges --> [29.85 56.95 53.85 ... 63.1  44.2  78.7 ]\n",
      "TotalCharges --> ['29.85' '1889.5' '108.15' ... '346.45' '306.6' '6844.5']\n",
      "Churn --> ['No' 'Yes']\n"
     ]
    }
   ],
   "source": [
    "for feature in df.columns:\n",
    "    print(f'{feature} --> {df[feature].unique()}')"
   ]
  },
  {
   "cell_type": "markdown",
   "id": "dc29fccb-6ca6-424e-aaea-4e8469613f9d",
   "metadata": {},
   "source": [
    "### Check Duplicates & Missing Values"
   ]
  },
  {
   "cell_type": "code",
   "execution_count": 11,
   "id": "41c0a4c2-97ed-47df-9971-694f5884003a",
   "metadata": {},
   "outputs": [
    {
     "data": {
      "text/plain": [
       "0"
      ]
     },
     "execution_count": 11,
     "metadata": {},
     "output_type": "execute_result"
    }
   ],
   "source": [
    "df.isna().sum().sum()"
   ]
  },
  {
   "cell_type": "code",
   "execution_count": 12,
   "id": "361e3ec5-477c-41b1-a3d3-a6b6dc305446",
   "metadata": {},
   "outputs": [],
   "source": [
    "# df.isna().sum()/df.shape[0]"
   ]
  },
  {
   "cell_type": "code",
   "execution_count": 13,
   "id": "32d7496e-8fc8-4e24-919c-f6026c6b1c1e",
   "metadata": {},
   "outputs": [
    {
     "data": {
      "text/plain": [
       "22"
      ]
     },
     "execution_count": 13,
     "metadata": {},
     "output_type": "execute_result"
    }
   ],
   "source": [
    "df.duplicated().sum()"
   ]
  },
  {
   "cell_type": "code",
   "execution_count": 14,
   "id": "1779a915",
   "metadata": {},
   "outputs": [],
   "source": [
    "df.drop_duplicates(inplace=True)"
   ]
  },
  {
   "cell_type": "markdown",
   "id": "aca273d7-9070-4b17-9d82-77629c53a3ab",
   "metadata": {},
   "source": [
    "### Handle Duplicates & Missing Values"
   ]
  },
  {
   "cell_type": "code",
   "execution_count": null,
   "id": "2fef588c-73fe-451c-b689-8cf9d5e00470",
   "metadata": {},
   "outputs": [],
   "source": [
    "df.shape"
   ]
  },
  {
   "cell_type": "markdown",
   "id": "760138aa-6866-4031-b0c0-99b67525e08f",
   "metadata": {},
   "source": [
    "### Feature Evaluation"
   ]
  },
  {
   "cell_type": "code",
   "execution_count": null,
   "id": "06b07b67-cec3-41e4-a93c-31c658dbadf7",
   "metadata": {},
   "outputs": [],
   "source": [
    "def get_corr_plot(df):\n",
    "    df_input = df.copy()\n",
    "    for col in df_input.select_dtypes(exclude='number').columns:\n",
    "        encoder = LabelEncoder()\n",
    "        df_input[col] = encoder.fit_transform(df_input[col])\n",
    "    plt.figure(figsize=(16, 8))\n",
    "    sns.heatmap(df_input.corr(),\n",
    "                annot=True,\n",
    "                cmap=\"Greens\")\n",
    "    plt.show()"
   ]
  },
  {
   "cell_type": "code",
   "execution_count": null,
   "id": "17c3a1ee-b1a1-4150-8160-67885ecf5ab7",
   "metadata": {},
   "outputs": [],
   "source": [
    "get_corr_plot(df)"
   ]
  },
  {
   "cell_type": "code",
   "execution_count": null,
   "id": "d11710fc-ae74-4249-aa9c-7999f2d1dd9f",
   "metadata": {},
   "outputs": [],
   "source": [
    "df['OnlineSecurity'] = df['OnlineSecurity'].replace('No internet service', 'No')\n",
    "df['MultipleLines'] = df['OnlineSecurity'].replace('No internet service', 'No')\n",
    "df['OnlineBackup'] = df['OnlineSecurity'].replace('No internet service', 'No')\n",
    "df['DeviceProtection'] = df['OnlineSecurity'].replace('No internet service', 'No')\n",
    "df['TechSupport'] = df['OnlineSecurity'].replace('No internet service', 'No')\n",
    "df['StreamingTV'] = df['OnlineSecurity'].replace('No internet service', 'No')\n",
    "df['StreamingMovies'] = df['OnlineSecurity'].replace('No internet service', 'No')"
   ]
  },
  {
   "cell_type": "code",
   "execution_count": null,
   "id": "3174075b-ab84-426e-81e8-eb2acd68950a",
   "metadata": {},
   "outputs": [],
   "source": [
    "df['TotalCharges'] = df['TotalCharges'].replace(\"'\", \"\").replace('\"','').replace(\" \", \"\").replace('', np.nan).astype('float')"
   ]
  },
  {
   "cell_type": "markdown",
   "id": "7769ad38-a4c7-453a-8ced-28c2730071bc",
   "metadata": {},
   "source": [
    "### Chech and Fix Data Types"
   ]
  },
  {
   "cell_type": "code",
   "execution_count": null,
   "id": "d30b7757-294c-40be-9bb5-c0c09d75f896",
   "metadata": {},
   "outputs": [],
   "source": [
    "# df['TotalCharges-isdigit'] = df['TotalCharges'].apply(lambda x: str(int(float(x))).isdigit())"
   ]
  },
  {
   "cell_type": "code",
   "execution_count": null,
   "id": "33e9f4a5-030d-475c-9886-45f58774715e",
   "metadata": {},
   "outputs": [],
   "source": [
    "# df['TotalCharges-isdigit'].sum()"
   ]
  },
  {
   "cell_type": "code",
   "execution_count": null,
   "id": "820ae553-c4b2-4fc2-b471-0b610ed7746b",
   "metadata": {},
   "outputs": [],
   "source": [
    "# df[df['TotalCharges-isdigit'] == False].shape[0]"
   ]
  },
  {
   "cell_type": "code",
   "execution_count": null,
   "id": "6c6ca4e3-459d-4e95-af00-84b9c6e15e34",
   "metadata": {},
   "outputs": [],
   "source": [
    "df.isna().sum()/df.shape[0]"
   ]
  },
  {
   "cell_type": "code",
   "execution_count": null,
   "id": "781005db-15a4-4dc5-9395-97178bdbb657",
   "metadata": {},
   "outputs": [],
   "source": [
    "# df.dropna(subset=['TotalCharges'], inplace=True)"
   ]
  },
  {
   "cell_type": "markdown",
   "id": "c3caa9b9-637b-4fde-9bcc-3f463acd22e8",
   "metadata": {},
   "source": [
    "# Analysis"
   ]
  },
  {
   "cell_type": "markdown",
   "id": "b7889053-1441-4d66-943b-747f23e8e286",
   "metadata": {},
   "source": [
    "## Visualize"
   ]
  },
  {
   "cell_type": "code",
   "execution_count": null,
   "id": "f8612e75-c04c-4099-ae8a-9652fdf0afce",
   "metadata": {},
   "outputs": [],
   "source": [
    "from lifelines import KaplanMeierFitter\n",
    "from sklearn.ensemble import RandomForestClassifier\n",
    "\n",
    "def visualize(df):\n",
    "    df_input = df.copy()\n",
    "\n",
    "    # Convert 'Churn' column to numeric dtype\n",
    "    df_input['TotalCharges'] = df_input['TotalCharges'].replace(\"'\", \"\").replace('\"','').replace(\" \", \"\").replace('', np.nan).astype('float')\n",
    "    df_input.dropna(subset=['TotalCharges'], inplace=True)\n",
    "    df_input['Churn'] = df_input['Churn'].replace({'Yes': 1, 'No': 0}).astype(int)\n",
    "\n",
    "    # Churn rate over time\n",
    "    df_input['tenure_months'] = df_input['tenure']\n",
    "    churn_rate_over_time = df_input.groupby('tenure_months')['Churn'].mean()\n",
    "\n",
    "    plt.figure(figsize=(10, 6))\n",
    "    sns.lineplot(x=churn_rate_over_time.index, y=churn_rate_over_time.values)\n",
    "    plt.title('Churn Rate Over Tenure Months')\n",
    "    plt.xlabel('Tenure Months')\n",
    "    plt.ylabel('Churn Rate')\n",
    "    plt.show()\n",
    "\n",
    "    # Customer segmentation\n",
    "    plt.figure(figsize=(10, 6))\n",
    "    sns.countplot(x='Contract', hue='Churn', data=df_input)\n",
    "    plt.title('Churned Customers by Contract Type')\n",
    "    plt.xlabel('Contract Type')\n",
    "    plt.ylabel('Count')\n",
    "    plt.show()\n",
    "    \n",
    "    # Survival analysis\n",
    "    kmf = KaplanMeierFitter()\n",
    "    kmf.fit(durations=df_input['tenure_months'], event_observed=df_input['Churn'])\n",
    "    \n",
    "    plt.figure(figsize=(10, 6))\n",
    "    kmf.plot()\n",
    "    plt.title('Survival Curve for Churned Customers')\n",
    "    plt.xlabel('Tenure Months')\n",
    "    plt.ylabel('Survival Probability')\n",
    "    plt.show()\n",
    "    \n",
    "    # Feature importance\n",
    "    X = df_input[['tenure', 'MonthlyCharges', 'TotalCharges']]\n",
    "    y = df_input['Churn']\n",
    "    \n",
    "    rf = RandomForestClassifier()\n",
    "    rf.fit(X, y)\n",
    "    \n",
    "    feature_importance = pd.Series(rf.feature_importances_, index=X.columns).sort_values(ascending=False)\n",
    "    \n",
    "    plt.figure(figsize=(10, 6))\n",
    "    sns.barplot(x=feature_importance.values, y=feature_importance.index)\n",
    "    plt.title('Feature Importance for Churn Prediction')\n",
    "    plt.xlabel('Importance')\n",
    "    plt.ylabel('Feature')\n",
    "    plt.show()"
   ]
  },
  {
   "cell_type": "code",
   "execution_count": null,
   "id": "31d0cdc1-c962-4669-9ddb-a2b811f11a67",
   "metadata": {},
   "outputs": [],
   "source": [
    "visualize(df)"
   ]
  },
  {
   "cell_type": "markdown",
   "id": "7e257492-9ba0-491c-b17b-2e251ffb2f09",
   "metadata": {},
   "source": [
    "# Predict Churn with Machine Learning Model (Classification)"
   ]
  },
  {
   "cell_type": "markdown",
   "id": "0621c535-3d0e-4bf1-ad5b-ca342f754ca7",
   "metadata": {},
   "source": [
    "## Label Encoding"
   ]
  },
  {
   "cell_type": "markdown",
   "id": "2b329cd9-2a7a-4c0c-a5bd-d6400e7dfc84",
   "metadata": {},
   "source": [
    "### Feature Engineering\n"
   ]
  },
  {
   "cell_type": "code",
   "execution_count": null,
   "id": "04c777ce-dce1-40ae-8bfe-0e7b003025d0",
   "metadata": {},
   "outputs": [],
   "source": []
  },
  {
   "cell_type": "markdown",
   "id": "71169bf6-792c-467e-b82c-8d2de3943c99",
   "metadata": {},
   "source": [
    "### Feature Selection"
   ]
  },
  {
   "cell_type": "code",
   "execution_count": null,
   "id": "dd8f6fe8-6621-4229-935f-95fa714a0d30",
   "metadata": {},
   "outputs": [],
   "source": []
  },
  {
   "cell_type": "markdown",
   "id": "19874328-8b4f-482b-ae7a-47f50ba3e169",
   "metadata": {},
   "source": [
    "## Model"
   ]
  },
  {
   "cell_type": "code",
   "execution_count": null,
   "id": "c4ededac-b361-49c0-9634-279e6ceace5d",
   "metadata": {},
   "outputs": [],
   "source": [
    "from sklearn.ensemble import RandomForestClassifier\n",
    "from sklearn.preprocessing import OneHotEncoder, LabelEncoder\n",
    "from sklearn.model_selection import train_test_split, cross_val_score, KFold\n",
    "from sklearn.linear_model import LogisticRegression\n",
    "from sklearn.tree import DecisionTreeClassifier\n",
    "from sklearn.neighbors import KNeighborsClassifier\n",
    "from imblearn.over_sampling import SMOTE\n",
    "from sklearn.impute import SimpleImputer\n",
    "from sklearn.preprocessing import StandardScaler, OneHotEncoder\n",
    "from sklearn.compose import ColumnTransformer\n",
    "from sklearn.pipeline import Pipeline"
   ]
  },
  {
   "cell_type": "code",
   "execution_count": null,
   "id": "1c806d21-24d3-4fc7-9c7e-d5b9a982f930",
   "metadata": {},
   "outputs": [],
   "source": [
    "# pip install imblearn"
   ]
  },
  {
   "cell_type": "code",
   "execution_count": null,
   "id": "16f6bd8a-e4e3-49c5-a808-24c1a11d79d6",
   "metadata": {},
   "outputs": [],
   "source": [
    "models = {\n",
    "    \"LogisticRegression\": LogisticRegression(),\n",
    "    \"DecisionTreeClassifier\": DecisionTreeClassifier(),\n",
    "    \"KNeighborsClassifier\": KNeighborsClassifier(),\n",
    "}"
   ]
  },
  {
   "cell_type": "code",
   "execution_count": null,
   "id": "ea89b312-98de-42ea-a0ef-d4f17b98b08e",
   "metadata": {},
   "outputs": [],
   "source": [
    "## balance"
   ]
  },
  {
   "cell_type": "code",
   "execution_count": null,
   "id": "b5a0c857-1a0d-411d-b4e0-05e758ce86d8",
   "metadata": {},
   "outputs": [],
   "source": [
    "from sklearn.metrics import roc_curve, f1_score, precision_score, accuracy_score, roc_auc_score, recall_score, classification_report, confusion_matrix"
   ]
  },
  {
   "cell_type": "markdown",
   "id": "ef526a73-c00d-45e4-b2dd-f2d394a91917",
   "metadata": {},
   "source": [
    "## split data"
   ]
  },
  {
   "cell_type": "code",
   "execution_count": null,
   "id": "96ac91d2-b2a1-4d1a-b846-fa32766b1e87",
   "metadata": {},
   "outputs": [],
   "source": [
    "def split_data(df, target_col):\n",
    "    df_input = df.copy()\n",
    "    df_input.dropna(subset=['TotalCharges'], inplace=True)\n",
    "    # encode\n",
    "    for col in df_input.select_dtypes(exclude='number').columns:\n",
    "        encoder = LabelEncoder()\n",
    "        df_input[col] = encoder.fit_transform(df_input[col])\n",
    "    \n",
    "    # Split\n",
    "    X = df_input.drop(target_col, axis=1)\n",
    "    y = df_input[target_col]\n",
    "    \n",
    "    X_train, X_test, y_train, y_test = train_test_split(X, y, test_size=0.2, stratify=y, random_state=42)\n",
    "    return X_train, X_test, y_train, y_test"
   ]
  },
  {
   "cell_type": "markdown",
   "id": "412b7d9c-052a-4601-8295-37f2013fbc52",
   "metadata": {},
   "source": [
    "## scale data"
   ]
  },
  {
   "cell_type": "code",
   "execution_count": null,
   "id": "2b563cc8-a73c-463d-806a-835da17401d7",
   "metadata": {},
   "outputs": [],
   "source": [
    "def scale_data(df, target_col):\n",
    "    \n",
    "    X_train, X_test, y_train, y_test = split_data(df, target_col)\n",
    "    \n",
    "    scaler = StandardScaler()\n",
    "    X_train_scaled = scaler.fit_transform(X_train)\n",
    "    X_test_scaled = scaler.transform(X_test)\n",
    "    return X_train_scaled, X_test_scaled"
   ]
  },
  {
   "cell_type": "markdown",
   "id": "a33c9dd2-79f4-45fb-ade7-a9188889b562",
   "metadata": {},
   "source": [
    "## roc_auc curve"
   ]
  },
  {
   "cell_type": "code",
   "execution_count": null,
   "id": "7718726c-3bb3-4045-b392-5863a63093f6",
   "metadata": {},
   "outputs": [],
   "source": [
    "# def roc_curve_plot(df, target_col, models):\n",
    "#     X_train, X_test, y_train, y_test = split_data(df, target_col)\n",
    "#     X_train_scaled, X_test_scaled = scale_data(df, target_col)\n",
    "\n",
    "#     colors = ['b', 'g', 'r', 'c', 'm', 'y', 'k']  # List of colors for different models\n",
    "\n",
    "#     for i, (model_name, model) in enumerate(models.items()):\n",
    "#         model.fit(X_train_scaled, y_train)\n",
    "#         y_pred_probs = model.predict_proba(X_test_scaled)[:, 1]\n",
    "\n",
    "#         fpr, tpr, thresholds = roc_curve(y_test, y_pred_probs)\n",
    "#         plt.plot([0, 1], [0, 1], 'k--')\n",
    "#         plt.plot(fpr, tpr, label=model_name, color=colors[i])\n",
    "    \n",
    "#     plt.xlabel('False Positive Rate')\n",
    "#     plt.ylabel('True Positive Rate')\n",
    "#     plt.title('ROC Curve')\n",
    "#     plt.legend(loc='lower right')\n",
    "#     plt.show()\n"
   ]
  },
  {
   "cell_type": "code",
   "execution_count": null,
   "id": "125533cc-240f-4c5b-9511-4c5cb84c758c",
   "metadata": {},
   "outputs": [],
   "source": [
    "# roc_curve_plot(df, 'Churn', models)"
   ]
  },
  {
   "cell_type": "markdown",
   "id": "a65c6f56-2e66-41ee-9d42-6be66081b4af",
   "metadata": {},
   "source": [
    "## box plot"
   ]
  },
  {
   "cell_type": "code",
   "execution_count": null,
   "id": "a02b0d61-4868-49a7-b92f-e8cde096ca12",
   "metadata": {},
   "outputs": [],
   "source": [
    "# def get_modeleval_plot(df, target_col, models):\n",
    "    \n",
    "#     X_train_scaled, X_test_scaled = scale_data(df, target_col)\n",
    "    \n",
    "#     results = []\n",
    "#     for model in models.values():\n",
    "#         kf = KFold(n_splits=6, shuffle=True, random_state=42)\n",
    "#         cv_results = cross_val_score(model, X_train_scaled, y_train, cv=kf)\n",
    "#         results.append(cv_results)\n",
    "    \n",
    "#     # Define colors for the boxplot\n",
    "#     box_colors = ['darkblue', 'lightgreen', 'lightpink']\n",
    "    \n",
    "#     plt.boxplot(results, labels=models.keys(), patch_artist=True, boxprops=dict(facecolor='lightblue'), whiskerprops=dict(color='black'))\n",
    "#     plt.xlabel('Models')\n",
    "#     plt.ylabel('Cross-validation Accuracy')\n",
    "#     plt.title('Boxplot of Cross-validation Accuracy for Different Models')\n",
    "#     plt.xticks(rotation=45)\n",
    "#     plt.show()\n",
    "        "
   ]
  },
  {
   "cell_type": "code",
   "execution_count": null,
   "id": "3d9e39a6-5de1-4882-8cf0-bfddf3f83280",
   "metadata": {},
   "outputs": [],
   "source": [
    "# get_modeleval_plot(df, 'Churn', models)"
   ]
  },
  {
   "cell_type": "markdown",
   "id": "7da35833-eedf-41f3-9f48-92fafe8690eb",
   "metadata": {},
   "source": [
    "## no pipeline"
   ]
  },
  {
   "cell_type": "code",
   "execution_count": null,
   "id": "0f99b2c4-bb66-4389-9887-dd14deb9b985",
   "metadata": {},
   "outputs": [],
   "source": [
    "def model_eval(df, target_col, model):\n",
    "\n",
    "    # Split data\n",
    "    X_train, X_test, y_train, y_test = split_data(df, target_col)\n",
    "    \n",
    "    # Scale data\n",
    "    X_train_scaled, X_test_scaled = scale_data(df, target_col)\n",
    "\n",
    "    kf = KFold(n_splits=6, shuffle=True, random_state=42)\n",
    "    cv_results = cross_val_score(model, X_train_scaled, y_train, cv=kf)\n",
    "    \n",
    "    # Build Model \n",
    "    model.fit(X_train_scaled, y_train)\n",
    "\n",
    "    # Prediction\n",
    "    y_pred = model.predict(X_test_scaled)\n",
    "\n",
    "    # Metrics\n",
    "    model_metric_dict = {\n",
    "        \"model_name\": model,\n",
    "        \"f1_score\": f1_score(y_test, y_pred),\n",
    "        \"precision_score\": precision_score(y_test, y_pred),\n",
    "        \"recall_score\": recall_score(y_test, y_pred),\n",
    "        \"accuracy_score\": accuracy_score(y_test, y_pred),\n",
    "        \"roc_auc_score\": roc_auc_score(y_test, y_pred),\n",
    "        \"cross_val_result\": cv_results.mean()\n",
    "    }\n",
    "\n",
    "    return model_metric_dict\n",
    "    \n"
   ]
  },
  {
   "cell_type": "markdown",
   "id": "232f8ff5-8c0f-44c4-8434-3f49459eecc3",
   "metadata": {},
   "source": [
    "## pipeline"
   ]
  },
  {
   "cell_type": "code",
   "execution_count": null,
   "id": "36886c5d-8202-4f59-ae8e-e519bf102045",
   "metadata": {},
   "outputs": [],
   "source": [
    "def model_eval_pipeline(df, target_col, model):\n",
    "    df_input = df.copy()\n",
    "    df_input['Churn'] = df_input['Churn'].replace({'Yes': 1, 'No': 0}).astype(int)\n",
    "    \n",
    "    # Split\n",
    "    X = df_input.drop(target_col, axis=1)\n",
    "    y = df_input[target_col]\n",
    "    \n",
    "    df_input = df_input.drop(target_col, axis=1)\n",
    "\n",
    "    # numerical\n",
    "\n",
    "    numeric_features = df_input.select_dtypes(include=\"number\").columns\n",
    "    \n",
    "    numeric_transformer = Pipeline(\n",
    "        steps=[('imputer', SimpleImputer(strategy='mean')),\n",
    "               ('scaler', StandardScaler())]\n",
    "    )\n",
    "\n",
    "    # categorical\n",
    "    categorical_features = df_input.select_dtypes(exclude=\"number\").columns\n",
    "    categorical_transformer = OneHotEncoder(handle_unknown=\"ignore\")\n",
    "\n",
    "\n",
    "    preprocessor = ColumnTransformer(\n",
    "    transformers=[('num', numeric_transformer, numeric_features),\n",
    "                 ('cat', categorical_transformer, categorical_features)\n",
    "                 ]\n",
    "    )\n",
    "\n",
    "    clf = Pipeline(\n",
    "    steps=[\n",
    "        ('preprocessor',preprocessor),\n",
    "        (\"classifier\",  model)\n",
    "          ]\n",
    "    )\n",
    "\n",
    "    \n",
    "    X_train, X_test, y_train, y_test = train_test_split(X, y, test_size=0.2, stratify=y, random_state=42)\n",
    "    \n",
    "    # Cross val score\n",
    "    kf = KFold(n_splits=6, shuffle=True, random_state=42)\n",
    "    cv_results = cross_val_score(clf, X_train, y_train, cv=kf)\n",
    "\n",
    "    # Build Model \n",
    "    clf.fit(X_train, y_train)\n",
    "\n",
    "    # Prediction\n",
    "    y_pred = clf.predict(X_test)\n",
    "\n",
    "\n",
    "    # Metrics\n",
    "    model_metric_dict = {\n",
    "        \"model_name\": model,\n",
    "        \"f1_score\": f1_score(y_test, y_pred),\n",
    "        \"precision_score\": precision_score(y_test, y_pred),\n",
    "        \"recall_score\": recall_score(y_test, y_pred),\n",
    "        \"accuracy_score\": accuracy_score(y_test, y_pred),\n",
    "        \"roc_auc_score\": roc_auc_score(y_test, y_pred),\n",
    "        \"cross_val_result\": cv_results.mean()\n",
    "    }\n",
    "\n",
    "    return model_metric_dict"
   ]
  },
  {
   "cell_type": "markdown",
   "id": "a6d6daa4-0dd0-45f5-9e5b-c1f32993cd9c",
   "metadata": {},
   "source": [
    "### no pipeline"
   ]
  },
  {
   "cell_type": "code",
   "execution_count": null,
   "id": "0479b018-2f2e-4a47-a28d-7285384c956f",
   "metadata": {},
   "outputs": [],
   "source": [
    "pd.DataFrame([model_eval(df,\"Churn\", model) for model_name, model in models.items()]).sort_values(\"f1_score\", ascending=False) #.style.background_gradient(cmap=\"coolwarm\")"
   ]
  },
  {
   "cell_type": "markdown",
   "id": "6fc3e9ce-2de7-4a7e-82bf-41b39f535290",
   "metadata": {},
   "source": [
    "### pipline"
   ]
  },
  {
   "cell_type": "code",
   "execution_count": null,
   "id": "4f9d8ce1-0cbe-46f5-a8f3-76eee0d88388",
   "metadata": {},
   "outputs": [],
   "source": [
    "pd.DataFrame([model_eval_pipeline(df,\"Churn\", model) for model_name, model in models.items()]).sort_values(\"f1_score\", ascending=False)"
   ]
  },
  {
   "cell_type": "markdown",
   "id": "31a06a81-427e-4d05-a1a5-183b0df9e903",
   "metadata": {},
   "source": [
    "## box plot and roc curve plot"
   ]
  },
  {
   "cell_type": "code",
   "execution_count": null,
   "id": "27540782-61db-4dd9-9ad8-2db8e353cc60",
   "metadata": {},
   "outputs": [],
   "source": [
    "def box_roc_curve_plot(df, target_col, models):\n",
    "    X_train, X_test, y_train, y_test = split_data(df, target_col)\n",
    "    X_train_scaled, X_test_scaled = scale_data(df, target_col)\n",
    "\n",
    "    colors = ['b', 'g', 'r', 'c', 'm', 'y', 'k']  # List of colors for different models\n",
    "\n",
    "    fig, (ax1, ax2) = plt.subplots(1, 2, figsize=(12, 5))  # Create subplots\n",
    "\n",
    "    for i, (model_name, model) in enumerate(models.items()):\n",
    "        model.fit(X_train_scaled, y_train)\n",
    "        y_pred_probs = model.predict_proba(X_test_scaled)[:, 1]\n",
    "\n",
    "        fpr, tpr, thresholds = roc_curve(y_test, y_pred_probs)\n",
    "        ax1.plot([0, 1], [0, 1], 'k--')\n",
    "        ax1.plot(fpr, tpr, label=model_name, color=colors[i])\n",
    "    \n",
    "    ax1.set_xlabel('False Positive Rate')\n",
    "    ax1.set_ylabel('True Positive Rate')\n",
    "    ax1.set_title('ROC Curve')\n",
    "    ax1.legend(loc='lower right')\n",
    "\n",
    "    results = []\n",
    "    for model in models.values():\n",
    "        kf = KFold(n_splits=6, shuffle=True, random_state=42)\n",
    "        cv_results = cross_val_score(model, X_train_scaled, y_train, cv=kf)\n",
    "        results.append(cv_results)\n",
    "    \n",
    "    # Define colors for the boxplot\n",
    "    box_colors = ['darkblue', 'lightgreen', 'lightpink']\n",
    "    \n",
    "    ax2.boxplot(results, labels=models.keys(), patch_artist=True, boxprops=dict(facecolor='lightblue'), whiskerprops=dict(color='black'))\n",
    "    ax2.set_xlabel('Models')\n",
    "    ax2.set_ylabel('Cross-validation Accuracy')\n",
    "    ax2.set_title('Boxplot of Cross-validation Accuracy for Different Models')\n",
    "    ax2.set_xticklabels(models.keys(), rotation=45)\n",
    "\n",
    "    plt.tight_layout()  # Adjust layout to prevent overlap\n",
    "    plt.show()\n",
    "\n",
    "# Assuming you have defined df, target_col, and models dictionary elsewhere\n",
    "\n",
    "box_roc_curve_plot(df, 'Churn', models)\n"
   ]
  },
  {
   "cell_type": "code",
   "execution_count": null,
   "id": "aa45e5ff-afb5-44c4-8e99-1a24a5b9b8c0",
   "metadata": {},
   "outputs": [],
   "source": []
  },
  {
   "cell_type": "code",
   "execution_count": null,
   "id": "ef83d43e-955b-421f-b390-a86d54366916",
   "metadata": {},
   "outputs": [],
   "source": []
  }
 ],
 "metadata": {
  "kernelspec": {
   "display_name": "Python 3 (ipykernel)",
   "language": "python",
   "name": "python3"
  },
  "language_info": {
   "codemirror_mode": {
    "name": "ipython",
    "version": 3
   },
   "file_extension": ".py",
   "mimetype": "text/x-python",
   "name": "python",
   "nbconvert_exporter": "python",
   "pygments_lexer": "ipython3",
   "version": "3.11.4"
  }
 },
 "nbformat": 4,
 "nbformat_minor": 5
}
