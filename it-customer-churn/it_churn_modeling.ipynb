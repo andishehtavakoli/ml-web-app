{
 "cells": [
  {
   "cell_type": "markdown",
   "id": "81009a71-9812-434e-9dd1-e7a6fd896849",
   "metadata": {},
   "source": [
    "## Import Libraries"
   ]
  },
  {
   "cell_type": "code",
   "execution_count": 32,
   "id": "a06750cf-a092-4d1f-901f-4110ab42d00a",
   "metadata": {},
   "outputs": [],
   "source": [
    "import numpy as np\n",
    "import pandas as pd\n",
    "import matplotlib.pyplot as plt\n",
    "import seaborn as sns\n",
    "from lifelines import KaplanMeierFitter\n",
    "from sklearn.ensemble import RandomForestClassifier\n",
    "from sklearn.preprocessing import OneHotEncoder, LabelEncoder\n",
    "\n",
    "import warnings\n",
    "warnings.filterwarnings('ignore')"
   ]
  },
  {
   "cell_type": "code",
   "execution_count": 35,
   "id": "4360e599-7139-4811-b4c6-dbce1ecda6d8",
   "metadata": {},
   "outputs": [],
   "source": [
    "sns.set_theme(style='darkgrid')"
   ]
  },
  {
   "cell_type": "code",
   "execution_count": 36,
   "id": "cfe931a9-1af3-4b0c-91b7-6fead0c3c5b5",
   "metadata": {},
   "outputs": [],
   "source": [
    "df = pd.read_csv('IT_customer_churn.csv')"
   ]
  },
  {
   "cell_type": "code",
   "execution_count": 37,
   "id": "56e8f9d0-b36c-4c72-bc71-8ac5aee98e6c",
   "metadata": {},
   "outputs": [
    {
     "data": {
      "text/html": [
       "<div>\n",
       "<style scoped>\n",
       "    .dataframe tbody tr th:only-of-type {\n",
       "        vertical-align: middle;\n",
       "    }\n",
       "\n",
       "    .dataframe tbody tr th {\n",
       "        vertical-align: top;\n",
       "    }\n",
       "\n",
       "    .dataframe thead th {\n",
       "        text-align: right;\n",
       "    }\n",
       "</style>\n",
       "<table border=\"1\" class=\"dataframe\">\n",
       "  <thead>\n",
       "    <tr style=\"text-align: right;\">\n",
       "      <th></th>\n",
       "      <th>gender</th>\n",
       "      <th>SeniorCitizen</th>\n",
       "      <th>Partner</th>\n",
       "      <th>Dependents</th>\n",
       "      <th>tenure</th>\n",
       "      <th>PhoneService</th>\n",
       "      <th>MultipleLines</th>\n",
       "      <th>InternetService</th>\n",
       "      <th>OnlineSecurity</th>\n",
       "      <th>OnlineBackup</th>\n",
       "      <th>DeviceProtection</th>\n",
       "      <th>TechSupport</th>\n",
       "      <th>StreamingTV</th>\n",
       "      <th>StreamingMovies</th>\n",
       "      <th>Contract</th>\n",
       "      <th>PaperlessBilling</th>\n",
       "      <th>PaymentMethod</th>\n",
       "      <th>MonthlyCharges</th>\n",
       "      <th>TotalCharges</th>\n",
       "      <th>Churn</th>\n",
       "    </tr>\n",
       "  </thead>\n",
       "  <tbody>\n",
       "    <tr>\n",
       "      <th>0</th>\n",
       "      <td>Female</td>\n",
       "      <td>0</td>\n",
       "      <td>Yes</td>\n",
       "      <td>No</td>\n",
       "      <td>1</td>\n",
       "      <td>No</td>\n",
       "      <td>No phone service</td>\n",
       "      <td>DSL</td>\n",
       "      <td>No</td>\n",
       "      <td>Yes</td>\n",
       "      <td>No</td>\n",
       "      <td>No</td>\n",
       "      <td>No</td>\n",
       "      <td>No</td>\n",
       "      <td>Month-to-month</td>\n",
       "      <td>Yes</td>\n",
       "      <td>Electronic check</td>\n",
       "      <td>29.85</td>\n",
       "      <td>29.85</td>\n",
       "      <td>No</td>\n",
       "    </tr>\n",
       "    <tr>\n",
       "      <th>1</th>\n",
       "      <td>Male</td>\n",
       "      <td>0</td>\n",
       "      <td>No</td>\n",
       "      <td>No</td>\n",
       "      <td>34</td>\n",
       "      <td>Yes</td>\n",
       "      <td>No</td>\n",
       "      <td>DSL</td>\n",
       "      <td>Yes</td>\n",
       "      <td>No</td>\n",
       "      <td>Yes</td>\n",
       "      <td>No</td>\n",
       "      <td>No</td>\n",
       "      <td>No</td>\n",
       "      <td>One year</td>\n",
       "      <td>No</td>\n",
       "      <td>Mailed check</td>\n",
       "      <td>56.95</td>\n",
       "      <td>1889.5</td>\n",
       "      <td>No</td>\n",
       "    </tr>\n",
       "  </tbody>\n",
       "</table>\n",
       "</div>"
      ],
      "text/plain": [
       "   gender  SeniorCitizen Partner Dependents  tenure PhoneService  \\\n",
       "0  Female              0     Yes         No       1           No   \n",
       "1    Male              0      No         No      34          Yes   \n",
       "\n",
       "      MultipleLines InternetService OnlineSecurity OnlineBackup  \\\n",
       "0  No phone service             DSL             No          Yes   \n",
       "1                No             DSL            Yes           No   \n",
       "\n",
       "  DeviceProtection TechSupport StreamingTV StreamingMovies        Contract  \\\n",
       "0               No          No          No              No  Month-to-month   \n",
       "1              Yes          No          No              No        One year   \n",
       "\n",
       "  PaperlessBilling     PaymentMethod  MonthlyCharges TotalCharges Churn  \n",
       "0              Yes  Electronic check           29.85        29.85    No  \n",
       "1               No      Mailed check           56.95       1889.5    No  "
      ]
     },
     "execution_count": 37,
     "metadata": {},
     "output_type": "execute_result"
    }
   ],
   "source": [
    "df.head(2)"
   ]
  },
  {
   "cell_type": "code",
   "execution_count": 38,
   "id": "39734205-0b9d-4a88-a1ab-9507bd54cf9c",
   "metadata": {},
   "outputs": [
    {
     "data": {
      "text/html": [
       "<div>\n",
       "<style scoped>\n",
       "    .dataframe tbody tr th:only-of-type {\n",
       "        vertical-align: middle;\n",
       "    }\n",
       "\n",
       "    .dataframe tbody tr th {\n",
       "        vertical-align: top;\n",
       "    }\n",
       "\n",
       "    .dataframe thead th {\n",
       "        text-align: right;\n",
       "    }\n",
       "</style>\n",
       "<table border=\"1\" class=\"dataframe\">\n",
       "  <thead>\n",
       "    <tr style=\"text-align: right;\">\n",
       "      <th></th>\n",
       "      <th>gender</th>\n",
       "      <th>SeniorCitizen</th>\n",
       "      <th>Partner</th>\n",
       "      <th>Dependents</th>\n",
       "      <th>tenure</th>\n",
       "      <th>PhoneService</th>\n",
       "      <th>MultipleLines</th>\n",
       "      <th>InternetService</th>\n",
       "      <th>OnlineSecurity</th>\n",
       "      <th>OnlineBackup</th>\n",
       "      <th>DeviceProtection</th>\n",
       "      <th>TechSupport</th>\n",
       "      <th>StreamingTV</th>\n",
       "      <th>StreamingMovies</th>\n",
       "      <th>Contract</th>\n",
       "      <th>PaperlessBilling</th>\n",
       "      <th>PaymentMethod</th>\n",
       "      <th>MonthlyCharges</th>\n",
       "      <th>TotalCharges</th>\n",
       "      <th>Churn</th>\n",
       "    </tr>\n",
       "  </thead>\n",
       "  <tbody>\n",
       "    <tr>\n",
       "      <th>7041</th>\n",
       "      <td>Male</td>\n",
       "      <td>1</td>\n",
       "      <td>Yes</td>\n",
       "      <td>No</td>\n",
       "      <td>4</td>\n",
       "      <td>Yes</td>\n",
       "      <td>Yes</td>\n",
       "      <td>Fiber optic</td>\n",
       "      <td>No</td>\n",
       "      <td>No</td>\n",
       "      <td>No</td>\n",
       "      <td>No</td>\n",
       "      <td>No</td>\n",
       "      <td>No</td>\n",
       "      <td>Month-to-month</td>\n",
       "      <td>Yes</td>\n",
       "      <td>Mailed check</td>\n",
       "      <td>74.40</td>\n",
       "      <td>306.6</td>\n",
       "      <td>Yes</td>\n",
       "    </tr>\n",
       "    <tr>\n",
       "      <th>7042</th>\n",
       "      <td>Male</td>\n",
       "      <td>0</td>\n",
       "      <td>No</td>\n",
       "      <td>No</td>\n",
       "      <td>66</td>\n",
       "      <td>Yes</td>\n",
       "      <td>No</td>\n",
       "      <td>Fiber optic</td>\n",
       "      <td>Yes</td>\n",
       "      <td>No</td>\n",
       "      <td>Yes</td>\n",
       "      <td>Yes</td>\n",
       "      <td>Yes</td>\n",
       "      <td>Yes</td>\n",
       "      <td>Two year</td>\n",
       "      <td>Yes</td>\n",
       "      <td>Bank transfer (automatic)</td>\n",
       "      <td>105.65</td>\n",
       "      <td>6844.5</td>\n",
       "      <td>No</td>\n",
       "    </tr>\n",
       "  </tbody>\n",
       "</table>\n",
       "</div>"
      ],
      "text/plain": [
       "     gender  SeniorCitizen Partner Dependents  tenure PhoneService  \\\n",
       "7041   Male              1     Yes         No       4          Yes   \n",
       "7042   Male              0      No         No      66          Yes   \n",
       "\n",
       "     MultipleLines InternetService OnlineSecurity OnlineBackup  \\\n",
       "7041           Yes     Fiber optic             No           No   \n",
       "7042            No     Fiber optic            Yes           No   \n",
       "\n",
       "     DeviceProtection TechSupport StreamingTV StreamingMovies        Contract  \\\n",
       "7041               No          No          No              No  Month-to-month   \n",
       "7042              Yes         Yes         Yes             Yes        Two year   \n",
       "\n",
       "     PaperlessBilling              PaymentMethod  MonthlyCharges TotalCharges  \\\n",
       "7041              Yes               Mailed check           74.40        306.6   \n",
       "7042              Yes  Bank transfer (automatic)          105.65       6844.5   \n",
       "\n",
       "     Churn  \n",
       "7041   Yes  \n",
       "7042    No  "
      ]
     },
     "execution_count": 38,
     "metadata": {},
     "output_type": "execute_result"
    }
   ],
   "source": [
    "df.tail(2)"
   ]
  },
  {
   "cell_type": "code",
   "execution_count": 39,
   "id": "bfdcc066-e620-4cab-9cde-604f74e00a72",
   "metadata": {},
   "outputs": [
    {
     "data": {
      "text/plain": [
       "(7043, 20)"
      ]
     },
     "execution_count": 39,
     "metadata": {},
     "output_type": "execute_result"
    }
   ],
   "source": [
    "df.shape"
   ]
  },
  {
   "cell_type": "code",
   "execution_count": 40,
   "id": "220f2a3b-8a85-4700-a94b-bc5d9def5ee9",
   "metadata": {},
   "outputs": [
    {
     "name": "stdout",
     "output_type": "stream",
     "text": [
      "<class 'pandas.core.frame.DataFrame'>\n",
      "RangeIndex: 7043 entries, 0 to 7042\n",
      "Data columns (total 20 columns):\n",
      " #   Column            Non-Null Count  Dtype  \n",
      "---  ------            --------------  -----  \n",
      " 0   gender            7043 non-null   object \n",
      " 1   SeniorCitizen     7043 non-null   int64  \n",
      " 2   Partner           7043 non-null   object \n",
      " 3   Dependents        7043 non-null   object \n",
      " 4   tenure            7043 non-null   int64  \n",
      " 5   PhoneService      7043 non-null   object \n",
      " 6   MultipleLines     7043 non-null   object \n",
      " 7   InternetService   7043 non-null   object \n",
      " 8   OnlineSecurity    7043 non-null   object \n",
      " 9   OnlineBackup      7043 non-null   object \n",
      " 10  DeviceProtection  7043 non-null   object \n",
      " 11  TechSupport       7043 non-null   object \n",
      " 12  StreamingTV       7043 non-null   object \n",
      " 13  StreamingMovies   7043 non-null   object \n",
      " 14  Contract          7043 non-null   object \n",
      " 15  PaperlessBilling  7043 non-null   object \n",
      " 16  PaymentMethod     7043 non-null   object \n",
      " 17  MonthlyCharges    7043 non-null   float64\n",
      " 18  TotalCharges      7043 non-null   object \n",
      " 19  Churn             7043 non-null   object \n",
      "dtypes: float64(1), int64(2), object(17)\n",
      "memory usage: 1.1+ MB\n"
     ]
    }
   ],
   "source": [
    "df.info()"
   ]
  },
  {
   "cell_type": "code",
   "execution_count": 41,
   "id": "d9124f79-d7ee-442e-9cb1-0aae4d9eb20b",
   "metadata": {},
   "outputs": [
    {
     "data": {
      "text/html": [
       "<div>\n",
       "<style scoped>\n",
       "    .dataframe tbody tr th:only-of-type {\n",
       "        vertical-align: middle;\n",
       "    }\n",
       "\n",
       "    .dataframe tbody tr th {\n",
       "        vertical-align: top;\n",
       "    }\n",
       "\n",
       "    .dataframe thead th {\n",
       "        text-align: right;\n",
       "    }\n",
       "</style>\n",
       "<table border=\"1\" class=\"dataframe\">\n",
       "  <thead>\n",
       "    <tr style=\"text-align: right;\">\n",
       "      <th></th>\n",
       "      <th>count</th>\n",
       "      <th>mean</th>\n",
       "      <th>std</th>\n",
       "      <th>min</th>\n",
       "      <th>25%</th>\n",
       "      <th>50%</th>\n",
       "      <th>75%</th>\n",
       "      <th>max</th>\n",
       "    </tr>\n",
       "  </thead>\n",
       "  <tbody>\n",
       "    <tr>\n",
       "      <th>SeniorCitizen</th>\n",
       "      <td>7043.0</td>\n",
       "      <td>0.162147</td>\n",
       "      <td>0.368612</td>\n",
       "      <td>0.00</td>\n",
       "      <td>0.0</td>\n",
       "      <td>0.00</td>\n",
       "      <td>0.00</td>\n",
       "      <td>1.00</td>\n",
       "    </tr>\n",
       "    <tr>\n",
       "      <th>tenure</th>\n",
       "      <td>7043.0</td>\n",
       "      <td>32.371149</td>\n",
       "      <td>24.559481</td>\n",
       "      <td>0.00</td>\n",
       "      <td>9.0</td>\n",
       "      <td>29.00</td>\n",
       "      <td>55.00</td>\n",
       "      <td>72.00</td>\n",
       "    </tr>\n",
       "    <tr>\n",
       "      <th>MonthlyCharges</th>\n",
       "      <td>7043.0</td>\n",
       "      <td>64.761692</td>\n",
       "      <td>30.090047</td>\n",
       "      <td>18.25</td>\n",
       "      <td>35.5</td>\n",
       "      <td>70.35</td>\n",
       "      <td>89.85</td>\n",
       "      <td>118.75</td>\n",
       "    </tr>\n",
       "  </tbody>\n",
       "</table>\n",
       "</div>"
      ],
      "text/plain": [
       "                 count       mean        std    min   25%    50%    75%  \\\n",
       "SeniorCitizen   7043.0   0.162147   0.368612   0.00   0.0   0.00   0.00   \n",
       "tenure          7043.0  32.371149  24.559481   0.00   9.0  29.00  55.00   \n",
       "MonthlyCharges  7043.0  64.761692  30.090047  18.25  35.5  70.35  89.85   \n",
       "\n",
       "                   max  \n",
       "SeniorCitizen     1.00  \n",
       "tenure           72.00  \n",
       "MonthlyCharges  118.75  "
      ]
     },
     "execution_count": 41,
     "metadata": {},
     "output_type": "execute_result"
    }
   ],
   "source": [
    "df.describe().T"
   ]
  },
  {
   "cell_type": "code",
   "execution_count": 42,
   "id": "41c0a4c2-97ed-47df-9971-694f5884003a",
   "metadata": {},
   "outputs": [
    {
     "data": {
      "text/plain": [
       "0"
      ]
     },
     "execution_count": 42,
     "metadata": {},
     "output_type": "execute_result"
    }
   ],
   "source": [
    "df.isna().sum().sum()"
   ]
  },
  {
   "cell_type": "code",
   "execution_count": 43,
   "id": "32d7496e-8fc8-4e24-919c-f6026c6b1c1e",
   "metadata": {},
   "outputs": [
    {
     "data": {
      "text/plain": [
       "22"
      ]
     },
     "execution_count": 43,
     "metadata": {},
     "output_type": "execute_result"
    }
   ],
   "source": [
    "df.duplicated().sum()"
   ]
  },
  {
   "cell_type": "code",
   "execution_count": 44,
   "id": "33ce8db5-f275-4840-8dac-c7e4c885ab27",
   "metadata": {},
   "outputs": [],
   "source": [
    "df.drop_duplicates(ignore_index=True, inplace=True)"
   ]
  },
  {
   "cell_type": "code",
   "execution_count": 45,
   "id": "2fef588c-73fe-451c-b689-8cf9d5e00470",
   "metadata": {},
   "outputs": [
    {
     "data": {
      "text/plain": [
       "(7021, 20)"
      ]
     },
     "execution_count": 45,
     "metadata": {},
     "output_type": "execute_result"
    }
   ],
   "source": [
    "df.shape"
   ]
  },
  {
   "cell_type": "code",
   "execution_count": 46,
   "id": "55e67076-ce19-46da-b3d6-5009576506f2",
   "metadata": {},
   "outputs": [
    {
     "data": {
      "text/plain": [
       "array(['Female', 'Male'], dtype=object)"
      ]
     },
     "execution_count": 46,
     "metadata": {},
     "output_type": "execute_result"
    }
   ],
   "source": [
    "df['gender'].unique()"
   ]
  },
  {
   "cell_type": "code",
   "execution_count": 47,
   "id": "f8b4264a-da9e-4556-ad4a-2d5bf01214b0",
   "metadata": {},
   "outputs": [
    {
     "name": "stdout",
     "output_type": "stream",
     "text": [
      "gender --> ['Female' 'Male']\n",
      "SeniorCitizen --> [0 1]\n",
      "Partner --> ['Yes' 'No']\n",
      "Dependents --> ['No' 'Yes']\n",
      "tenure --> [ 1 34  2 45  8 22 10 28 62 13 16 58 49 25 69 52 71 21 12 30 47 72 17 27\n",
      "  5 46 11 70 63 43 15 60 18 66  9  3 31 50 64 56  7 42 35 48 29 65 38 68\n",
      " 32 55 37 36 41  6  4 33 67 23 57 61 14 20 53 40 59 24 44 19 54 51 26  0\n",
      " 39]\n",
      "PhoneService --> ['No' 'Yes']\n",
      "MultipleLines --> ['No phone service' 'No' 'Yes']\n",
      "InternetService --> ['DSL' 'Fiber optic' 'No']\n",
      "OnlineSecurity --> ['No' 'Yes' 'No internet service']\n",
      "OnlineBackup --> ['Yes' 'No' 'No internet service']\n",
      "DeviceProtection --> ['No' 'Yes' 'No internet service']\n",
      "TechSupport --> ['No' 'Yes' 'No internet service']\n",
      "StreamingTV --> ['No' 'Yes' 'No internet service']\n",
      "StreamingMovies --> ['No' 'Yes' 'No internet service']\n",
      "Contract --> ['Month-to-month' 'One year' 'Two year']\n",
      "PaperlessBilling --> ['Yes' 'No']\n",
      "PaymentMethod --> ['Electronic check' 'Mailed check' 'Bank transfer (automatic)'\n",
      " 'Credit card (automatic)']\n",
      "MonthlyCharges --> [29.85 56.95 53.85 ... 63.1  44.2  78.7 ]\n",
      "TotalCharges --> ['29.85' '1889.5' '108.15' ... '346.45' '306.6' '6844.5']\n",
      "Churn --> ['No' 'Yes']\n"
     ]
    }
   ],
   "source": [
    "for feature in df.columns:\n",
    "    print(f'{feature} --> {df[feature].unique()}')"
   ]
  },
  {
   "cell_type": "code",
   "execution_count": 48,
   "id": "d11710fc-ae74-4249-aa9c-7999f2d1dd9f",
   "metadata": {},
   "outputs": [],
   "source": [
    "df['OnlineSecurity'] = df['OnlineSecurity'].replace('No internet service', 'No')\n",
    "df['MultipleLines'] = df['OnlineSecurity'].replace('No internet service', 'No')\n",
    "df['OnlineBackup'] = df['OnlineSecurity'].replace('No internet service', 'No')\n",
    "df['DeviceProtection'] = df['OnlineSecurity'].replace('No internet service', 'No')\n",
    "df['TechSupport'] = df['OnlineSecurity'].replace('No internet service', 'No')\n",
    "df['StreamingTV'] = df['OnlineSecurity'].replace('No internet service', 'No')\n",
    "df['StreamingMovies'] = df['OnlineSecurity'].replace('No internet service', 'No')"
   ]
  },
  {
   "cell_type": "code",
   "execution_count": 50,
   "id": "3174075b-ab84-426e-81e8-eb2acd68950a",
   "metadata": {},
   "outputs": [],
   "source": [
    "df['TotalCharges'] = df['TotalCharges'].replace(\"'\", \"\").replace('\"','').replace(\" \", \"\").replace('', np.nan).astype('float')"
   ]
  },
  {
   "cell_type": "code",
   "execution_count": 17,
   "id": "d30b7757-294c-40be-9bb5-c0c09d75f896",
   "metadata": {},
   "outputs": [],
   "source": [
    "# df['TotalCharges-isdigit'] = df['TotalCharges'].apply(lambda x: str(int(float(x))).isdigit())"
   ]
  },
  {
   "cell_type": "code",
   "execution_count": 18,
   "id": "33e9f4a5-030d-475c-9886-45f58774715e",
   "metadata": {},
   "outputs": [],
   "source": [
    "# df['TotalCharges-isdigit'].sum()"
   ]
  },
  {
   "cell_type": "code",
   "execution_count": 19,
   "id": "820ae553-c4b2-4fc2-b471-0b610ed7746b",
   "metadata": {},
   "outputs": [],
   "source": [
    "# df[df['TotalCharges-isdigit'] == False].shape[0]"
   ]
  },
  {
   "cell_type": "code",
   "execution_count": 51,
   "id": "6c6ca4e3-459d-4e95-af00-84b9c6e15e34",
   "metadata": {},
   "outputs": [
    {
     "data": {
      "text/plain": [
       "gender              0.000000\n",
       "SeniorCitizen       0.000000\n",
       "Partner             0.000000\n",
       "Dependents          0.000000\n",
       "tenure              0.000000\n",
       "PhoneService        0.000000\n",
       "MultipleLines       0.000000\n",
       "InternetService     0.000000\n",
       "OnlineSecurity      0.000000\n",
       "OnlineBackup        0.000000\n",
       "DeviceProtection    0.000000\n",
       "TechSupport         0.000000\n",
       "StreamingTV         0.000000\n",
       "StreamingMovies     0.000000\n",
       "Contract            0.000000\n",
       "PaperlessBilling    0.000000\n",
       "PaymentMethod       0.000000\n",
       "MonthlyCharges      0.000000\n",
       "TotalCharges        0.001567\n",
       "Churn               0.000000\n",
       "dtype: float64"
      ]
     },
     "execution_count": 51,
     "metadata": {},
     "output_type": "execute_result"
    }
   ],
   "source": [
    "df.isna().sum()/df.shape[0]"
   ]
  },
  {
   "cell_type": "code",
   "execution_count": 52,
   "id": "781005db-15a4-4dc5-9395-97178bdbb657",
   "metadata": {},
   "outputs": [],
   "source": [
    "df.dropna(subset=['TotalCharges'], inplace=True)"
   ]
  },
  {
   "cell_type": "code",
   "execution_count": 22,
   "id": "90055d13-5eaf-46d4-a8bf-6a9b009d7860",
   "metadata": {},
   "outputs": [
    {
     "data": {
      "text/plain": [
       "(7010, 20)"
      ]
     },
     "execution_count": 22,
     "metadata": {},
     "output_type": "execute_result"
    }
   ],
   "source": [
    "df.shape"
   ]
  },
  {
   "cell_type": "markdown",
   "id": "b7889053-1441-4d66-943b-747f23e8e286",
   "metadata": {},
   "source": [
    "## Visualize"
   ]
  },
  {
   "cell_type": "code",
   "execution_count": 54,
   "id": "f8612e75-c04c-4099-ae8a-9652fdf0afce",
   "metadata": {},
   "outputs": [
    {
     "data": {
      "image/png": "[encoded data removed]",
      "text/plain": [
       "<Figure size 1000x600 with 1 Axes>"
      ]
     },
     "metadata": {},
     "output_type": "display_data"
    },
    {
     "data": {
      "image/png": "[encoded data removed]",
      "text/plain": [
       "<Figure size 1000x600 with 1 Axes>"
      ]
     },
     "metadata": {},
     "output_type": "display_data"
    },
    {
     "data": {
      "image/png": "[encoded data removed]",
      "text/plain": [
       "<Figure size 1000x600 with 1 Axes>"
      ]
     },
     "metadata": {},
     "output_type": "display_data"
    },
    {
     "data": {
      "image/png": "[encoded data removed]",
      "text/plain": [
       "<Figure size 1000x600 with 1 Axes>"
      ]
     },
     "metadata": {},
     "output_type": "display_data"
    }
   ],
   "source": [
    "from lifelines import KaplanMeierFitter\n",
    "from sklearn.ensemble import RandomForestClassifier\n",
    "\n",
    "# Convert 'Churn' column to numeric dtype\n",
    "df['Churn'] = df['Churn'].replace({'Yes': 1, 'No': 0}).astype(int)\n",
    "\n",
    "# Churn rate over time\n",
    "df['tenure_months'] = df['tenure']\n",
    "churn_rate_over_time = df.groupby('tenure_months')['Churn'].mean()\n",
    "\n",
    "plt.figure(figsize=(10, 6))\n",
    "sns.lineplot(x=churn_rate_over_time.index, y=churn_rate_over_time.values)\n",
    "plt.title('Churn Rate Over Tenure Months')\n",
    "plt.xlabel('Tenure Months')\n",
    "plt.ylabel('Churn Rate')\n",
    "plt.show()\n",
    "\n",
    "# Customer segmentation\n",
    "plt.figure(figsize=(10, 6))\n",
    "sns.countplot(x='Contract', hue='Churn', data=df)\n",
    "plt.title('Churned Customers by Contract Type')\n",
    "plt.xlabel('Contract Type')\n",
    "plt.ylabel('Count')\n",
    "plt.show()\n",
    "\n",
    "# Survival analysis\n",
    "kmf = KaplanMeierFitter()\n",
    "kmf.fit(durations=df['tenure_months'], event_observed=df['Churn'])\n",
    "\n",
    "plt.figure(figsize=(10, 6))\n",
    "kmf.plot()\n",
    "plt.title('Survival Curve for Churned Customers')\n",
    "plt.xlabel('Tenure Months')\n",
    "plt.ylabel('Survival Probability')\n",
    "plt.show()\n",
    "\n",
    "# Feature importance\n",
    "X = df[['tenure', 'MonthlyCharges', 'TotalCharges']]\n",
    "y = df['Churn']\n",
    "\n",
    "rf = RandomForestClassifier()\n",
    "rf.fit(X, y)\n",
    "\n",
    "feature_importance = pd.Series(rf.feature_importances_, index=X.columns).sort_values(ascending=False)\n",
    "\n",
    "plt.figure(figsize=(10, 6))\n",
    "sns.barplot(x=feature_importance.values, y=feature_importance.index)\n",
    "plt.title('Feature Importance for Churn Prediction')\n",
    "plt.xlabel('Importance')\n",
    "plt.ylabel('Feature')\n",
    "plt.show()"
   ]
  },
  {
   "cell_type": "markdown",
   "id": "0621c535-3d0e-4bf1-ad5b-ca342f754ca7",
   "metadata": {},
   "source": [
    "## Label Encoding"
   ]
  },
  {
   "cell_type": "code",
   "execution_count": 55,
   "id": "e0387f4b-e125-42ef-b82b-3071a6d67bff",
   "metadata": {},
   "outputs": [
    {
     "name": "stdout",
     "output_type": "stream",
     "text": [
      "gender --> ['Female' 'Male']\n",
      "SeniorCitizen --> [0 1]\n",
      "Partner --> ['Yes' 'No']\n",
      "Dependents --> ['No' 'Yes']\n",
      "tenure --> [ 1 34  2 45  8 22 10 28 62 13 16 58 49 25 69 52 71 21 12 30 47 72 17 27\n",
      "  5 46 11 70 63 43 15 60 18 66  9  3 31 50 64 56  7 42 35 48 29 65 38 68\n",
      " 32 55 37 36 41  6  4 33 67 23 57 61 14 20 53 40 59 24 44 19 54 51 26 39]\n",
      "PhoneService --> ['No' 'Yes']\n",
      "MultipleLines --> ['No' 'Yes']\n",
      "InternetService --> ['DSL' 'Fiber optic' 'No']\n",
      "OnlineSecurity --> ['No' 'Yes']\n",
      "OnlineBackup --> ['No' 'Yes']\n",
      "DeviceProtection --> ['No' 'Yes']\n",
      "TechSupport --> ['No' 'Yes']\n",
      "StreamingTV --> ['No' 'Yes']\n",
      "StreamingMovies --> ['No' 'Yes']\n",
      "Contract --> ['Month-to-month' 'One year' 'Two year']\n",
      "PaperlessBilling --> ['Yes' 'No']\n",
      "PaymentMethod --> ['Electronic check' 'Mailed check' 'Bank transfer (automatic)'\n",
      " 'Credit card (automatic)']\n",
      "MonthlyCharges --> [29.85 56.95 53.85 ... 63.1  44.2  78.7 ]\n",
      "TotalCharges --> [  29.85 1889.5   108.15 ...  346.45  306.6  6844.5 ]\n",
      "Churn --> [0 1]\n",
      "tenure_months --> [ 1 34  2 45  8 22 10 28 62 13 16 58 49 25 69 52 71 21 12 30 47 72 17 27\n",
      "  5 46 11 70 63 43 15 60 18 66  9  3 31 50 64 56  7 42 35 48 29 65 38 68\n",
      " 32 55 37 36 41  6  4 33 67 23 57 61 14 20 53 40 59 24 44 19 54 51 26 39]\n"
     ]
    }
   ],
   "source": [
    "for feature in df.columns:\n",
    "    print(f'{feature} --> {df[feature].unique()}')"
   ]
  },
  {
   "cell_type": "code",
   "execution_count": 60,
   "id": "a12a9a7b-6fa6-4b6e-8128-bb0ac956cb3e",
   "metadata": {},
   "outputs": [],
   "source": [
    "df_cat = df.select_dtypes(exclude='number')"
   ]
  },
  {
   "cell_type": "code",
   "execution_count": 61,
   "id": "d812758e-d4ce-4cf1-83ae-ad8fc257cfc0",
   "metadata": {
    "scrolled": true
   },
   "outputs": [],
   "source": [
    "df_num = df.select_dtypes(include='number')"
   ]
  },
  {
   "cell_type": "code",
   "execution_count": 64,
   "id": "31d1af1d-7625-4542-b551-f39510ca8d43",
   "metadata": {},
   "outputs": [
    {
     "ename": "ValueError",
     "evalue": "y should be a 1d array, got an array of shape (7010, 15) instead.",
     "output_type": "error",
     "traceback": [
      "\u001b[0;31m---------------------------------------------------------------------------\u001b[0m",
      "\u001b[0;31mValueError\u001b[0m                                Traceback (most recent call last)",
      "Cell \u001b[0;32mIn[64], line 2\u001b[0m\n\u001b[1;32m      1\u001b[0m encod \u001b[38;5;241m=\u001b[39m LabelEncoder()\n\u001b[0;32m----> 2\u001b[0m \u001b[43mencod\u001b[49m\u001b[38;5;241;43m.\u001b[39;49m\u001b[43mfit_transform\u001b[49m\u001b[43m(\u001b[49m\u001b[43mdf_cat\u001b[49m\u001b[38;5;241;43m.\u001b[39;49m\u001b[43mvalues\u001b[49m\u001b[43m)\u001b[49m\n",
      "File \u001b[0;32m~/miniconda3/lib/python3.11/site-packages/sklearn/utils/_set_output.py:140\u001b[0m, in \u001b[0;36m_wrap_method_output.<locals>.wrapped\u001b[0;34m(self, X, *args, **kwargs)\u001b[0m\n\u001b[1;32m    138\u001b[0m \u001b[38;5;129m@wraps\u001b[39m(f)\n\u001b[1;32m    139\u001b[0m \u001b[38;5;28;01mdef\u001b[39;00m \u001b[38;5;21mwrapped\u001b[39m(\u001b[38;5;28mself\u001b[39m, X, \u001b[38;5;241m*\u001b[39margs, \u001b[38;5;241m*\u001b[39m\u001b[38;5;241m*\u001b[39mkwargs):\n\u001b[0;32m--> 140\u001b[0m     data_to_wrap \u001b[38;5;241m=\u001b[39m \u001b[43mf\u001b[49m\u001b[43m(\u001b[49m\u001b[38;5;28;43mself\u001b[39;49m\u001b[43m,\u001b[49m\u001b[43m \u001b[49m\u001b[43mX\u001b[49m\u001b[43m,\u001b[49m\u001b[43m \u001b[49m\u001b[38;5;241;43m*\u001b[39;49m\u001b[43margs\u001b[49m\u001b[43m,\u001b[49m\u001b[43m \u001b[49m\u001b[38;5;241;43m*\u001b[39;49m\u001b[38;5;241;43m*\u001b[39;49m\u001b[43mkwargs\u001b[49m\u001b[43m)\u001b[49m\n\u001b[1;32m    141\u001b[0m     \u001b[38;5;28;01mif\u001b[39;00m \u001b[38;5;28misinstance\u001b[39m(data_to_wrap, \u001b[38;5;28mtuple\u001b[39m):\n\u001b[1;32m    142\u001b[0m         \u001b[38;5;66;03m# only wrap the first output for cross decomposition\u001b[39;00m\n\u001b[1;32m    143\u001b[0m         return_tuple \u001b[38;5;241m=\u001b[39m (\n\u001b[1;32m    144\u001b[0m             _wrap_data_with_container(method, data_to_wrap[\u001b[38;5;241m0\u001b[39m], X, \u001b[38;5;28mself\u001b[39m),\n\u001b[1;32m    145\u001b[0m             \u001b[38;5;241m*\u001b[39mdata_to_wrap[\u001b[38;5;241m1\u001b[39m:],\n\u001b[1;32m    146\u001b[0m         )\n",
      "File \u001b[0;32m~/miniconda3/lib/python3.11/site-packages/sklearn/preprocessing/_label.py:114\u001b[0m, in \u001b[0;36mLabelEncoder.fit_transform\u001b[0;34m(self, y)\u001b[0m\n\u001b[1;32m    101\u001b[0m \u001b[38;5;28;01mdef\u001b[39;00m \u001b[38;5;21mfit_transform\u001b[39m(\u001b[38;5;28mself\u001b[39m, y):\n\u001b[1;32m    102\u001b[0m \u001b[38;5;250m    \u001b[39m\u001b[38;5;124;03m\"\"\"Fit label encoder and return encoded labels.\u001b[39;00m\n\u001b[1;32m    103\u001b[0m \n\u001b[1;32m    104\u001b[0m \u001b[38;5;124;03m    Parameters\u001b[39;00m\n\u001b[0;32m   (...)\u001b[0m\n\u001b[1;32m    112\u001b[0m \u001b[38;5;124;03m        Encoded labels.\u001b[39;00m\n\u001b[1;32m    113\u001b[0m \u001b[38;5;124;03m    \"\"\"\u001b[39;00m\n\u001b[0;32m--> 114\u001b[0m     y \u001b[38;5;241m=\u001b[39m \u001b[43mcolumn_or_1d\u001b[49m\u001b[43m(\u001b[49m\u001b[43my\u001b[49m\u001b[43m,\u001b[49m\u001b[43m \u001b[49m\u001b[43mwarn\u001b[49m\u001b[38;5;241;43m=\u001b[39;49m\u001b[38;5;28;43;01mTrue\u001b[39;49;00m\u001b[43m)\u001b[49m\n\u001b[1;32m    115\u001b[0m     \u001b[38;5;28mself\u001b[39m\u001b[38;5;241m.\u001b[39mclasses_, y \u001b[38;5;241m=\u001b[39m _unique(y, return_inverse\u001b[38;5;241m=\u001b[39m\u001b[38;5;28;01mTrue\u001b[39;00m)\n\u001b[1;32m    116\u001b[0m     \u001b[38;5;28;01mreturn\u001b[39;00m y\n",
      "File \u001b[0;32m~/miniconda3/lib/python3.11/site-packages/sklearn/utils/validation.py:1245\u001b[0m, in \u001b[0;36mcolumn_or_1d\u001b[0;34m(y, dtype, warn)\u001b[0m\n\u001b[1;32m   1234\u001b[0m         warnings\u001b[38;5;241m.\u001b[39mwarn(\n\u001b[1;32m   1235\u001b[0m             (\n\u001b[1;32m   1236\u001b[0m                 \u001b[38;5;124m\"\u001b[39m\u001b[38;5;124mA column-vector y was passed when a 1d array was\u001b[39m\u001b[38;5;124m\"\u001b[39m\n\u001b[0;32m   (...)\u001b[0m\n\u001b[1;32m   1241\u001b[0m             stacklevel\u001b[38;5;241m=\u001b[39m\u001b[38;5;241m2\u001b[39m,\n\u001b[1;32m   1242\u001b[0m         )\n\u001b[1;32m   1243\u001b[0m     \u001b[38;5;28;01mreturn\u001b[39;00m _asarray_with_order(xp\u001b[38;5;241m.\u001b[39mreshape(y, (\u001b[38;5;241m-\u001b[39m\u001b[38;5;241m1\u001b[39m,)), order\u001b[38;5;241m=\u001b[39m\u001b[38;5;124m\"\u001b[39m\u001b[38;5;124mC\u001b[39m\u001b[38;5;124m\"\u001b[39m, xp\u001b[38;5;241m=\u001b[39mxp)\n\u001b[0;32m-> 1245\u001b[0m \u001b[38;5;28;01mraise\u001b[39;00m \u001b[38;5;167;01mValueError\u001b[39;00m(\n\u001b[1;32m   1246\u001b[0m     \u001b[38;5;124m\"\u001b[39m\u001b[38;5;124my should be a 1d array, got an array of shape \u001b[39m\u001b[38;5;132;01m{}\u001b[39;00m\u001b[38;5;124m instead.\u001b[39m\u001b[38;5;124m\"\u001b[39m\u001b[38;5;241m.\u001b[39mformat(shape)\n\u001b[1;32m   1247\u001b[0m )\n",
      "\u001b[0;31mValueError\u001b[0m: y should be a 1d array, got an array of shape (7010, 15) instead."
     ]
    }
   ],
   "source": [
    "encod = LabelEncoder()\n",
    "encod.fit_transform(df_cat.values)"
   ]
  },
  {
   "cell_type": "code",
   "execution_count": null,
   "id": "60899025-e720-453e-8900-76ce4704bd5e",
   "metadata": {},
   "outputs": [],
   "source": []
  },
  {
   "cell_type": "code",
   "execution_count": null,
   "id": "aeaef0d6-32c2-4dc5-b113-8ce1c0143e2e",
   "metadata": {},
   "outputs": [],
   "source": []
  },
  {
   "cell_type": "code",
   "execution_count": null,
   "id": "a3d44dac-0ce9-46c5-9def-b4a6e3022ece",
   "metadata": {},
   "outputs": [],
   "source": [
    "plt.figure(figsize=(16, 10))\n",
    "sns.heatmap(df.corr(), cmap='coolwarm', annot=True)"
   ]
  },
  {
   "cell_type": "code",
   "execution_count": null,
   "id": "41d059c7-bb21-4a78-8bc2-74a650d453cc",
   "metadata": {},
   "outputs": [],
   "source": [
    "from lifelines import KaplanMeierFitter\n",
    "from sklearn.ensemble import RandomForestClassifier\n",
    "\n",
    "# Convert 'Churn' column to numeric dtype\n",
    "df['Churn'] = df['Churn'].replace({'Yes': 1, 'No': 0}).astype(int)\n",
    "\n",
    "# Churn rate over time\n",
    "df['tenure_months'] = df['tenure']\n",
    "churn_rate_over_time = df.groupby('tenure_months')['Churn'].mean()\n",
    "\n",
    "plt.figure(figsize=(10, 6))\n",
    "sns.lineplot(x=churn_rate_over_time.index, y=churn_rate_over_time.values)\n",
    "plt.title('Churn Rate Over Tenure Months')\n",
    "plt.xlabel('Tenure Months')\n",
    "plt.ylabel('Churn Rate')\n",
    "plt.show()\n",
    "\n",
    "# Customer segmentation\n",
    "plt.figure(figsize=(10, 6))\n",
    "sns.countplot(x='Contract', hue='Churn', data=df)\n",
    "plt.title('Churned Customers by Contract Type')\n",
    "plt.xlabel('Contract Type')\n",
    "plt.ylabel('Count')\n",
    "plt.show()\n",
    "\n",
    "# Survival analysis\n",
    "kmf = KaplanMeierFitter()\n",
    "kmf.fit(durations=df['tenure_months'], event_observed=df['Churn'])\n",
    "\n",
    "plt.figure(figsize=(10, 6))\n",
    "kmf.plot()\n",
    "plt.title('Survival Curve for Churned Customers')\n",
    "plt.xlabel('Tenure Months')\n",
    "plt.ylabel('Survival Probability')\n",
    "plt.show()\n",
    "\n",
    "# Feature importance\n",
    "X = df[['tenure', 'MonthlyCharges', 'TotalCharges', 'InternetService_Fiber optic', 'PaymentMethod_Electronic check']]\n",
    "y = df['Churn']\n",
    "\n",
    "rf = RandomForestClassifier()\n",
    "rf.fit(X, y)\n",
    "\n",
    "feature_importance = pd.Series(rf.feature_importances_, index=X.columns).sort_values(ascending=False)\n",
    "\n",
    "plt.figure(figsize=(10, 6))\n",
    "sns.barplot(x=feature_importance.values, y=feature_importance.index)\n",
    "plt.title('Feature Importance for Churn Prediction')\n",
    "plt.xlabel('Importance')\n",
    "plt.ylabel('Feature')\n",
    "plt.show()"
   ]
  },
  {
   "cell_type": "markdown",
   "id": "84b17f95-e1c9-4472-90c3-531368354632",
   "metadata": {},
   "source": [
    "## Visualization"
   ]
  },
  {
   "cell_type": "code",
   "execution_count": null,
   "id": "394b77bd-c65d-425a-a09b-3c110b938964",
   "metadata": {},
   "outputs": [],
   "source": [
    "cat_columns = df.select_dtypes('category')"
   ]
  },
  {
   "cell_type": "code",
   "execution_count": null,
   "id": "f9e48887-8c5a-4e64-9fd6-45bd2ff5e838",
   "metadata": {},
   "outputs": [],
   "source": []
  },
  {
   "cell_type": "code",
   "execution_count": null,
   "id": "524f06d1-a8fb-4125-af82-b8b7ebd5edfe",
   "metadata": {},
   "outputs": [],
   "source": [
    "df_dummies "
   ]
  },
  {
   "cell_type": "code",
   "execution_count": null,
   "id": "308e55f9-c086-4613-b58b-7dcf9f2c08a4",
   "metadata": {},
   "outputs": [],
   "source": []
  }
 ],
 "metadata": {
  "kernelspec": {
   "display_name": "Python 3 (ipykernel)",
   "language": "python",
   "name": "python3"
  },
  "language_info": {
   "codemirror_mode": {
    "name": "ipython",
    "version": 3
   },
   "file_extension": ".py",
   "mimetype": "text/x-python",
   "name": "python",
   "nbconvert_exporter": "python",
   "pygments_lexer": "ipython3",
   "version": "3.11.4"
  }
 },
 "nbformat": 4,
 "nbformat_minor": 5
}
