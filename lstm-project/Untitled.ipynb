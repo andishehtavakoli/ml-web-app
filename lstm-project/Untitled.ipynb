{
 "cells": [
  {
   "cell_type": "markdown",
   "id": "c4ab8518-8a85-45c9-938f-012634fbfa86",
   "metadata": {},
   "source": [
    "<div>\n",
    "    <img src=\"https://media.datakeen.co/wp-content/uploads/2022/11/28141154/Datakeen-Classification-texte.png\" alt=\"Nobel Prize\" width=\"250\" align=\"left\" hspace=\"10\">\n",
    "    <h1>Digikala Comments Classification</h1>\n",
    "</div>\n",
    "\n",
    "\n",
    "Objective: Develop a model to classify Digikala user comments by intent (e.g., product quality, pricin).\n",
    "\n",
    "Approach: Use machine learning for multi-class classification, focusing on precision."
   ]
  },
  {
   "cell_type": "code",
   "execution_count": 42,
   "id": "1db92c93-ee6d-46e0-9a45-3a73fbdee9ad",
   "metadata": {},
   "outputs": [],
   "source": [
    "#!pip install hazm\n",
    "# !pip install tensorflow-gpu==2.0.0\n",
    "# !pip install tensorflow"
   ]
  },
  {
   "cell_type": "markdown",
   "id": "5a722185-0714-4ba6-82c2-193d8fce5027",
   "metadata": {},
   "source": [
    "## Import necessary libraries"
   ]
  },
  {
   "cell_type": "code",
   "execution_count": 43,
   "id": "8875b567-15b0-4cef-9952-e17c28cdeca5",
   "metadata": {},
   "outputs": [],
   "source": [
    "import pandas as pd\n",
    "import numpy as np\n",
    "\n",
    "import seaborn as sns\n",
    "import matplotlib.pyplot\n",
    "from hazm import *\n",
    "\n",
    "import warnings\n",
    "warnings.filterwarnings('ignore')\n"
   ]
  },
  {
   "cell_type": "markdown",
   "id": "1d81cd16-9d27-4f02-a9eb-e1342322cd31",
   "metadata": {},
   "source": [
    "## Read Data"
   ]
  },
  {
   "cell_type": "code",
   "execution_count": 44,
   "id": "300a87a7-cfb7-4123-848a-2946a647c4b6",
   "metadata": {},
   "outputs": [],
   "source": [
    "df = pd.read_csv('data_train.csv', encoding=\"utf-8\")"
   ]
  },
  {
   "cell_type": "markdown",
   "id": "a934f16a-781c-4f81-88df-8b31c24a72bf",
   "metadata": {},
   "source": [
    "## Overview data"
   ]
  },
  {
   "cell_type": "code",
   "execution_count": 45,
   "id": "9dc5146e-913d-47b8-afc5-ea7f76f0195c",
   "metadata": {},
   "outputs": [
    {
     "data": {
      "text/html": [
       "<div>\n",
       "<style scoped>\n",
       "    .dataframe tbody tr th:only-of-type {\n",
       "        vertical-align: middle;\n",
       "    }\n",
       "\n",
       "    .dataframe tbody tr th {\n",
       "        vertical-align: top;\n",
       "    }\n",
       "\n",
       "    .dataframe thead th {\n",
       "        text-align: right;\n",
       "    }\n",
       "</style>\n",
       "<table border=\"1\" class=\"dataframe\">\n",
       "  <thead>\n",
       "    <tr style=\"text-align: right;\">\n",
       "      <th></th>\n",
       "      <th>id</th>\n",
       "      <th>comment</th>\n",
       "      <th>intent</th>\n",
       "    </tr>\n",
       "  </thead>\n",
       "  <tbody>\n",
       "    <tr>\n",
       "      <th>0</th>\n",
       "      <td>14311999</td>\n",
       "      <td>خوب وخوش طعم بود</td>\n",
       "      <td>1,5</td>\n",
       "    </tr>\n",
       "    <tr>\n",
       "      <th>1</th>\n",
       "      <td>14312094</td>\n",
       "      <td>واقعا دست مریزاد هراز جان هم زده پروبیوتیک و خ...</td>\n",
       "      <td>1,5</td>\n",
       "    </tr>\n",
       "    <tr>\n",
       "      <th>2</th>\n",
       "      <td>14312102</td>\n",
       "      <td>هنوز استفاده نکردم ولی عطر خوبی داره بسته بندی...</td>\n",
       "      <td>1,5</td>\n",
       "    </tr>\n",
       "  </tbody>\n",
       "</table>\n",
       "</div>"
      ],
      "text/plain": [
       "         id                                            comment intent\n",
       "0  14311999                                   خوب وخوش طعم بود    1,5\n",
       "1  14312094  واقعا دست مریزاد هراز جان هم زده پروبیوتیک و خ...    1,5\n",
       "2  14312102  هنوز استفاده نکردم ولی عطر خوبی داره بسته بندی...    1,5"
      ]
     },
     "execution_count": 45,
     "metadata": {},
     "output_type": "execute_result"
    }
   ],
   "source": [
    "df.head(3)"
   ]
  },
  {
   "cell_type": "code",
   "execution_count": 46,
   "id": "9f5ab73d-1b8e-4cc3-acbd-41321c917fa3",
   "metadata": {},
   "outputs": [
    {
     "data": {
      "text/html": [
       "<div>\n",
       "<style scoped>\n",
       "    .dataframe tbody tr th:only-of-type {\n",
       "        vertical-align: middle;\n",
       "    }\n",
       "\n",
       "    .dataframe tbody tr th {\n",
       "        vertical-align: top;\n",
       "    }\n",
       "\n",
       "    .dataframe thead th {\n",
       "        text-align: right;\n",
       "    }\n",
       "</style>\n",
       "<table border=\"1\" class=\"dataframe\">\n",
       "  <thead>\n",
       "    <tr style=\"text-align: right;\">\n",
       "      <th></th>\n",
       "      <th>id</th>\n",
       "      <th>comment</th>\n",
       "      <th>intent</th>\n",
       "    </tr>\n",
       "  </thead>\n",
       "  <tbody>\n",
       "    <tr>\n",
       "      <th>89997</th>\n",
       "      <td>15336949</td>\n",
       "      <td>خوب و معمولی است.</td>\n",
       "      <td>1</td>\n",
       "    </tr>\n",
       "    <tr>\n",
       "      <th>89998</th>\n",
       "      <td>15336950</td>\n",
       "      <td>بد نیست</td>\n",
       "      <td>1</td>\n",
       "    </tr>\n",
       "    <tr>\n",
       "      <th>89999</th>\n",
       "      <td>15336955</td>\n",
       "      <td>نسبتا خوب</td>\n",
       "      <td>1</td>\n",
       "    </tr>\n",
       "  </tbody>\n",
       "</table>\n",
       "</div>"
      ],
      "text/plain": [
       "             id            comment intent\n",
       "89997  15336949  خوب و معمولی است.      1\n",
       "89998  15336950            بد نیست      1\n",
       "89999  15336955          نسبتا خوب      1"
      ]
     },
     "execution_count": 46,
     "metadata": {},
     "output_type": "execute_result"
    }
   ],
   "source": [
    "df.tail(3)"
   ]
  },
  {
   "cell_type": "code",
   "execution_count": 47,
   "id": "6c3e1ae5-bd7a-4cf8-ad5b-98cba0d7b9ce",
   "metadata": {},
   "outputs": [
    {
     "name": "stdout",
     "output_type": "stream",
     "text": [
      "<class 'pandas.core.frame.DataFrame'>\n",
      "RangeIndex: 90000 entries, 0 to 89999\n",
      "Data columns (total 3 columns):\n",
      " #   Column   Non-Null Count  Dtype \n",
      "---  ------   --------------  ----- \n",
      " 0   id       90000 non-null  int64 \n",
      " 1   comment  90000 non-null  object\n",
      " 2   intent   90000 non-null  object\n",
      "dtypes: int64(1), object(2)\n",
      "memory usage: 2.1+ MB\n"
     ]
    }
   ],
   "source": [
    "df.info()"
   ]
  },
  {
   "cell_type": "code",
   "execution_count": 48,
   "id": "7d61d7a1-997a-4be8-a00b-64b1768d9088",
   "metadata": {},
   "outputs": [
    {
     "data": {
      "text/plain": [
       "id         0\n",
       "comment    0\n",
       "intent     0\n",
       "dtype: int64"
      ]
     },
     "execution_count": 48,
     "metadata": {},
     "output_type": "execute_result"
    }
   ],
   "source": [
    "df.isna().sum()"
   ]
  },
  {
   "cell_type": "code",
   "execution_count": 49,
   "id": "b6d56adb-88c7-49c3-855b-631d9c00c1f2",
   "metadata": {},
   "outputs": [
    {
     "data": {
      "text/plain": [
       "1"
      ]
     },
     "execution_count": 49,
     "metadata": {},
     "output_type": "execute_result"
    }
   ],
   "source": [
    "df.duplicated().sum()"
   ]
  },
  {
   "cell_type": "code",
   "execution_count": 50,
   "id": "1c019622-3d65-45a8-a875-cbaecbe8ac35",
   "metadata": {},
   "outputs": [
    {
     "data": {
      "text/html": [
       "<div>\n",
       "<style scoped>\n",
       "    .dataframe tbody tr th:only-of-type {\n",
       "        vertical-align: middle;\n",
       "    }\n",
       "\n",
       "    .dataframe tbody tr th {\n",
       "        vertical-align: top;\n",
       "    }\n",
       "\n",
       "    .dataframe thead th {\n",
       "        text-align: right;\n",
       "    }\n",
       "</style>\n",
       "<table border=\"1\" class=\"dataframe\">\n",
       "  <thead>\n",
       "    <tr style=\"text-align: right;\">\n",
       "      <th></th>\n",
       "      <th>id</th>\n",
       "      <th>comment</th>\n",
       "      <th>intent</th>\n",
       "    </tr>\n",
       "  </thead>\n",
       "  <tbody>\n",
       "    <tr>\n",
       "      <th>49189</th>\n",
       "      <td>14000000</td>\n",
       "      <td>بوی خوب و غلظت مناسب</td>\n",
       "      <td>5</td>\n",
       "    </tr>\n",
       "  </tbody>\n",
       "</table>\n",
       "</div>"
      ],
      "text/plain": [
       "             id               comment intent\n",
       "49189  14000000  بوی خوب و غلظت مناسب      5"
      ]
     },
     "execution_count": 50,
     "metadata": {},
     "output_type": "execute_result"
    }
   ],
   "source": [
    "df[df.duplicated]"
   ]
  },
  {
   "cell_type": "code",
   "execution_count": 51,
   "id": "fc9f59cc-99ea-4052-bdd8-d88838014ffe",
   "metadata": {},
   "outputs": [
    {
     "data": {
      "text/html": [
       "<div>\n",
       "<style scoped>\n",
       "    .dataframe tbody tr th:only-of-type {\n",
       "        vertical-align: middle;\n",
       "    }\n",
       "\n",
       "    .dataframe tbody tr th {\n",
       "        vertical-align: top;\n",
       "    }\n",
       "\n",
       "    .dataframe thead th {\n",
       "        text-align: right;\n",
       "    }\n",
       "</style>\n",
       "<table border=\"1\" class=\"dataframe\">\n",
       "  <thead>\n",
       "    <tr style=\"text-align: right;\">\n",
       "      <th></th>\n",
       "      <th>id</th>\n",
       "      <th>comment</th>\n",
       "      <th>intent</th>\n",
       "    </tr>\n",
       "  </thead>\n",
       "  <tbody>\n",
       "    <tr>\n",
       "      <th>44545</th>\n",
       "      <td>14000000</td>\n",
       "      <td>بوی خوب و غلظت مناسب</td>\n",
       "      <td>5</td>\n",
       "    </tr>\n",
       "    <tr>\n",
       "      <th>49189</th>\n",
       "      <td>14000000</td>\n",
       "      <td>بوی خوب و غلظت مناسب</td>\n",
       "      <td>5</td>\n",
       "    </tr>\n",
       "  </tbody>\n",
       "</table>\n",
       "</div>"
      ],
      "text/plain": [
       "             id               comment intent\n",
       "44545  14000000  بوی خوب و غلظت مناسب      5\n",
       "49189  14000000  بوی خوب و غلظت مناسب      5"
      ]
     },
     "execution_count": 51,
     "metadata": {},
     "output_type": "execute_result"
    }
   ],
   "source": [
    "df[df.id == 14000000]"
   ]
  },
  {
   "cell_type": "code",
   "execution_count": 52,
   "id": "3da79ef5-0fb0-48e2-a042-4064fa7d2a0f",
   "metadata": {},
   "outputs": [],
   "source": [
    "df = df.drop_duplicates(ignore_index=True).reset_index(drop=True)"
   ]
  },
  {
   "cell_type": "markdown",
   "id": "992a22a4-0aee-4727-a7c9-171b6cd04440",
   "metadata": {},
   "source": [
    "## EDA"
   ]
  },
  {
   "cell_type": "code",
   "execution_count": 53,
   "id": "e77055f6-43f8-49a9-b781-bb4d7838edc7",
   "metadata": {},
   "outputs": [
    {
     "data": {
      "text/plain": [
       "<Axes: xlabel='intent'>"
      ]
     },
     "execution_count": 53,
     "metadata": {},
     "output_type": "execute_result"
    },
    {
     "data": {
      "image/png": "[encoded data removed]",
      "text/plain": [
       "<Figure size 640x480 with 1 Axes>"
      ]
     },
     "metadata": {},
     "output_type": "display_data"
    }
   ],
   "source": [
    "sns.barplot(x=df['intent'].value_counts().index, y=df['intent'].value_counts().values)"
   ]
  },
  {
   "cell_type": "code",
   "execution_count": 54,
   "id": "e11cb88d-38d5-428a-8353-e8075b11a81d",
   "metadata": {},
   "outputs": [
    {
     "data": {
      "text/plain": [
       "intent\n",
       "1,5    10000\n",
       "1,4    10000\n",
       "1,3    10000\n",
       "1,2    10000\n",
       "4      10000\n",
       "3      10000\n",
       "2      10000\n",
       "1      10000\n",
       "5       9999\n",
       "Name: count, dtype: int64"
      ]
     },
     "execution_count": 54,
     "metadata": {},
     "output_type": "execute_result"
    }
   ],
   "source": [
    "df['intent'].value_counts()"
   ]
  },
  {
   "cell_type": "markdown",
   "id": "62e13f6c-205e-4c93-9e17-337b43e1f3f2",
   "metadata": {},
   "source": [
    "## Text preprocessing"
   ]
  },
  {
   "cell_type": "code",
   "execution_count": 55,
   "id": "a01ccfa5-dce3-4b60-a4b5-4718a7aade8a",
   "metadata": {},
   "outputs": [],
   "source": [
    "import re\n",
    "normalizer = Normalizer()\n",
    "lemmatizer = Lemmatizer()\n",
    "stemmer = Stemmer()\n",
    "# turn a doc into clean tokens\n",
    "def clean_data(doc):\n",
    "    doc = normalizer.normalize(doc) # Normalize document using Hazm Normalizer\n",
    "    tokenized = word_tokenize(doc)  # Tokenize text\n",
    "    # ['یه', 'ساله', 'خریدم', 'خیلی', 'ضعیف', 'است', 'بازی', 'هم', 'که', 'چی', 'بگم', 'هیچ', 'کدوم', 'رو', 'باز', 'نمیکنه']\n",
    "    tokens = []\n",
    "    for token in tokenized:\n",
    "      token = re.sub(\"[،:.,;()/+]\", \" \", token) \n",
    "      token = re.sub(r\"\\!+\",\"!\", token)\n",
    "      token = re.sub(r\"\\؟+\",\"؟\", token)\n",
    "      token = re.sub(r\"\\u200c\", \" \", token)\n",
    "      tokens.append(token)\n",
    "\n",
    "    tokens = [w for w in tokens if not len(w) <= 1] # single character removal \n",
    "    tokens = [w for w in tokens if not w.isdigit()] # digit remove\n",
    "    tokens = [lemmatizer.lemmatize(w) for w in tokens] # Lemmatize sentence words using Hazm Lemmatizer\n",
    "    tokens = [stemmer.stem(w) for w in tokens] \n",
    "    tokens = ' '.join(tokens)\n",
    "    return tokens"
   ]
  },
  {
   "cell_type": "code",
   "execution_count": 56,
   "id": "94564da0-27c9-4cab-bff8-b845d390c788",
   "metadata": {},
   "outputs": [],
   "source": [
    "df[\"clean_comment\"] = df[\"comment\"].apply(clean_data)"
   ]
  },
  {
   "cell_type": "code",
   "execution_count": 57,
   "id": "b7c7bd68-3faa-42d0-a627-eee15b5278c4",
   "metadata": {
    "scrolled": true
   },
   "outputs": [
    {
     "data": {
      "text/html": [
       "<div>\n",
       "<style scoped>\n",
       "    .dataframe tbody tr th:only-of-type {\n",
       "        vertical-align: middle;\n",
       "    }\n",
       "\n",
       "    .dataframe tbody tr th {\n",
       "        vertical-align: top;\n",
       "    }\n",
       "\n",
       "    .dataframe thead th {\n",
       "        text-align: right;\n",
       "    }\n",
       "</style>\n",
       "<table border=\"1\" class=\"dataframe\">\n",
       "  <thead>\n",
       "    <tr style=\"text-align: right;\">\n",
       "      <th></th>\n",
       "      <th>id</th>\n",
       "      <th>comment</th>\n",
       "      <th>intent</th>\n",
       "      <th>clean_comment</th>\n",
       "    </tr>\n",
       "  </thead>\n",
       "  <tbody>\n",
       "    <tr>\n",
       "      <th>0</th>\n",
       "      <td>14311999</td>\n",
       "      <td>خوب وخوش طعم بود</td>\n",
       "      <td>1,5</td>\n",
       "      <td>خوب وخو طع بود#اس</td>\n",
       "    </tr>\n",
       "    <tr>\n",
       "      <th>1</th>\n",
       "      <td>14312094</td>\n",
       "      <td>واقعا دست مریزاد هراز جان هم زده پروبیوتیک و خ...</td>\n",
       "      <td>1,5</td>\n",
       "      <td>واقعا دست مریزاد هراز ج ه زده پروبیوتیک خوشمزه...</td>\n",
       "    </tr>\n",
       "    <tr>\n",
       "      <th>2</th>\n",
       "      <td>14312102</td>\n",
       "      <td>هنوز استفاده نکردم ولی عطر خوبی داره بسته بندی...</td>\n",
       "      <td>1,5</td>\n",
       "      <td>هنوز استفاده کرد#کن ول عطر خوب داره بسته بست#ب...</td>\n",
       "    </tr>\n",
       "    <tr>\n",
       "      <th>3</th>\n",
       "      <td>14312205</td>\n",
       "      <td>ماندگاری خیلی خوبی داره اما بوی خوشایندی نداره</td>\n",
       "      <td>1,5</td>\n",
       "      <td>ماندگار خیل خوب داره اما بو خوشایند نداره</td>\n",
       "    </tr>\n",
       "    <tr>\n",
       "      <th>4</th>\n",
       "      <td>14312224</td>\n",
       "      <td>من خیلی وقته از رول ضد تعریق شون استفاده میکنم...</td>\n",
       "      <td>1,5</td>\n",
       "      <td>من خیل وقته از رول ضد تعریق شون استفاده می کن ...</td>\n",
       "    </tr>\n",
       "  </tbody>\n",
       "</table>\n",
       "</div>"
      ],
      "text/plain": [
       "         id                                            comment intent  \\\n",
       "0  14311999                                   خوب وخوش طعم بود    1,5   \n",
       "1  14312094  واقعا دست مریزاد هراز جان هم زده پروبیوتیک و خ...    1,5   \n",
       "2  14312102  هنوز استفاده نکردم ولی عطر خوبی داره بسته بندی...    1,5   \n",
       "3  14312205     ماندگاری خیلی خوبی داره اما بوی خوشایندی نداره    1,5   \n",
       "4  14312224  من خیلی وقته از رول ضد تعریق شون استفاده میکنم...    1,5   \n",
       "\n",
       "                                       clean_comment  \n",
       "0                                  خوب وخو طع بود#اس  \n",
       "1  واقعا دست مریزاد هراز ج ه زده پروبیوتیک خوشمزه...  \n",
       "2  هنوز استفاده کرد#کن ول عطر خوب داره بسته بست#ب...  \n",
       "3          ماندگار خیل خوب داره اما بو خوشایند نداره  \n",
       "4  من خیل وقته از رول ضد تعریق شون استفاده می کن ...  "
      ]
     },
     "execution_count": 57,
     "metadata": {},
     "output_type": "execute_result"
    }
   ],
   "source": [
    "df.head()"
   ]
  },
  {
   "cell_type": "markdown",
   "id": "404d0fbb-fc69-45ca-891a-e79562fb220a",
   "metadata": {},
   "source": [
    "## Machine leraning"
   ]
  },
  {
   "cell_type": "code",
   "execution_count": 58,
   "id": "94dc5f35-cb22-4d32-ac06-82401fee0163",
   "metadata": {},
   "outputs": [],
   "source": [
    "from sklearn.model_selection import train_test_split "
   ]
  },
  {
   "cell_type": "code",
   "execution_count": 59,
   "id": "1f300aec-432d-4c9e-a11b-e2500b4f9180",
   "metadata": {},
   "outputs": [],
   "source": [
    "X = df['clean_comment']\n",
    "y = df['intent']"
   ]
  },
  {
   "cell_type": "code",
   "execution_count": 60,
   "id": "2ae6996d-5df8-42eb-836d-8fa69b96e21f",
   "metadata": {},
   "outputs": [
    {
     "name": "stdout",
     "output_type": "stream",
     "text": [
      "(67499,) (22500,) (67499,) (22500,)\n"
     ]
    }
   ],
   "source": [
    "X_train, X_test, y_train, y_test = train_test_split(X, y, random_state=42, test_size=0.25, stratify=y)\n",
    "print(X_train.shape, X_test.shape, y_train.shape, y_test.shape)"
   ]
  },
  {
   "cell_type": "code",
   "execution_count": 76,
   "id": "91354683-f005-43c6-9f85-a88e1a2cc98a",
   "metadata": {},
   "outputs": [],
   "source": [
    "from sklearn.pipeline import Pipeline\n",
    "from sklearn.linear_model import LogisticRegression\n",
    "from sklearn.svm import LinearSVC\n",
    "from sklearn.naive_bayes import MultinomialNB\n",
    "from sklearn.feature_extraction.text import TfidfVectorizer, CountVectorizer, TfidfTransformer\n",
    "from sklearn.metrics import accuracy_score, precision_score, recall_score, confusion_matrix, classification_report,f1_score"
   ]
  },
  {
   "cell_type": "code",
   "execution_count": 81,
   "id": "0dd80fc5-85ba-488b-8904-770625b57e15",
   "metadata": {},
   "outputs": [],
   "source": [
    "models = {\n",
    "    'logisticregression': LogisticRegression(),\n",
    "    'linear svm': LinearSVC(),\n",
    "    'naive bayes': MultinomialNB()\n",
    "}"
   ]
  },
  {
   "cell_type": "code",
   "execution_count": 88,
   "id": "dadf8edb-a070-423f-93b4-f48ad5737877",
   "metadata": {},
   "outputs": [
    {
     "name": "stdout",
     "output_type": "stream",
     "text": [
      "LogisticRegression()\n",
      "LinearSVC()\n",
      "MultinomialNB()\n"
     ]
    }
   ],
   "source": [
    "for key,value in models.items():\n",
    "    print(value)"
   ]
  },
  {
   "cell_type": "code",
   "execution_count": 91,
   "id": "82693877-2652-42be-b2ad-f6db6aa73f6a",
   "metadata": {},
   "outputs": [],
   "source": [
    "def model_prediction(X_train, X_test, y_train, y_test):\n",
    "\n",
    "    for key,value in models.items():\n",
    "        pipeline = Pipeline(\n",
    "            [\n",
    "                ('vectorize', CountVectorizer())\n",
    "                ('transformer', TfidfTransformer()), \n",
    "                ('model', value)\n",
    "            ]\n",
    "        )\n",
    "        \n",
    "        pipeline.fit(X_train, y_train)\n",
    "        pred = pipeline.predict(X_test)\n",
    "        print(f'model : {value}')\n",
    "        print('accuracy score', accuracy_score(y_test, pred))\n",
    "        print(classification_report(y_test, pred))\n",
    "        print('confusion matrix', confusion_matrix(y_test, pred))"
   ]
  },
  {
   "cell_type": "code",
   "execution_count": 92,
   "id": "459fcafd-3883-4c5e-95be-a007f23091d0",
   "metadata": {},
   "outputs": [
    {
     "ename": "TypeError",
     "evalue": "'tuple' object is not callable",
     "output_type": "error",
     "traceback": [
      "\u001b[0;31m---------------------------------------------------------------------------\u001b[0m",
      "\u001b[0;31mTypeError\u001b[0m                                 Traceback (most recent call last)",
      "Cell \u001b[0;32mIn[92], line 1\u001b[0m\n\u001b[0;32m----> 1\u001b[0m \u001b[43mmodel_prediction\u001b[49m\u001b[43m(\u001b[49m\u001b[43mX_train\u001b[49m\u001b[43m,\u001b[49m\u001b[43m \u001b[49m\u001b[43mX_test\u001b[49m\u001b[43m,\u001b[49m\u001b[43m \u001b[49m\u001b[43my_train\u001b[49m\u001b[43m,\u001b[49m\u001b[43m \u001b[49m\u001b[43my_test\u001b[49m\u001b[43m)\u001b[49m\n",
      "Cell \u001b[0;32mIn[91], line 6\u001b[0m, in \u001b[0;36mmodel_prediction\u001b[0;34m(X_train, X_test, y_train, y_test)\u001b[0m\n\u001b[1;32m      1\u001b[0m \u001b[38;5;28;01mdef\u001b[39;00m \u001b[38;5;21mmodel_prediction\u001b[39m(X_train, X_test, y_train, y_test):\n\u001b[1;32m      3\u001b[0m     \u001b[38;5;28;01mfor\u001b[39;00m key,value \u001b[38;5;129;01min\u001b[39;00m models\u001b[38;5;241m.\u001b[39mitems():\n\u001b[1;32m      4\u001b[0m         pipeline \u001b[38;5;241m=\u001b[39m Pipeline(\n\u001b[1;32m      5\u001b[0m             [\n\u001b[0;32m----> 6\u001b[0m                 \u001b[43m(\u001b[49m\u001b[38;5;124;43m'\u001b[39;49m\u001b[38;5;124;43mvectorize\u001b[39;49m\u001b[38;5;124;43m'\u001b[39;49m\u001b[43m,\u001b[49m\u001b[43m \u001b[49m\u001b[43mCountVectorizer\u001b[49m\u001b[43m(\u001b[49m\u001b[43m)\u001b[49m\u001b[43m)\u001b[49m\n\u001b[1;32m      7\u001b[0m \u001b[43m                \u001b[49m\u001b[43m(\u001b[49m\u001b[38;5;124;43m'\u001b[39;49m\u001b[38;5;124;43mtransformer\u001b[39;49m\u001b[38;5;124;43m'\u001b[39;49m\u001b[43m,\u001b[49m\u001b[43m \u001b[49m\u001b[43mTfidfTransformer\u001b[49m\u001b[43m(\u001b[49m\u001b[43m)\u001b[49m\u001b[43m)\u001b[49m, \n\u001b[1;32m      8\u001b[0m                 (\u001b[38;5;124m'\u001b[39m\u001b[38;5;124mmodel\u001b[39m\u001b[38;5;124m'\u001b[39m, value)\n\u001b[1;32m      9\u001b[0m             ]\n\u001b[1;32m     10\u001b[0m         )\n\u001b[1;32m     12\u001b[0m         pipeline\u001b[38;5;241m.\u001b[39mfit(X_train, y_train)\n\u001b[1;32m     13\u001b[0m         pred \u001b[38;5;241m=\u001b[39m pipeline\u001b[38;5;241m.\u001b[39mpredict(X_test)\n",
      "\u001b[0;31mTypeError\u001b[0m: 'tuple' object is not callable"
     ]
    }
   ],
   "source": [
    "model_prediction(X_train, X_test, y_train, y_test)"
   ]
  },
  {
   "cell_type": "markdown",
   "id": "30810eac-459c-4f8a-86b0-83b632bec6d9",
   "metadata": {},
   "source": [
    "## Deep Learning"
   ]
  },
  {
   "cell_type": "code",
   "execution_count": null,
   "id": "37bec0a7-6f51-4b06-af31-e353f1e3c4e5",
   "metadata": {},
   "outputs": [],
   "source": [
    "from tensorflow.keras import optimizers\n",
    "from tensorflow.keras.models import Model, Sequential\n",
    "from tensorflow.keras.layers import Dense, Input, Embedding, Dropout, GlobalMaxPool1D\n",
    "from tensorflow.keras.layers import LSTM, Bidirectional\n",
    "from tensorflow.keras.utils import to_categorical\n",
    "from tensorflow.keras.preprocessing.text import Tokenizer\n",
    "from tensorflow.keras.preprocessing.sequence import pad_sequences"
   ]
  },
  {
   "cell_type": "code",
   "execution_count": 101,
   "id": "dc3385a8-d1e6-4530-aa38-fa2c87357788",
   "metadata": {
    "jupyter": {
     "source_hidden": true
    }
   },
   "outputs": [],
   "source": [
    "df['intent'] = df['intent'].str.replace('1,2', '6').replace('1,3', '7').replace('1,4', '8').replace('1,5', '9').astype('int')"
   ]
  },
  {
   "cell_type": "code",
   "execution_count": 107,
   "id": "d74a84d4-4ed9-40d4-a4df-865489421c90",
   "metadata": {},
   "outputs": [
    {
     "data": {
      "text/plain": [
       "array([1, 2, 3, 4, 5, 6, 7, 8, 9])"
      ]
     },
     "execution_count": 107,
     "metadata": {},
     "output_type": "execute_result"
    }
   ],
   "source": [
    "np.unique(label_train)"
   ]
  },
  {
   "cell_type": "code",
   "execution_count": 102,
   "id": "a4adf610-bf56-4eec-9628-e9aff365ee8c",
   "metadata": {},
   "outputs": [
    {
     "name": "stdout",
     "output_type": "stream",
     "text": [
      "Number of training sentence:  (90000,)\n",
      "Number of training label:  (90000,)\n"
     ]
    }
   ],
   "source": [
    "sentence_train = df['comment']\n",
    "label_train = df['intent']\n",
    "\n",
    "print('Number of training sentence: ', sentence_train.shape)\n",
    "print('Number of training label: ', label_train.shape)"
   ]
  },
  {
   "cell_type": "code",
   "execution_count": 103,
   "id": "0c80acdf-97fb-49db-9236-2712fba76f11",
   "metadata": {},
   "outputs": [
    {
     "name": "stdout",
     "output_type": "stream",
     "text": [
      "{9: 10000, 8: 10000, 7: 10000, 6: 10000, 5: 10000, 4: 10000, 3: 10000, 2: 10000, 1: 10000}\n"
     ]
    }
   ],
   "source": [
    "from collections import Counter\n",
    "cnt = Counter(label_train)\n",
    "cnt = dict(cnt)\n",
    "print(cnt)"
   ]
  },
  {
   "cell_type": "code",
   "execution_count": 104,
   "id": "71fc0bdc-975a-403e-8e1c-b1df1bf5a93c",
   "metadata": {},
   "outputs": [],
   "source": [
    "# Convert dataframes to numpy arrays\n",
    "sentence_train = np.asarray(sentence_train)\n",
    "label_train = np.asarray(label_train)"
   ]
  },
  {
   "cell_type": "code",
   "execution_count": 106,
   "id": "2e65edf4-04a1-4517-a435-8dd5596bb22c",
   "metadata": {},
   "outputs": [
    {
     "data": {
      "text/plain": [
       "array([[0., 0., 0., ..., 0., 0., 1.],\n",
       "       [0., 0., 0., ..., 0., 0., 1.],\n",
       "       [0., 0., 0., ..., 0., 0., 1.],\n",
       "       ...,\n",
       "       [0., 1., 0., ..., 0., 0., 0.],\n",
       "       [0., 1., 0., ..., 0., 0., 0.],\n",
       "       [0., 1., 0., ..., 0., 0., 0.]], dtype=float32)"
      ]
     },
     "execution_count": 106,
     "metadata": {},
     "output_type": "execute_result"
    }
   ],
   "source": [
    "# Prepare labels for categorical prediction\n",
    "categorical_label_train = to_categorical(label_train, 10)\n",
    "categorical_label_train"
   ]
  },
  {
   "cell_type": "markdown",
   "id": "0d59864b-dfbb-442a-a24f-ed72b451cc96",
   "metadata": {},
   "source": [
    "## Apply preprocessing to dataset"
   ]
  },
  {
   "cell_type": "code",
   "execution_count": 112,
   "id": "d58d1a78-d06b-452e-be5e-ba3c0e56ebad",
   "metadata": {},
   "outputs": [],
   "source": [
    "train_docs = np.empty_like(sentence_train)\n",
    "for index, document in enumerate(sentence_train):\n",
    "  train_docs[index] = clean_data(document)"
   ]
  },
  {
   "cell_type": "markdown",
   "id": "0df59b2a-f8e4-46b6-abea-0161c9c6b767",
   "metadata": {},
   "source": [
    "## Set tokenizer and encode sentences"
   ]
  },
  {
   "cell_type": "code",
   "execution_count": 114,
   "id": "41ffd852-6f9a-43c3-bb17-56b500152ae5",
   "metadata": {},
   "outputs": [
    {
     "name": "stdout",
     "output_type": "stream",
     "text": [
      "[[6, 1101, 47, 2, 1], [62, 460, 393, 15, 361, 52, 477, 1222], [255, 51, 13, 9, 11, 133, 6, 17, 81, 111, 78, 38, 15, 17, 61, 4, 321, 396, 7, 51, 13, 9], [168, 3, 6, 17, 45, 32, 1821, 68], [8, 3, 1494, 7, 1289, 646, 1210, 51, 16, 9, 11, 20, 202, 19, 1684, 51, 13, 9, 7, 3, 160, 217], [23, 3, 6, 32, 6, 3, 258, 748, 16, 453, 183, 15, 19, 218, 472, 16, 385], [205, 32, 18, 11, 119, 274, 32, 527, 268, 40, 502, 44, 99, 89, 9], [3, 37, 52, 2, 1, 46, 8, 97, 7, 101, 1102, 795, 5, 211, 72, 2, 1, 1128, 97, 2, 1, 163, 157, 170, 121, 515, 1598, 355, 1685, 10, 905, 69, 680, 8, 16, 33], [47, 18, 99, 16, 9], [72, 120, 3, 103, 17]]\n"
     ]
    }
   ],
   "source": [
    "num_words = 2000\n",
    "\n",
    "# Create the tokenizer\n",
    "tokenizer = Tokenizer(num_words=num_words)\n",
    "tokenizer.fit_on_texts(train_docs)\n",
    "encoded_docs = tokenizer.texts_to_sequences(train_docs)\n",
    "print(encoded_docs[:10])"
   ]
  },
  {
   "cell_type": "code",
   "execution_count": 115,
   "id": "37ae2434-a5c6-4179-98a2-537f5a043ead",
   "metadata": {},
   "outputs": [
    {
     "data": {
      "text/plain": [
       "603"
      ]
     },
     "execution_count": 115,
     "metadata": {},
     "output_type": "execute_result"
    }
   ],
   "source": [
    "# Find maximum length of training sentences\n",
    "max_length = max([len(s.split()) for s in train_docs])\n",
    "max_length    "
   ]
  },
  {
   "cell_type": "markdown",
   "id": "e5e557c1-8f31-493d-aecd-3eb73a8aebbd",
   "metadata": {},
   "source": [
    "## Padding"
   ]
  },
  {
   "cell_type": "code",
   "execution_count": 117,
   "id": "5cf015e0-a8da-4105-aefd-107ddb58322d",
   "metadata": {},
   "outputs": [],
   "source": [
    "# Pad embeded training sequences\n",
    "x_train_padded = pad_sequences(encoded_docs, maxlen=max_length, padding='post')"
   ]
  },
  {
   "cell_type": "code",
   "execution_count": 119,
   "id": "3c6e050f-df7b-47b1-8b28-7d86e71fa3c1",
   "metadata": {},
   "outputs": [],
   "source": [
    "#vocabulary size\n",
    "vocab_size = len(tokenizer.word_index)"
   ]
  },
  {
   "cell_type": "code",
   "execution_count": 122,
   "id": "ed64f3fd-f36c-4024-9d0b-4677d3d23d90",
   "metadata": {},
   "outputs": [],
   "source": [
    "model_blstm = Sequential()\n",
    "\n",
    "model_blstm.add(Embedding(vocab_size, 300, input_length=max_length))\n",
    "model_blstm.add(Bidirectional(LSTM(300, return_sequences=True, name='lstm_layer')))\n",
    "\n",
    "model_blstm.add(GlobalMaxPool1D())\n",
    "model_blstm.add(Dropout(0.25))\n",
    "model_blstm.add(Dense(300, activation=\"relu\"))\n",
    "model_blstm.add(Dropout(0.2))\n",
    "model_blstm.add(Dense(5, activation='softmax'))"
   ]
  },
  {
   "cell_type": "code",
   "execution_count": 123,
   "id": "23ef592a-eb2d-4db0-b551-a2a4d04965af",
   "metadata": {},
   "outputs": [
    {
     "name": "stdout",
     "output_type": "stream",
     "text": [
      "Model: \"sequential_1\"\n",
      "_________________________________________________________________\n",
      " Layer (type)                Output Shape              Param #   \n",
      "=================================================================\n",
      " embedding_1 (Embedding)     (None, 603, 300)          7267200   \n",
      "                                                                 \n",
      " bidirectional_1 (Bidirecti  (None, 603, 600)          1442400   \n",
      " onal)                                                           \n",
      "                                                                 \n",
      " global_max_pooling1d_1 (Gl  (None, 600)               0         \n",
      " obalMaxPooling1D)                                               \n",
      "                                                                 \n",
      " dropout_2 (Dropout)         (None, 600)               0         \n",
      "                                                                 \n",
      " dense_2 (Dense)             (None, 300)               180300    \n",
      "                                                                 \n",
      " dropout_3 (Dropout)         (None, 300)               0         \n",
      "                                                                 \n",
      " dense_3 (Dense)             (None, 5)                 1505      \n",
      "                                                                 \n",
      "=================================================================\n",
      "Total params: 8891405 (33.92 MB)\n",
      "Trainable params: 8891405 (33.92 MB)\n",
      "Non-trainable params: 0 (0.00 Byte)\n",
      "_________________________________________________________________\n"
     ]
    }
   ],
   "source": [
    "model_blstm.compile(loss='categorical_crossentropy',\n",
    "              optimizer='adam',\n",
    "              metrics=[\"categorical_accuracy\"])\n",
    "\n",
    "model_blstm.summary()\n",
    "batch_size_blstm = 64\n",
    "epochs_blstm = 12     "
   ]
  },
  {
   "cell_type": "code",
   "execution_count": 1,
   "id": "91fd6077-cebf-4fc2-8b1e-9246bf6490c2",
   "metadata": {},
   "outputs": [],
   "source": [
    "# hist_blstm = model_blstm.fit(x_train_padded, categorical_label_train,\n",
    "#                              batch_size=batch_size_blstm, epochs=epochs_blstm,\n",
    "#                              shuffle=True)"
   ]
  }
 ],
 "metadata": {
  "kernelspec": {
   "display_name": "Python 3 (ipykernel)",
   "language": "python",
   "name": "python3"
  },
  "language_info": {
   "codemirror_mode": {
    "name": "ipython",
    "version": 3
   },
   "file_extension": ".py",
   "mimetype": "text/x-python",
   "name": "python",
   "nbconvert_exporter": "python",
   "pygments_lexer": "ipython3",
   "version": "3.11.4"
  }
 },
 "nbformat": 4,
 "nbformat_minor": 5
}
