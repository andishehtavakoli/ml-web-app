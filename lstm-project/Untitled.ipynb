{
 "cells": [
  {
   "cell_type": "code",
   "execution_count": 14,
   "id": "1db92c93-ee6d-46e0-9a45-3a73fbdee9ad",
   "metadata": {},
   "outputs": [],
   "source": [
    "#!pip install hazm\n",
    "# !pip install tensorflow-gpu==2.0.0\n",
    "# !pip install tensorflow"
   ]
  },
  {
   "cell_type": "code",
   "execution_count": 12,
   "id": "8875b567-15b0-4cef-9952-e17c28cdeca5",
   "metadata": {},
   "outputs": [
    {
     "name": "stderr",
     "output_type": "stream",
     "text": [
      "2024-03-03 19:53:53.492168: I tensorflow/core/platform/cpu_feature_guard.cc:182] This TensorFlow binary is optimized to use available CPU instructions in performance-critical operations.\n",
      "To enable the following instructions: AVX2 FMA, in other operations, rebuild TensorFlow with the appropriate compiler flags.\n"
     ]
    }
   ],
   "source": [
    "import pandas as pd\n",
    "import numpy as np\n",
    "\n",
    "import seaborn as sns\n",
    "import matplotlib.pyplot\n",
    "from hazm import *\n",
    "\n",
    "from tensorflow.keras import optimizers\n",
    "from tensorflow.keras.models import Model, Sequential\n",
    "from tensorflow.keras.layers import Dense, Input, Embedding, Dropout, GlobalMaxPool1D\n",
    "from tensorflow.keras.layers import LSTM, Bidirectional\n",
    "from tensorflow.keras.utils import to_categorical\n",
    "from tensorflow.keras.preprocessing.text import Tokenizer\n",
    "from tensorflow.keras.preprocessing.sequence import pad_sequences\n",
    "\n",
    "import warnings\n",
    "warnings.filterwarnings('ignore')\n"
   ]
  },
  {
   "cell_type": "code",
   "execution_count": 95,
   "id": "300a87a7-cfb7-4123-848a-2946a647c4b6",
   "metadata": {},
   "outputs": [],
   "source": [
    "df = pd.read_csv('data_train.csv', encoding=\"utf-8\")"
   ]
  },
  {
   "cell_type": "code",
   "execution_count": 96,
   "id": "9dc5146e-913d-47b8-afc5-ea7f76f0195c",
   "metadata": {},
   "outputs": [
    {
     "data": {
      "text/html": [
       "<div>\n",
       "<style scoped>\n",
       "    .dataframe tbody tr th:only-of-type {\n",
       "        vertical-align: middle;\n",
       "    }\n",
       "\n",
       "    .dataframe tbody tr th {\n",
       "        vertical-align: top;\n",
       "    }\n",
       "\n",
       "    .dataframe thead th {\n",
       "        text-align: right;\n",
       "    }\n",
       "</style>\n",
       "<table border=\"1\" class=\"dataframe\">\n",
       "  <thead>\n",
       "    <tr style=\"text-align: right;\">\n",
       "      <th></th>\n",
       "      <th>id</th>\n",
       "      <th>comment</th>\n",
       "      <th>intent</th>\n",
       "    </tr>\n",
       "  </thead>\n",
       "  <tbody>\n",
       "    <tr>\n",
       "      <th>0</th>\n",
       "      <td>14311999</td>\n",
       "      <td>خوب وخوش طعم بود</td>\n",
       "      <td>1,5</td>\n",
       "    </tr>\n",
       "    <tr>\n",
       "      <th>1</th>\n",
       "      <td>14312094</td>\n",
       "      <td>واقعا دست مریزاد هراز جان هم زده پروبیوتیک و خ...</td>\n",
       "      <td>1,5</td>\n",
       "    </tr>\n",
       "    <tr>\n",
       "      <th>2</th>\n",
       "      <td>14312102</td>\n",
       "      <td>هنوز استفاده نکردم ولی عطر خوبی داره بسته بندی...</td>\n",
       "      <td>1,5</td>\n",
       "    </tr>\n",
       "  </tbody>\n",
       "</table>\n",
       "</div>"
      ],
      "text/plain": [
       "         id                                            comment intent\n",
       "0  14311999                                   خوب وخوش طعم بود    1,5\n",
       "1  14312094  واقعا دست مریزاد هراز جان هم زده پروبیوتیک و خ...    1,5\n",
       "2  14312102  هنوز استفاده نکردم ولی عطر خوبی داره بسته بندی...    1,5"
      ]
     },
     "execution_count": 96,
     "metadata": {},
     "output_type": "execute_result"
    }
   ],
   "source": [
    "df.head(3)"
   ]
  },
  {
   "cell_type": "code",
   "execution_count": 97,
   "id": "9f5ab73d-1b8e-4cc3-acbd-41321c917fa3",
   "metadata": {},
   "outputs": [
    {
     "data": {
      "text/html": [
       "<div>\n",
       "<style scoped>\n",
       "    .dataframe tbody tr th:only-of-type {\n",
       "        vertical-align: middle;\n",
       "    }\n",
       "\n",
       "    .dataframe tbody tr th {\n",
       "        vertical-align: top;\n",
       "    }\n",
       "\n",
       "    .dataframe thead th {\n",
       "        text-align: right;\n",
       "    }\n",
       "</style>\n",
       "<table border=\"1\" class=\"dataframe\">\n",
       "  <thead>\n",
       "    <tr style=\"text-align: right;\">\n",
       "      <th></th>\n",
       "      <th>id</th>\n",
       "      <th>comment</th>\n",
       "      <th>intent</th>\n",
       "    </tr>\n",
       "  </thead>\n",
       "  <tbody>\n",
       "    <tr>\n",
       "      <th>89997</th>\n",
       "      <td>15336949</td>\n",
       "      <td>خوب و معمولی است.</td>\n",
       "      <td>1</td>\n",
       "    </tr>\n",
       "    <tr>\n",
       "      <th>89998</th>\n",
       "      <td>15336950</td>\n",
       "      <td>بد نیست</td>\n",
       "      <td>1</td>\n",
       "    </tr>\n",
       "    <tr>\n",
       "      <th>89999</th>\n",
       "      <td>15336955</td>\n",
       "      <td>نسبتا خوب</td>\n",
       "      <td>1</td>\n",
       "    </tr>\n",
       "  </tbody>\n",
       "</table>\n",
       "</div>"
      ],
      "text/plain": [
       "             id            comment intent\n",
       "89997  15336949  خوب و معمولی است.      1\n",
       "89998  15336950            بد نیست      1\n",
       "89999  15336955          نسبتا خوب      1"
      ]
     },
     "execution_count": 97,
     "metadata": {},
     "output_type": "execute_result"
    }
   ],
   "source": [
    "df.tail(3)"
   ]
  },
  {
   "cell_type": "code",
   "execution_count": 98,
   "id": "b8f0e7b8-bf95-42d8-91bf-637021b55a6c",
   "metadata": {},
   "outputs": [
    {
     "data": {
      "text/plain": [
       "intent\n",
       "1,5    10000\n",
       "1,4    10000\n",
       "1,3    10000\n",
       "1,2    10000\n",
       "5      10000\n",
       "4      10000\n",
       "3      10000\n",
       "2      10000\n",
       "1      10000\n",
       "Name: count, dtype: int64"
      ]
     },
     "execution_count": 98,
     "metadata": {},
     "output_type": "execute_result"
    }
   ],
   "source": [
    "df['intent'].value_counts()"
   ]
  },
  {
   "cell_type": "code",
   "execution_count": 99,
   "id": "e77055f6-43f8-49a9-b781-bb4d7838edc7",
   "metadata": {},
   "outputs": [
    {
     "data": {
      "text/plain": [
       "<Axes: xlabel='intent'>"
      ]
     },
     "execution_count": 99,
     "metadata": {},
     "output_type": "execute_result"
    },
    {
     "data": {
      "image/png": "[encoded data removed]",
      "text/plain": [
       "<Figure size 640x480 with 1 Axes>"
      ]
     },
     "metadata": {},
     "output_type": "display_data"
    }
   ],
   "source": [
    "sns.barplot(x=df['intent'].value_counts().index, y=df['intent'].value_counts().values)"
   ]
  },
  {
   "cell_type": "code",
   "execution_count": 100,
   "id": "ac3f3bbc-6b90-4c4c-985d-91e969df3d26",
   "metadata": {},
   "outputs": [
    {
     "name": "stdout",
     "output_type": "stream",
     "text": [
      "<class 'pandas.core.frame.DataFrame'>\n",
      "RangeIndex: 90000 entries, 0 to 89999\n",
      "Data columns (total 3 columns):\n",
      " #   Column   Non-Null Count  Dtype \n",
      "---  ------   --------------  ----- \n",
      " 0   id       90000 non-null  int64 \n",
      " 1   comment  90000 non-null  object\n",
      " 2   intent   90000 non-null  object\n",
      "dtypes: int64(1), object(2)\n",
      "memory usage: 2.1+ MB\n"
     ]
    }
   ],
   "source": [
    "df.info()"
   ]
  },
  {
   "cell_type": "code",
   "execution_count": 101,
   "id": "dc3385a8-d1e6-4530-aa38-fa2c87357788",
   "metadata": {},
   "outputs": [],
   "source": [
    "df['intent'] = df['intent'].str.replace('1,2', '6').replace('1,3', '7').replace('1,4', '8').replace('1,5', '9').astype('int')"
   ]
  },
  {
   "cell_type": "code",
   "execution_count": 107,
   "id": "d74a84d4-4ed9-40d4-a4df-865489421c90",
   "metadata": {},
   "outputs": [
    {
     "data": {
      "text/plain": [
       "array([1, 2, 3, 4, 5, 6, 7, 8, 9])"
      ]
     },
     "execution_count": 107,
     "metadata": {},
     "output_type": "execute_result"
    }
   ],
   "source": [
    "np.unique(label_train)"
   ]
  },
  {
   "cell_type": "code",
   "execution_count": 102,
   "id": "a4adf610-bf56-4eec-9628-e9aff365ee8c",
   "metadata": {},
   "outputs": [
    {
     "name": "stdout",
     "output_type": "stream",
     "text": [
      "Number of training sentence:  (90000,)\n",
      "Number of training label:  (90000,)\n"
     ]
    }
   ],
   "source": [
    "sentence_train = df['comment']\n",
    "label_train = df['intent']\n",
    "\n",
    "print('Number of training sentence: ', sentence_train.shape)\n",
    "print('Number of training label: ', label_train.shape)"
   ]
  },
  {
   "cell_type": "code",
   "execution_count": 103,
   "id": "0c80acdf-97fb-49db-9236-2712fba76f11",
   "metadata": {},
   "outputs": [
    {
     "name": "stdout",
     "output_type": "stream",
     "text": [
      "{9: 10000, 8: 10000, 7: 10000, 6: 10000, 5: 10000, 4: 10000, 3: 10000, 2: 10000, 1: 10000}\n"
     ]
    }
   ],
   "source": [
    "from collections import Counter\n",
    "cnt = Counter(label_train)\n",
    "cnt = dict(cnt)\n",
    "print(cnt)"
   ]
  },
  {
   "cell_type": "code",
   "execution_count": 104,
   "id": "71fc0bdc-975a-403e-8e1c-b1df1bf5a93c",
   "metadata": {},
   "outputs": [],
   "source": [
    "# Convert dataframes to numpy arrays\n",
    "sentence_train = np.asarray(sentence_train)\n",
    "label_train = np.asarray(label_train)"
   ]
  },
  {
   "cell_type": "code",
   "execution_count": 106,
   "id": "2e65edf4-04a1-4517-a435-8dd5596bb22c",
   "metadata": {},
   "outputs": [
    {
     "data": {
      "text/plain": [
       "array([[0., 0., 0., ..., 0., 0., 1.],\n",
       "       [0., 0., 0., ..., 0., 0., 1.],\n",
       "       [0., 0., 0., ..., 0., 0., 1.],\n",
       "       ...,\n",
       "       [0., 1., 0., ..., 0., 0., 0.],\n",
       "       [0., 1., 0., ..., 0., 0., 0.],\n",
       "       [0., 1., 0., ..., 0., 0., 0.]], dtype=float32)"
      ]
     },
     "execution_count": 106,
     "metadata": {},
     "output_type": "execute_result"
    }
   ],
   "source": [
    "# Prepare labels for categorical prediction\n",
    "categorical_label_train = to_categorical(label_train, 10)\n",
    "categorical_label_train"
   ]
  },
  {
   "cell_type": "markdown",
   "id": "1cad7549-2710-42d6-a3a9-7afcc9bdb8fe",
   "metadata": {},
   "source": [
    "## Preprocessing"
   ]
  },
  {
   "cell_type": "code",
   "execution_count": 108,
   "id": "c3c11070-c793-4dd1-81dc-9e016ef6261d",
   "metadata": {},
   "outputs": [],
   "source": [
    "import re\n",
    "normalizer = Normalizer()\n",
    "lemmatizer = Lemmatizer()\n",
    "stemmer = Stemmer()\n",
    "# turn a doc into clean tokens\n",
    "def clean_data(doc):\n",
    "    doc = normalizer.normalize(doc) # Normalize document using Hazm Normalizer\n",
    "    tokenized = word_tokenize(doc)  # Tokenize text\n",
    "    # ['یه', 'ساله', 'خریدم', 'خیلی', 'ضعیف', 'است', 'بازی', 'هم', 'که', 'چی', 'بگم', 'هیچ', 'کدوم', 'رو', 'باز', 'نمیکنه']\n",
    "    tokens = []\n",
    "    for token in tokenized:\n",
    "      token = re.sub(\"[،:.,;()/+]\", \" \", token) \n",
    "      token = re.sub(r\"\\!+\",\"!\", token)\n",
    "      token = re.sub(r\"\\؟+\",\"؟\", token)\n",
    "      token = re.sub(r\"\\u200c\", \" \", token)\n",
    "      tokens.append(token)\n",
    "\n",
    "    tokens = [w for w in tokens if not len(w) <= 1] # single character removal \n",
    "    tokens = [w for w in tokens if not w.isdigit()] # digit remove\n",
    "    tokens = [lemmatizer.lemmatize(w) for w in tokens] # Lemmatize sentence words using Hazm Lemmatizer\n",
    "    tokens = [stemmer.stem(w) for w in tokens] \n",
    "    tokens = ' '.join(tokens)\n",
    "    return tokens"
   ]
  },
  {
   "cell_type": "markdown",
   "id": "0d59864b-dfbb-442a-a24f-ed72b451cc96",
   "metadata": {},
   "source": [
    "## Apply preprocessing to dataset"
   ]
  },
  {
   "cell_type": "code",
   "execution_count": 112,
   "id": "d58d1a78-d06b-452e-be5e-ba3c0e56ebad",
   "metadata": {},
   "outputs": [],
   "source": [
    "train_docs = np.empty_like(sentence_train)\n",
    "for index, document in enumerate(sentence_train):\n",
    "  train_docs[index] = clean_data(document)"
   ]
  },
  {
   "cell_type": "markdown",
   "id": "0df59b2a-f8e4-46b6-abea-0161c9c6b767",
   "metadata": {},
   "source": [
    "## Set tokenizer and encode sentences"
   ]
  },
  {
   "cell_type": "code",
   "execution_count": 114,
   "id": "41ffd852-6f9a-43c3-bb17-56b500152ae5",
   "metadata": {},
   "outputs": [
    {
     "name": "stdout",
     "output_type": "stream",
     "text": [
      "[[6, 1101, 47, 2, 1], [62, 460, 393, 15, 361, 52, 477, 1222], [255, 51, 13, 9, 11, 133, 6, 17, 81, 111, 78, 38, 15, 17, 61, 4, 321, 396, 7, 51, 13, 9], [168, 3, 6, 17, 45, 32, 1821, 68], [8, 3, 1494, 7, 1289, 646, 1210, 51, 16, 9, 11, 20, 202, 19, 1684, 51, 13, 9, 7, 3, 160, 217], [23, 3, 6, 32, 6, 3, 258, 748, 16, 453, 183, 15, 19, 218, 472, 16, 385], [205, 32, 18, 11, 119, 274, 32, 527, 268, 40, 502, 44, 99, 89, 9], [3, 37, 52, 2, 1, 46, 8, 97, 7, 101, 1102, 795, 5, 211, 72, 2, 1, 1128, 97, 2, 1, 163, 157, 170, 121, 515, 1598, 355, 1685, 10, 905, 69, 680, 8, 16, 33], [47, 18, 99, 16, 9], [72, 120, 3, 103, 17]]\n"
     ]
    }
   ],
   "source": [
    "num_words = 2000\n",
    "\n",
    "# Create the tokenizer\n",
    "tokenizer = Tokenizer(num_words=num_words)\n",
    "tokenizer.fit_on_texts(train_docs)\n",
    "encoded_docs = tokenizer.texts_to_sequences(train_docs)\n",
    "print(encoded_docs[:10])"
   ]
  },
  {
   "cell_type": "code",
   "execution_count": 115,
   "id": "37ae2434-a5c6-4179-98a2-537f5a043ead",
   "metadata": {},
   "outputs": [
    {
     "data": {
      "text/plain": [
       "603"
      ]
     },
     "execution_count": 115,
     "metadata": {},
     "output_type": "execute_result"
    }
   ],
   "source": [
    "# Find maximum length of training sentences\n",
    "max_length = max([len(s.split()) for s in train_docs])\n",
    "max_length    "
   ]
  },
  {
   "cell_type": "markdown",
   "id": "e5e557c1-8f31-493d-aecd-3eb73a8aebbd",
   "metadata": {},
   "source": [
    "## Padding"
   ]
  },
  {
   "cell_type": "code",
   "execution_count": 117,
   "id": "5cf015e0-a8da-4105-aefd-107ddb58322d",
   "metadata": {},
   "outputs": [],
   "source": [
    "# Pad embeded training sequences\n",
    "x_train_padded = pad_sequences(encoded_docs, maxlen=max_length, padding='post')"
   ]
  },
  {
   "cell_type": "code",
   "execution_count": 119,
   "id": "3c6e050f-df7b-47b1-8b28-7d86e71fa3c1",
   "metadata": {},
   "outputs": [],
   "source": [
    "#vocabulary size\n",
    "vocab_size = len(tokenizer.word_index)"
   ]
  },
  {
   "cell_type": "code",
   "execution_count": 122,
   "id": "ed64f3fd-f36c-4024-9d0b-4677d3d23d90",
   "metadata": {},
   "outputs": [],
   "source": [
    "model_blstm = Sequential()\n",
    "\n",
    "model_blstm.add(Embedding(vocab_size, 300, input_length=max_length))\n",
    "model_blstm.add(Bidirectional(LSTM(300, return_sequences=True, name='lstm_layer')))\n",
    "\n",
    "model_blstm.add(GlobalMaxPool1D())\n",
    "model_blstm.add(Dropout(0.25))\n",
    "model_blstm.add(Dense(300, activation=\"relu\"))\n",
    "model_blstm.add(Dropout(0.2))\n",
    "model_blstm.add(Dense(5, activation='softmax'))"
   ]
  },
  {
   "cell_type": "code",
   "execution_count": 123,
   "id": "23ef592a-eb2d-4db0-b551-a2a4d04965af",
   "metadata": {},
   "outputs": [
    {
     "name": "stdout",
     "output_type": "stream",
     "text": [
      "Model: \"sequential_1\"\n",
      "_________________________________________________________________\n",
      " Layer (type)                Output Shape              Param #   \n",
      "=================================================================\n",
      " embedding_1 (Embedding)     (None, 603, 300)          7267200   \n",
      "                                                                 \n",
      " bidirectional_1 (Bidirecti  (None, 603, 600)          1442400   \n",
      " onal)                                                           \n",
      "                                                                 \n",
      " global_max_pooling1d_1 (Gl  (None, 600)               0         \n",
      " obalMaxPooling1D)                                               \n",
      "                                                                 \n",
      " dropout_2 (Dropout)         (None, 600)               0         \n",
      "                                                                 \n",
      " dense_2 (Dense)             (None, 300)               180300    \n",
      "                                                                 \n",
      " dropout_3 (Dropout)         (None, 300)               0         \n",
      "                                                                 \n",
      " dense_3 (Dense)             (None, 5)                 1505      \n",
      "                                                                 \n",
      "=================================================================\n",
      "Total params: 8891405 (33.92 MB)\n",
      "Trainable params: 8891405 (33.92 MB)\n",
      "Non-trainable params: 0 (0.00 Byte)\n",
      "_________________________________________________________________\n"
     ]
    }
   ],
   "source": [
    "model_blstm.compile(loss='categorical_crossentropy',\n",
    "              optimizer='adam',\n",
    "              metrics=[\"categorical_accuracy\"])\n",
    "\n",
    "model_blstm.summary()\n",
    "batch_size_blstm = 64\n",
    "epochs_blstm = 12     "
   ]
  },
  {
   "cell_type": "code",
   "execution_count": 124,
   "id": "91fd6077-cebf-4fc2-8b1e-9246bf6490c2",
   "metadata": {},
   "outputs": [
    {
     "name": "stdout",
     "output_type": "stream",
     "text": [
      "Epoch 1/12\n"
     ]
    },
    {
     "ename": "ValueError",
     "evalue": "in user code:\n\n    File \"/Users/andishetavakkoli/miniconda3/lib/python3.11/site-packages/keras/src/engine/training.py\", line 1401, in train_function  *\n        return step_function(self, iterator)\n    File \"/Users/andishetavakkoli/miniconda3/lib/python3.11/site-packages/keras/src/engine/training.py\", line 1384, in step_function  **\n        outputs = model.distribute_strategy.run(run_step, args=(data,))\n    File \"/Users/andishetavakkoli/miniconda3/lib/python3.11/site-packages/keras/src/engine/training.py\", line 1373, in run_step  **\n        outputs = model.train_step(data)\n    File \"/Users/andishetavakkoli/miniconda3/lib/python3.11/site-packages/keras/src/engine/training.py\", line 1151, in train_step\n        loss = self.compute_loss(x, y, y_pred, sample_weight)\n    File \"/Users/andishetavakkoli/miniconda3/lib/python3.11/site-packages/keras/src/engine/training.py\", line 1209, in compute_loss\n        return self.compiled_loss(\n    File \"/Users/andishetavakkoli/miniconda3/lib/python3.11/site-packages/keras/src/engine/compile_utils.py\", line 277, in __call__\n        loss_value = loss_obj(y_t, y_p, sample_weight=sw)\n    File \"/Users/andishetavakkoli/miniconda3/lib/python3.11/site-packages/keras/src/losses.py\", line 143, in __call__\n        losses = call_fn(y_true, y_pred)\n    File \"/Users/andishetavakkoli/miniconda3/lib/python3.11/site-packages/keras/src/losses.py\", line 270, in call  **\n        return ag_fn(y_true, y_pred, **self._fn_kwargs)\n    File \"/Users/andishetavakkoli/miniconda3/lib/python3.11/site-packages/keras/src/losses.py\", line 2221, in categorical_crossentropy\n        return backend.categorical_crossentropy(\n    File \"/Users/andishetavakkoli/miniconda3/lib/python3.11/site-packages/keras/src/backend.py\", line 5573, in categorical_crossentropy\n        target.shape.assert_is_compatible_with(output.shape)\n\n    ValueError: Shapes (None, 10) and (None, 5) are incompatible\n",
     "output_type": "error",
     "traceback": [
      "\u001b[0;31m---------------------------------------------------------------------------\u001b[0m",
      "\u001b[0;31mValueError\u001b[0m                                Traceback (most recent call last)",
      "Cell \u001b[0;32mIn[124], line 1\u001b[0m\n\u001b[0;32m----> 1\u001b[0m hist_blstm \u001b[38;5;241m=\u001b[39m \u001b[43mmodel_blstm\u001b[49m\u001b[38;5;241;43m.\u001b[39;49m\u001b[43mfit\u001b[49m\u001b[43m(\u001b[49m\u001b[43mx_train_padded\u001b[49m\u001b[43m,\u001b[49m\u001b[43m \u001b[49m\u001b[43mcategorical_label_train\u001b[49m\u001b[43m,\u001b[49m\n\u001b[1;32m      2\u001b[0m \u001b[43m                             \u001b[49m\u001b[43mbatch_size\u001b[49m\u001b[38;5;241;43m=\u001b[39;49m\u001b[43mbatch_size_blstm\u001b[49m\u001b[43m,\u001b[49m\u001b[43m \u001b[49m\u001b[43mepochs\u001b[49m\u001b[38;5;241;43m=\u001b[39;49m\u001b[43mepochs_blstm\u001b[49m\u001b[43m,\u001b[49m\n\u001b[1;32m      3\u001b[0m \u001b[43m                             \u001b[49m\u001b[43mshuffle\u001b[49m\u001b[38;5;241;43m=\u001b[39;49m\u001b[38;5;28;43;01mTrue\u001b[39;49;00m\u001b[43m)\u001b[49m\n",
      "File \u001b[0;32m~/miniconda3/lib/python3.11/site-packages/keras/src/utils/traceback_utils.py:70\u001b[0m, in \u001b[0;36mfilter_traceback.<locals>.error_handler\u001b[0;34m(*args, **kwargs)\u001b[0m\n\u001b[1;32m     67\u001b[0m     filtered_tb \u001b[38;5;241m=\u001b[39m _process_traceback_frames(e\u001b[38;5;241m.\u001b[39m__traceback__)\n\u001b[1;32m     68\u001b[0m     \u001b[38;5;66;03m# To get the full stack trace, call:\u001b[39;00m\n\u001b[1;32m     69\u001b[0m     \u001b[38;5;66;03m# `tf.debugging.disable_traceback_filtering()`\u001b[39;00m\n\u001b[0;32m---> 70\u001b[0m     \u001b[38;5;28;01mraise\u001b[39;00m e\u001b[38;5;241m.\u001b[39mwith_traceback(filtered_tb) \u001b[38;5;28;01mfrom\u001b[39;00m \u001b[38;5;28;01mNone\u001b[39;00m\n\u001b[1;32m     71\u001b[0m \u001b[38;5;28;01mfinally\u001b[39;00m:\n\u001b[1;32m     72\u001b[0m     \u001b[38;5;28;01mdel\u001b[39;00m filtered_tb\n",
      "File \u001b[0;32m/var/folders/rq/68kglm913gz9zwj18qwmq_000000gn/T/__autograph_generated_filez5_r2ace.py:15\u001b[0m, in \u001b[0;36mouter_factory.<locals>.inner_factory.<locals>.tf__train_function\u001b[0;34m(iterator)\u001b[0m\n\u001b[1;32m     13\u001b[0m \u001b[38;5;28;01mtry\u001b[39;00m:\n\u001b[1;32m     14\u001b[0m     do_return \u001b[38;5;241m=\u001b[39m \u001b[38;5;28;01mTrue\u001b[39;00m\n\u001b[0;32m---> 15\u001b[0m     retval_ \u001b[38;5;241m=\u001b[39m ag__\u001b[38;5;241m.\u001b[39mconverted_call(ag__\u001b[38;5;241m.\u001b[39mld(step_function), (ag__\u001b[38;5;241m.\u001b[39mld(\u001b[38;5;28mself\u001b[39m), ag__\u001b[38;5;241m.\u001b[39mld(iterator)), \u001b[38;5;28;01mNone\u001b[39;00m, fscope)\n\u001b[1;32m     16\u001b[0m \u001b[38;5;28;01mexcept\u001b[39;00m:\n\u001b[1;32m     17\u001b[0m     do_return \u001b[38;5;241m=\u001b[39m \u001b[38;5;28;01mFalse\u001b[39;00m\n",
      "\u001b[0;31mValueError\u001b[0m: in user code:\n\n    File \"/Users/andishetavakkoli/miniconda3/lib/python3.11/site-packages/keras/src/engine/training.py\", line 1401, in train_function  *\n        return step_function(self, iterator)\n    File \"/Users/andishetavakkoli/miniconda3/lib/python3.11/site-packages/keras/src/engine/training.py\", line 1384, in step_function  **\n        outputs = model.distribute_strategy.run(run_step, args=(data,))\n    File \"/Users/andishetavakkoli/miniconda3/lib/python3.11/site-packages/keras/src/engine/training.py\", line 1373, in run_step  **\n        outputs = model.train_step(data)\n    File \"/Users/andishetavakkoli/miniconda3/lib/python3.11/site-packages/keras/src/engine/training.py\", line 1151, in train_step\n        loss = self.compute_loss(x, y, y_pred, sample_weight)\n    File \"/Users/andishetavakkoli/miniconda3/lib/python3.11/site-packages/keras/src/engine/training.py\", line 1209, in compute_loss\n        return self.compiled_loss(\n    File \"/Users/andishetavakkoli/miniconda3/lib/python3.11/site-packages/keras/src/engine/compile_utils.py\", line 277, in __call__\n        loss_value = loss_obj(y_t, y_p, sample_weight=sw)\n    File \"/Users/andishetavakkoli/miniconda3/lib/python3.11/site-packages/keras/src/losses.py\", line 143, in __call__\n        losses = call_fn(y_true, y_pred)\n    File \"/Users/andishetavakkoli/miniconda3/lib/python3.11/site-packages/keras/src/losses.py\", line 270, in call  **\n        return ag_fn(y_true, y_pred, **self._fn_kwargs)\n    File \"/Users/andishetavakkoli/miniconda3/lib/python3.11/site-packages/keras/src/losses.py\", line 2221, in categorical_crossentropy\n        return backend.categorical_crossentropy(\n    File \"/Users/andishetavakkoli/miniconda3/lib/python3.11/site-packages/keras/src/backend.py\", line 5573, in categorical_crossentropy\n        target.shape.assert_is_compatible_with(output.shape)\n\n    ValueError: Shapes (None, 10) and (None, 5) are incompatible\n"
     ]
    }
   ],
   "source": [
    "hist_blstm = model_blstm.fit(x_train_padded, categorical_label_train,\n",
    "                             batch_size=batch_size_blstm, epochs=epochs_blstm,\n",
    "                             shuffle=True)"
   ]
  }
 ],
 "metadata": {
  "kernelspec": {
   "display_name": "Python 3 (ipykernel)",
   "language": "python",
   "name": "python3"
  },
  "language_info": {
   "codemirror_mode": {
    "name": "ipython",
    "version": 3
   },
   "file_extension": ".py",
   "mimetype": "text/x-python",
   "name": "python",
   "nbconvert_exporter": "python",
   "pygments_lexer": "ipython3",
   "version": "3.11.4"
  }
 },
 "nbformat": 4,
 "nbformat_minor": 5
}
