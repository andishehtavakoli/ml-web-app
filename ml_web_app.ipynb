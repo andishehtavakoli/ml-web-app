{
 "cells": [
  {
   "cell_type": "code",
   "execution_count": 41,
   "id": "0ab0a401",
   "metadata": {},
   "outputs": [],
   "source": [
    "import numpy as np\n",
    "import pandas as pd\n",
    "import seaborn as sns\n",
    "import matplotlib.pyplot\n",
    "from sklearn.tree import DecisionTreeClassifier\n",
    "from sklearn.ensemble import RandomForestClassifier\n",
    "from sklearn.linear_model import LogisticRegression\n",
    "from sklearn.svm import SVC\n",
    "from sklearn.preprocessing import MinMaxScaler,OneHotEncoder,QuantileTransformer,StandardScaler, LabelEncoder\n",
    "from sklearn.impute import SimpleImputer\n",
    "from sklearn.metrics import accuracy_score,confusion_matrix, classification_report, roc_auc_score, precision_recall_curve\n",
    "from sklearn.model_selection import train_test_split, cross_val_score, GridSearchCV, KFold\n",
    "from sklearn.pipeline import Pipeline\n",
    "from sklearn.compose import ColumnTransformer\n",
    "\n",
    "import warnings\n",
    "warnings.filterwarnings('ignore')"
   ]
  },
  {
   "cell_type": "code",
   "execution_count": 2,
   "id": "7db559a7",
   "metadata": {},
   "outputs": [],
   "source": [
    "def nan_imputer(df):\n",
    "\n",
    "    # Numerical\n",
    "    num_col_list = df.select_dtypes(include=[np.number]).columns\n",
    "    si_num = SimpleImputer()\n",
    "\n",
    "    # Categorical\n",
    "    cat_col_list = df.select_dtypes(exclude=[np.number]).columns\n",
    "    si_cat = SimpleImputer(strategy='most_frequent')\n",
    "\n",
    "    df[num_col_list] = si_num.fit_transform(df[num_col_list])\n",
    "    df[cat_col_list] = si_cat.fit_transform(df[cat_col_list])\n",
    "    \n",
    "    return df"
   ]
  },
  {
   "cell_type": "code",
   "execution_count": 3,
   "id": "2b7947b4",
   "metadata": {},
   "outputs": [],
   "source": [
    "def encoder(df):\n",
    "    cat_col_list = df.select_dtypes(exclude=[np.number]).columns\n",
    "    df[cat_col_list]= df[cat_col_list].apply(LabelEncoder().fit_transform)\n",
    "    \n",
    "    return df\n",
    "    "
   ]
  },
  {
   "cell_type": "code",
   "execution_count": 4,
   "id": "abf3e065",
   "metadata": {},
   "outputs": [],
   "source": [
    "def split_data(df, dep_variable, indep_variable, test_size=0.2):\n",
    "    X = df[indep_variable]\n",
    "    y = df[dep_variable]\n",
    "\n",
    "    X_train, X_test, y_train,  y_test = train_test_split(X, y, random_state=42, test_size=test_size, stratify=y)\n",
    "    return X_train, X_test, y_train, y_test \n"
   ]
  },
  {
   "cell_type": "code",
   "execution_count": 42,
   "id": "88910b45",
   "metadata": {},
   "outputs": [],
   "source": [
    "def build_model(df, model):\n",
    "    numeric_features = df.select_dtypes(include=[np.number]).columns\n",
    "    numeric_transformer = Pipeline(\n",
    "        steps=[('imputer', SimpleImputer(strategy='median')),\n",
    "               ('scaler', StandardScaler())]\n",
    "    )\n",
    "\n",
    "    categorical_features = df.select_dtypes(exclude=[np.number]).columns\n",
    "    categorical_transformer = OneHotEncoder(handle_unknown=\"ignore\")\n",
    "\n",
    "    preprocessor = ColumnTransformer(\n",
    "        transformers=[('num', numeric_transformer, numeric_features),\n",
    "                     ('cat', categorical_transformer, categorical_features)\n",
    "                     ]\n",
    "    )\n",
    "\n",
    "    clf = Pipeline(\n",
    "        steps=[\n",
    "            ('preprocessor',preprocessor),\n",
    "               (\"classifier\",  model)\n",
    "              ]\n",
    "    )\n",
    "    \n",
    "    return clf\n",
    "    "
   ]
  },
  {
   "cell_type": "code",
   "execution_count": 43,
   "id": "947476f0",
   "metadata": {},
   "outputs": [],
   "source": [
    "df = sns.load_dataset('penguins')\n",
    "dep_variable = ['species']\n",
    "indep_variable =[ 'island', 'bill_length_mm', 'bill_depth_mm','flipper_length_mm', 'body_mass_g', 'sex']\n",
    "X_train, X_test, y_train,  y_test = split_data(df, dep_variable, indep_variable, test_size=0.2)"
   ]
  },
  {
   "cell_type": "code",
   "execution_count": 91,
   "id": "10faa331",
   "metadata": {},
   "outputs": [
    {
     "data": {
      "text/plain": [
       "array(['Adelie'], dtype=object)"
      ]
     },
     "execution_count": 91,
     "metadata": {},
     "output_type": "execute_result"
    }
   ],
   "source": [
    "trained_model = build_model(X_train, RandomForestClassifier())\n",
    "trained_model.fit(X_train, y_train)\n",
    "y_pred = trained_model.predict(pd.DataFrame([['Dream', 41.5, 18.5, 201.0, 4000.0, 'Male']], columns=X_train.columns))\n",
    "y_pred"
   ]
  },
  {
   "cell_type": "code",
   "execution_count": 94,
   "id": "29d1acab",
   "metadata": {},
   "outputs": [
    {
     "data": {
      "text/html": [
       "<div>\n",
       "<style scoped>\n",
       "    .dataframe tbody tr th:only-of-type {\n",
       "        vertical-align: middle;\n",
       "    }\n",
       "\n",
       "    .dataframe tbody tr th {\n",
       "        vertical-align: top;\n",
       "    }\n",
       "\n",
       "    .dataframe thead th {\n",
       "        text-align: right;\n",
       "    }\n",
       "</style>\n",
       "<table border=\"1\" class=\"dataframe\">\n",
       "  <thead>\n",
       "    <tr style=\"text-align: right;\">\n",
       "      <th></th>\n",
       "      <th>species</th>\n",
       "      <th>island</th>\n",
       "      <th>bill_length_mm</th>\n",
       "      <th>bill_depth_mm</th>\n",
       "      <th>flipper_length_mm</th>\n",
       "      <th>body_mass_g</th>\n",
       "      <th>sex</th>\n",
       "    </tr>\n",
       "  </thead>\n",
       "  <tbody>\n",
       "    <tr>\n",
       "      <th>290</th>\n",
       "      <td>Gentoo</td>\n",
       "      <td>Biscoe</td>\n",
       "      <td>47.7</td>\n",
       "      <td>15.0</td>\n",
       "      <td>216.0</td>\n",
       "      <td>4750.0</td>\n",
       "      <td>Female</td>\n",
       "    </tr>\n",
       "    <tr>\n",
       "      <th>84</th>\n",
       "      <td>Adelie</td>\n",
       "      <td>Dream</td>\n",
       "      <td>37.3</td>\n",
       "      <td>17.8</td>\n",
       "      <td>191.0</td>\n",
       "      <td>3350.0</td>\n",
       "      <td>Female</td>\n",
       "    </tr>\n",
       "    <tr>\n",
       "      <th>325</th>\n",
       "      <td>Gentoo</td>\n",
       "      <td>Biscoe</td>\n",
       "      <td>46.8</td>\n",
       "      <td>16.1</td>\n",
       "      <td>215.0</td>\n",
       "      <td>5500.0</td>\n",
       "      <td>Male</td>\n",
       "    </tr>\n",
       "    <tr>\n",
       "      <th>265</th>\n",
       "      <td>Gentoo</td>\n",
       "      <td>Biscoe</td>\n",
       "      <td>43.6</td>\n",
       "      <td>13.9</td>\n",
       "      <td>217.0</td>\n",
       "      <td>4900.0</td>\n",
       "      <td>Female</td>\n",
       "    </tr>\n",
       "    <tr>\n",
       "      <th>26</th>\n",
       "      <td>Adelie</td>\n",
       "      <td>Biscoe</td>\n",
       "      <td>40.6</td>\n",
       "      <td>18.6</td>\n",
       "      <td>183.0</td>\n",
       "      <td>3550.0</td>\n",
       "      <td>Male</td>\n",
       "    </tr>\n",
       "    <tr>\n",
       "      <th>23</th>\n",
       "      <td>Adelie</td>\n",
       "      <td>Biscoe</td>\n",
       "      <td>38.2</td>\n",
       "      <td>18.1</td>\n",
       "      <td>185.0</td>\n",
       "      <td>3950.0</td>\n",
       "      <td>Male</td>\n",
       "    </tr>\n",
       "    <tr>\n",
       "      <th>255</th>\n",
       "      <td>Gentoo</td>\n",
       "      <td>Biscoe</td>\n",
       "      <td>48.4</td>\n",
       "      <td>16.3</td>\n",
       "      <td>220.0</td>\n",
       "      <td>5400.0</td>\n",
       "      <td>Male</td>\n",
       "    </tr>\n",
       "    <tr>\n",
       "      <th>187</th>\n",
       "      <td>Chinstrap</td>\n",
       "      <td>Dream</td>\n",
       "      <td>47.5</td>\n",
       "      <td>16.8</td>\n",
       "      <td>199.0</td>\n",
       "      <td>3900.0</td>\n",
       "      <td>Female</td>\n",
       "    </tr>\n",
       "    <tr>\n",
       "      <th>191</th>\n",
       "      <td>Chinstrap</td>\n",
       "      <td>Dream</td>\n",
       "      <td>53.5</td>\n",
       "      <td>19.9</td>\n",
       "      <td>205.0</td>\n",
       "      <td>4500.0</td>\n",
       "      <td>Male</td>\n",
       "    </tr>\n",
       "    <tr>\n",
       "      <th>73</th>\n",
       "      <td>Adelie</td>\n",
       "      <td>Torgersen</td>\n",
       "      <td>45.8</td>\n",
       "      <td>18.9</td>\n",
       "      <td>197.0</td>\n",
       "      <td>4150.0</td>\n",
       "      <td>Male</td>\n",
       "    </tr>\n",
       "  </tbody>\n",
       "</table>\n",
       "</div>"
      ],
      "text/plain": [
       "       species     island  bill_length_mm  bill_depth_mm  flipper_length_mm   \n",
       "290     Gentoo     Biscoe            47.7           15.0              216.0  \\\n",
       "84      Adelie      Dream            37.3           17.8              191.0   \n",
       "325     Gentoo     Biscoe            46.8           16.1              215.0   \n",
       "265     Gentoo     Biscoe            43.6           13.9              217.0   \n",
       "26      Adelie     Biscoe            40.6           18.6              183.0   \n",
       "23      Adelie     Biscoe            38.2           18.1              185.0   \n",
       "255     Gentoo     Biscoe            48.4           16.3              220.0   \n",
       "187  Chinstrap      Dream            47.5           16.8              199.0   \n",
       "191  Chinstrap      Dream            53.5           19.9              205.0   \n",
       "73      Adelie  Torgersen            45.8           18.9              197.0   \n",
       "\n",
       "     body_mass_g     sex  \n",
       "290       4750.0  Female  \n",
       "84        3350.0  Female  \n",
       "325       5500.0    Male  \n",
       "265       4900.0  Female  \n",
       "26        3550.0    Male  \n",
       "23        3950.0    Male  \n",
       "255       5400.0    Male  \n",
       "187       3900.0  Female  \n",
       "191       4500.0    Male  \n",
       "73        4150.0    Male  "
      ]
     },
     "execution_count": 94,
     "metadata": {},
     "output_type": "execute_result"
    }
   ],
   "source": [
    "df.sample(10)"
   ]
  },
  {
   "cell_type": "code",
   "execution_count": 16,
   "id": "57d7a866",
   "metadata": {},
   "outputs": [],
   "source": [
    "models_list = [RandomForestClassifier(), DecisionTreeClassifier(), SVC(), LogisticRegression()]"
   ]
  },
  {
   "cell_type": "code",
   "execution_count": 17,
   "id": "22df15d9",
   "metadata": {},
   "outputs": [
    {
     "name": "stdout",
     "output_type": "stream",
     "text": [
      "model = RandomForestClassifier():\n",
      "              precision    recall  f1-score   support\n",
      "\n",
      "           0       1.00      1.00      1.00        30\n",
      "           1       1.00      1.00      1.00        14\n",
      "           2       1.00      1.00      1.00        25\n",
      "\n",
      "    accuracy                           1.00        69\n",
      "   macro avg       1.00      1.00      1.00        69\n",
      "weighted avg       1.00      1.00      1.00        69\n",
      "\n",
      "--------------------------------------------------\n",
      "model = DecisionTreeClassifier():\n",
      "              precision    recall  f1-score   support\n",
      "\n",
      "           0       1.00      1.00      1.00        30\n",
      "           1       1.00      1.00      1.00        14\n",
      "           2       1.00      1.00      1.00        25\n",
      "\n",
      "    accuracy                           1.00        69\n",
      "   macro avg       1.00      1.00      1.00        69\n",
      "weighted avg       1.00      1.00      1.00        69\n",
      "\n",
      "--------------------------------------------------\n",
      "model = SVC():\n",
      "              precision    recall  f1-score   support\n",
      "\n",
      "           0       1.00      1.00      1.00        30\n",
      "           1       1.00      1.00      1.00        14\n",
      "           2       1.00      1.00      1.00        25\n",
      "\n",
      "    accuracy                           1.00        69\n",
      "   macro avg       1.00      1.00      1.00        69\n",
      "weighted avg       1.00      1.00      1.00        69\n",
      "\n",
      "--------------------------------------------------\n",
      "model = LogisticRegression():\n",
      "              precision    recall  f1-score   support\n",
      "\n",
      "           0       1.00      1.00      1.00        30\n",
      "           1       1.00      1.00      1.00        14\n",
      "           2       1.00      1.00      1.00        25\n",
      "\n",
      "    accuracy                           1.00        69\n",
      "   macro avg       1.00      1.00      1.00        69\n",
      "weighted avg       1.00      1.00      1.00        69\n",
      "\n",
      "--------------------------------------------------\n"
     ]
    }
   ],
   "source": [
    "for model in models_list:\n",
    "    trained_model = build_model(X_train, y_train, model)\n",
    "    y_pred = trained_model.predict(X_test)\n",
    "    print(f'model = {model}:')\n",
    "    print(classification_report(y_test, y_pred))\n",
    "    print('-'*50)"
   ]
  },
  {
   "cell_type": "code",
   "execution_count": 27,
   "id": "99537a32",
   "metadata": {},
   "outputs": [
    {
     "data": {
      "text/plain": [
       "41.1"
      ]
     },
     "execution_count": 27,
     "metadata": {},
     "output_type": "execute_result"
    }
   ],
   "source": [
    "df['bill_length_mm'].mode()[0]"
   ]
  },
  {
   "cell_type": "code",
   "execution_count": 32,
   "id": "43220008",
   "metadata": {},
   "outputs": [
    {
     "data": {
      "text/plain": [
       "float"
      ]
     },
     "execution_count": 32,
     "metadata": {},
     "output_type": "execute_result"
    }
   ],
   "source": [
    "type(float(df['bill_length_mm'].min()))"
   ]
  },
  {
   "cell_type": "code",
   "execution_count": 29,
   "id": "872e800e",
   "metadata": {},
   "outputs": [
    {
     "data": {
      "text/plain": [
       "59.6"
      ]
     },
     "execution_count": 29,
     "metadata": {},
     "output_type": "execute_result"
    }
   ],
   "source": [
    "df['bill_length_mm'].max()"
   ]
  },
  {
   "cell_type": "code",
   "execution_count": null,
   "id": "dc7d0bd1",
   "metadata": {},
   "outputs": [],
   "source": []
  }
 ],
 "metadata": {
  "kernelspec": {
   "display_name": "Python 3 (ipykernel)",
   "language": "python",
   "name": "python3"
  },
  "language_info": {
   "codemirror_mode": {
    "name": "ipython",
    "version": 3
   },
   "file_extension": ".py",
   "mimetype": "text/x-python",
   "name": "python",
   "nbconvert_exporter": "python",
   "pygments_lexer": "ipython3",
   "version": "3.8.16"
  }
 },
 "nbformat": 4,
 "nbformat_minor": 5
}
